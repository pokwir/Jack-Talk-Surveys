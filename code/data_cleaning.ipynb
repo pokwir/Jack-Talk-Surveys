{
 "cells": [
  {
   "cell_type": "markdown",
   "metadata": {},
   "source": [
    "# Data Cleaning and Exploratory Data Analysis"
   ]
  },
  {
   "cell_type": "markdown",
   "metadata": {},
   "source": [
    "Setting the stage\n",
    "\n",
    "Load the datasets. "
   ]
  },
  {
   "cell_type": "code",
   "execution_count": 143,
   "metadata": {
    "vscode": {
     "languageId": "r"
    }
   },
   "outputs": [],
   "source": [
    "pre <- \"/Users/patrickokwir/Desktop/Lighthouse-data-notes/Jack-Talk-Surveys/datasets/CASE STUDY - Livestream pre FY23.csv\"\n",
    "post <- \"/Users/patrickokwir/Desktop/Lighthouse-data-notes/Jack-Talk-Surveys/datasets/CASE STUDY - Livestream post FY23.csv\""
   ]
  },
  {
   "cell_type": "code",
   "execution_count": 180,
   "metadata": {
    "vscode": {
     "languageId": "r"
    }
   },
   "outputs": [],
   "source": [
    "# load dfs from csv file\n",
    "library(readr)\n",
    "\n",
    "df_pre <- read.csv(pre, header = TRUE, sep = \",\")\n",
    "df_post <- read.csv(post, header = TRUE, sep = \",\")"
   ]
  },
  {
   "cell_type": "markdown",
   "metadata": {},
   "source": [
    "### The pre surveys cleaning "
   ]
  },
  {
   "cell_type": "code",
   "execution_count": 181,
   "metadata": {
    "vscode": {
     "languageId": "r"
    }
   },
   "outputs": [
    {
     "data": {
      "text/html": [
       "<table class=\"dataframe\">\n",
       "<caption>A data.frame: 6 × 7</caption>\n",
       "<thead>\n",
       "\t<tr><th></th><th scope=col>Finished</th><th scope=col>RecordedDate</th><th scope=col>Q1_a</th><th scope=col>Q2_a</th><th scope=col>Q3_a</th><th scope=col>Q4_a</th><th scope=col>id</th></tr>\n",
       "\t<tr><th></th><th scope=col>&lt;lgl&gt;</th><th scope=col>&lt;chr&gt;</th><th scope=col>&lt;chr&gt;</th><th scope=col>&lt;chr&gt;</th><th scope=col>&lt;chr&gt;</th><th scope=col>&lt;chr&gt;</th><th scope=col>&lt;chr&gt;</th></tr>\n",
       "</thead>\n",
       "<tbody>\n",
       "\t<tr><th scope=row>1</th><td>TRUE</td><td>2022-09-21 13:13</td><td>                          </td><td>                 </td><td>                          </td><td>                          </td><td>        </td></tr>\n",
       "\t<tr><th scope=row>2</th><td>TRUE</td><td>2022-09-21 13:14</td><td>Strongly disagree         </td><td>Agree            </td><td>Somewhat agree            </td><td>Agree                     </td><td>O_A_09_L</td></tr>\n",
       "\t<tr><th scope=row>3</th><td>TRUE</td><td>2022-09-21 13:14</td><td>Agree                     </td><td>Somewhat agree   </td><td>Neither agree nor disagree</td><td>Neither agree nor disagree</td><td>A_N_02_8</td></tr>\n",
       "\t<tr><th scope=row>4</th><td>TRUE</td><td>2022-09-21 13:15</td><td>Strongly disagree         </td><td>Strongly disagree</td><td>Somewhat agree            </td><td>Neither agree nor disagree</td><td>M_U_07_1</td></tr>\n",
       "\t<tr><th scope=row>5</th><td>TRUE</td><td>2022-09-21 13:15</td><td>Somewhat disagree         </td><td>Disagree         </td><td>Agree                     </td><td>Somewhat agree            </td><td>A_E_06_A</td></tr>\n",
       "\t<tr><th scope=row>6</th><td>TRUE</td><td>2022-09-21 13:16</td><td>Neither agree nor disagree</td><td>Agree            </td><td>Agree                     </td><td>Agree                     </td><td>Y_O_04_1</td></tr>\n",
       "</tbody>\n",
       "</table>\n"
      ],
      "text/latex": [
       "A data.frame: 6 × 7\n",
       "\\begin{tabular}{r|lllllll}\n",
       "  & Finished & RecordedDate & Q1\\_a & Q2\\_a & Q3\\_a & Q4\\_a & id\\\\\n",
       "  & <lgl> & <chr> & <chr> & <chr> & <chr> & <chr> & <chr>\\\\\n",
       "\\hline\n",
       "\t1 & TRUE & 2022-09-21 13:13 &                            &                   &                            &                            &         \\\\\n",
       "\t2 & TRUE & 2022-09-21 13:14 & Strongly disagree          & Agree             & Somewhat agree             & Agree                      & O\\_A\\_09\\_L\\\\\n",
       "\t3 & TRUE & 2022-09-21 13:14 & Agree                      & Somewhat agree    & Neither agree nor disagree & Neither agree nor disagree & A\\_N\\_02\\_8\\\\\n",
       "\t4 & TRUE & 2022-09-21 13:15 & Strongly disagree          & Strongly disagree & Somewhat agree             & Neither agree nor disagree & M\\_U\\_07\\_1\\\\\n",
       "\t5 & TRUE & 2022-09-21 13:15 & Somewhat disagree          & Disagree          & Agree                      & Somewhat agree             & A\\_E\\_06\\_A\\\\\n",
       "\t6 & TRUE & 2022-09-21 13:16 & Neither agree nor disagree & Agree             & Agree                      & Agree                      & Y\\_O\\_04\\_1\\\\\n",
       "\\end{tabular}\n"
      ],
      "text/markdown": [
       "\n",
       "A data.frame: 6 × 7\n",
       "\n",
       "| <!--/--> | Finished &lt;lgl&gt; | RecordedDate &lt;chr&gt; | Q1_a &lt;chr&gt; | Q2_a &lt;chr&gt; | Q3_a &lt;chr&gt; | Q4_a &lt;chr&gt; | id &lt;chr&gt; |\n",
       "|---|---|---|---|---|---|---|---|\n",
       "| 1 | TRUE | 2022-09-21 13:13 | <!----> | <!----> | <!----> | <!----> | <!----> |\n",
       "| 2 | TRUE | 2022-09-21 13:14 | Strongly disagree          | Agree             | Somewhat agree             | Agree                      | O_A_09_L |\n",
       "| 3 | TRUE | 2022-09-21 13:14 | Agree                      | Somewhat agree    | Neither agree nor disagree | Neither agree nor disagree | A_N_02_8 |\n",
       "| 4 | TRUE | 2022-09-21 13:15 | Strongly disagree          | Strongly disagree | Somewhat agree             | Neither agree nor disagree | M_U_07_1 |\n",
       "| 5 | TRUE | 2022-09-21 13:15 | Somewhat disagree          | Disagree          | Agree                      | Somewhat agree             | A_E_06_A |\n",
       "| 6 | TRUE | 2022-09-21 13:16 | Neither agree nor disagree | Agree             | Agree                      | Agree                      | Y_O_04_1 |\n",
       "\n"
      ],
      "text/plain": [
       "  Finished RecordedDate     Q1_a                       Q2_a             \n",
       "1 TRUE     2022-09-21 13:13                                             \n",
       "2 TRUE     2022-09-21 13:14 Strongly disagree          Agree            \n",
       "3 TRUE     2022-09-21 13:14 Agree                      Somewhat agree   \n",
       "4 TRUE     2022-09-21 13:15 Strongly disagree          Strongly disagree\n",
       "5 TRUE     2022-09-21 13:15 Somewhat disagree          Disagree         \n",
       "6 TRUE     2022-09-21 13:16 Neither agree nor disagree Agree            \n",
       "  Q3_a                       Q4_a                       id      \n",
       "1                                                               \n",
       "2 Somewhat agree             Agree                      O_A_09_L\n",
       "3 Neither agree nor disagree Neither agree nor disagree A_N_02_8\n",
       "4 Somewhat agree             Neither agree nor disagree M_U_07_1\n",
       "5 Agree                      Somewhat agree             A_E_06_A\n",
       "6 Agree                      Agree                      Y_O_04_1"
      ]
     },
     "metadata": {},
     "output_type": "display_data"
    }
   ],
   "source": [
    "#head df_pre\n",
    "head(df_pre)"
   ]
  },
  {
   "cell_type": "code",
   "execution_count": 182,
   "metadata": {
    "vscode": {
     "languageId": "r"
    }
   },
   "outputs": [
    {
     "data": {
      "text/html": [
       "<table class=\"dataframe\">\n",
       "<caption>A data.frame: 6 × 7</caption>\n",
       "<thead>\n",
       "\t<tr><th></th><th scope=col>Finished</th><th scope=col>RecordedDate</th><th scope=col>Q1_a</th><th scope=col>Q2_a</th><th scope=col>Q3_a</th><th scope=col>Q4_a</th><th scope=col>id</th></tr>\n",
       "\t<tr><th></th><th scope=col>&lt;lgl&gt;</th><th scope=col>&lt;chr&gt;</th><th scope=col>&lt;chr&gt;</th><th scope=col>&lt;chr&gt;</th><th scope=col>&lt;chr&gt;</th><th scope=col>&lt;chr&gt;</th><th scope=col>&lt;chr&gt;</th></tr>\n",
       "</thead>\n",
       "<tbody>\n",
       "\t<tr><th scope=row>17</th><td>FALSE</td><td>2022-09-22 13:11</td><td></td><td></td><td></td><td></td><td>        </td></tr>\n",
       "\t<tr><th scope=row>18</th><td>FALSE</td><td>2022-09-22 13:11</td><td></td><td></td><td></td><td></td><td>        </td></tr>\n",
       "\t<tr><th scope=row>19</th><td>FALSE</td><td>2022-09-22 13:12</td><td></td><td></td><td></td><td></td><td>        </td></tr>\n",
       "\t<tr><th scope=row>20</th><td>FALSE</td><td>2022-09-22 13:12</td><td></td><td></td><td></td><td></td><td>L_T_12_A</td></tr>\n",
       "\t<tr><th scope=row>21</th><td>FALSE</td><td>2022-09-22 13:12</td><td></td><td></td><td></td><td></td><td>        </td></tr>\n",
       "\t<tr><th scope=row>22</th><td>FALSE</td><td>2022-09-22 13:12</td><td></td><td></td><td></td><td></td><td>        </td></tr>\n",
       "</tbody>\n",
       "</table>\n"
      ],
      "text/latex": [
       "A data.frame: 6 × 7\n",
       "\\begin{tabular}{r|lllllll}\n",
       "  & Finished & RecordedDate & Q1\\_a & Q2\\_a & Q3\\_a & Q4\\_a & id\\\\\n",
       "  & <lgl> & <chr> & <chr> & <chr> & <chr> & <chr> & <chr>\\\\\n",
       "\\hline\n",
       "\t17 & FALSE & 2022-09-22 13:11 &  &  &  &  &         \\\\\n",
       "\t18 & FALSE & 2022-09-22 13:11 &  &  &  &  &         \\\\\n",
       "\t19 & FALSE & 2022-09-22 13:12 &  &  &  &  &         \\\\\n",
       "\t20 & FALSE & 2022-09-22 13:12 &  &  &  &  & L\\_T\\_12\\_A\\\\\n",
       "\t21 & FALSE & 2022-09-22 13:12 &  &  &  &  &         \\\\\n",
       "\t22 & FALSE & 2022-09-22 13:12 &  &  &  &  &         \\\\\n",
       "\\end{tabular}\n"
      ],
      "text/markdown": [
       "\n",
       "A data.frame: 6 × 7\n",
       "\n",
       "| <!--/--> | Finished &lt;lgl&gt; | RecordedDate &lt;chr&gt; | Q1_a &lt;chr&gt; | Q2_a &lt;chr&gt; | Q3_a &lt;chr&gt; | Q4_a &lt;chr&gt; | id &lt;chr&gt; |\n",
       "|---|---|---|---|---|---|---|---|\n",
       "| 17 | FALSE | 2022-09-22 13:11 | <!----> | <!----> | <!----> | <!----> | <!----> |\n",
       "| 18 | FALSE | 2022-09-22 13:11 | <!----> | <!----> | <!----> | <!----> | <!----> |\n",
       "| 19 | FALSE | 2022-09-22 13:12 | <!----> | <!----> | <!----> | <!----> | <!----> |\n",
       "| 20 | FALSE | 2022-09-22 13:12 | <!----> | <!----> | <!----> | <!----> | L_T_12_A |\n",
       "| 21 | FALSE | 2022-09-22 13:12 | <!----> | <!----> | <!----> | <!----> | <!----> |\n",
       "| 22 | FALSE | 2022-09-22 13:12 | <!----> | <!----> | <!----> | <!----> | <!----> |\n",
       "\n"
      ],
      "text/plain": [
       "   Finished RecordedDate     Q1_a Q2_a Q3_a Q4_a id      \n",
       "17 FALSE    2022-09-22 13:11                             \n",
       "18 FALSE    2022-09-22 13:11                             \n",
       "19 FALSE    2022-09-22 13:12                             \n",
       "20 FALSE    2022-09-22 13:12                     L_T_12_A\n",
       "21 FALSE    2022-09-22 13:12                             \n",
       "22 FALSE    2022-09-22 13:12                             "
      ]
     },
     "metadata": {},
     "output_type": "display_data"
    }
   ],
   "source": [
    "# return rows where finished = False\n",
    "head(df_pre[df_pre$Finished == FALSE, ])"
   ]
  },
  {
   "cell_type": "markdown",
   "metadata": {},
   "source": [
    ">>1. Remove incomplete responses from df_pre. These are rows where column 'Finished' = False."
   ]
  },
  {
   "cell_type": "code",
   "execution_count": 183,
   "metadata": {
    "vscode": {
     "languageId": "r"
    }
   },
   "outputs": [
    {
     "data": {
      "text/html": [
       "2878"
      ],
      "text/latex": [
       "2878"
      ],
      "text/markdown": [
       "2878"
      ],
      "text/plain": [
       "[1] 2878"
      ]
     },
     "metadata": {},
     "output_type": "display_data"
    },
    {
     "name": "stdout",
     "output_type": "stream",
     "text": [
      "There are: 2878 incomplete responses in df_pre. These will be removed from the dataframe. \n"
     ]
    }
   ],
   "source": [
    "# Remove incomplete responses from df_pre. These are rows where column 'Finished' = False.\n",
    "\n",
    "# remove rows from df_pre where column Finished = False\n",
    "# count rows where column Finished = False\n",
    "count_false_finished <- sum(df_pre$Finished == FALSE)\n",
    "count_false_finished\n",
    "cat(\"There are:\", count_false_finished, \"incomplete responses in df_pre. These will be removed from the dataframe. \\n\")"
   ]
  },
  {
   "cell_type": "markdown",
   "metadata": {},
   "source": [
    "`There are 2,878 responses not completed.`"
   ]
  },
  {
   "cell_type": "code",
   "execution_count": 184,
   "metadata": {
    "vscode": {
     "languageId": "r"
    }
   },
   "outputs": [
    {
     "data": {
      "text/html": [
       "0"
      ],
      "text/latex": [
       "0"
      ],
      "text/markdown": [
       "0"
      ],
      "text/plain": [
       "[1] 0"
      ]
     },
     "metadata": {},
     "output_type": "display_data"
    },
    {
     "name": "stdout",
     "output_type": "stream",
     "text": [
      "8047 responses are marked as finished."
     ]
    }
   ],
   "source": [
    "# Remove rows where the user did not finish the survey\n",
    "df_pre <- df_pre[df_pre$Finished != FALSE, ]\n",
    "count_false_finished <- nrow(df_pre[df_pre$Finished == FALSE, ])\n",
    "count_true_finished <- nrow(df_pre[df_pre$Finished != FALSE, ])\n",
    "\n",
    "count_false_finished\n",
    "cat(count_true_finished, \"responses are marked as finished.\")"
   ]
  },
  {
   "cell_type": "code",
   "execution_count": 185,
   "metadata": {
    "vscode": {
     "languageId": "r"
    }
   },
   "outputs": [
    {
     "data": {
      "text/html": [
       "<table class=\"dataframe\">\n",
       "<caption>A data.frame: 6 × 7</caption>\n",
       "<thead>\n",
       "\t<tr><th></th><th scope=col>Finished</th><th scope=col>RecordedDate</th><th scope=col>Q1_a</th><th scope=col>Q2_a</th><th scope=col>Q3_a</th><th scope=col>Q4_a</th><th scope=col>id</th></tr>\n",
       "\t<tr><th></th><th scope=col>&lt;lgl&gt;</th><th scope=col>&lt;chr&gt;</th><th scope=col>&lt;chr&gt;</th><th scope=col>&lt;chr&gt;</th><th scope=col>&lt;chr&gt;</th><th scope=col>&lt;chr&gt;</th><th scope=col>&lt;chr&gt;</th></tr>\n",
       "</thead>\n",
       "<tbody>\n",
       "\t<tr><th scope=row>1</th><td>TRUE</td><td>2022-09-21 13:13</td><td>                          </td><td>                 </td><td>                          </td><td>                          </td><td>        </td></tr>\n",
       "\t<tr><th scope=row>2</th><td>TRUE</td><td>2022-09-21 13:14</td><td>Strongly disagree         </td><td>Agree            </td><td>Somewhat agree            </td><td>Agree                     </td><td>O_A_09_L</td></tr>\n",
       "\t<tr><th scope=row>3</th><td>TRUE</td><td>2022-09-21 13:14</td><td>Agree                     </td><td>Somewhat agree   </td><td>Neither agree nor disagree</td><td>Neither agree nor disagree</td><td>A_N_02_8</td></tr>\n",
       "\t<tr><th scope=row>4</th><td>TRUE</td><td>2022-09-21 13:15</td><td>Strongly disagree         </td><td>Strongly disagree</td><td>Somewhat agree            </td><td>Neither agree nor disagree</td><td>M_U_07_1</td></tr>\n",
       "\t<tr><th scope=row>5</th><td>TRUE</td><td>2022-09-21 13:15</td><td>Somewhat disagree         </td><td>Disagree         </td><td>Agree                     </td><td>Somewhat agree            </td><td>A_E_06_A</td></tr>\n",
       "\t<tr><th scope=row>6</th><td>TRUE</td><td>2022-09-21 13:16</td><td>Neither agree nor disagree</td><td>Agree            </td><td>Agree                     </td><td>Agree                     </td><td>Y_O_04_1</td></tr>\n",
       "</tbody>\n",
       "</table>\n"
      ],
      "text/latex": [
       "A data.frame: 6 × 7\n",
       "\\begin{tabular}{r|lllllll}\n",
       "  & Finished & RecordedDate & Q1\\_a & Q2\\_a & Q3\\_a & Q4\\_a & id\\\\\n",
       "  & <lgl> & <chr> & <chr> & <chr> & <chr> & <chr> & <chr>\\\\\n",
       "\\hline\n",
       "\t1 & TRUE & 2022-09-21 13:13 &                            &                   &                            &                            &         \\\\\n",
       "\t2 & TRUE & 2022-09-21 13:14 & Strongly disagree          & Agree             & Somewhat agree             & Agree                      & O\\_A\\_09\\_L\\\\\n",
       "\t3 & TRUE & 2022-09-21 13:14 & Agree                      & Somewhat agree    & Neither agree nor disagree & Neither agree nor disagree & A\\_N\\_02\\_8\\\\\n",
       "\t4 & TRUE & 2022-09-21 13:15 & Strongly disagree          & Strongly disagree & Somewhat agree             & Neither agree nor disagree & M\\_U\\_07\\_1\\\\\n",
       "\t5 & TRUE & 2022-09-21 13:15 & Somewhat disagree          & Disagree          & Agree                      & Somewhat agree             & A\\_E\\_06\\_A\\\\\n",
       "\t6 & TRUE & 2022-09-21 13:16 & Neither agree nor disagree & Agree             & Agree                      & Agree                      & Y\\_O\\_04\\_1\\\\\n",
       "\\end{tabular}\n"
      ],
      "text/markdown": [
       "\n",
       "A data.frame: 6 × 7\n",
       "\n",
       "| <!--/--> | Finished &lt;lgl&gt; | RecordedDate &lt;chr&gt; | Q1_a &lt;chr&gt; | Q2_a &lt;chr&gt; | Q3_a &lt;chr&gt; | Q4_a &lt;chr&gt; | id &lt;chr&gt; |\n",
       "|---|---|---|---|---|---|---|---|\n",
       "| 1 | TRUE | 2022-09-21 13:13 | <!----> | <!----> | <!----> | <!----> | <!----> |\n",
       "| 2 | TRUE | 2022-09-21 13:14 | Strongly disagree          | Agree             | Somewhat agree             | Agree                      | O_A_09_L |\n",
       "| 3 | TRUE | 2022-09-21 13:14 | Agree                      | Somewhat agree    | Neither agree nor disagree | Neither agree nor disagree | A_N_02_8 |\n",
       "| 4 | TRUE | 2022-09-21 13:15 | Strongly disagree          | Strongly disagree | Somewhat agree             | Neither agree nor disagree | M_U_07_1 |\n",
       "| 5 | TRUE | 2022-09-21 13:15 | Somewhat disagree          | Disagree          | Agree                      | Somewhat agree             | A_E_06_A |\n",
       "| 6 | TRUE | 2022-09-21 13:16 | Neither agree nor disagree | Agree             | Agree                      | Agree                      | Y_O_04_1 |\n",
       "\n"
      ],
      "text/plain": [
       "  Finished RecordedDate     Q1_a                       Q2_a             \n",
       "1 TRUE     2022-09-21 13:13                                             \n",
       "2 TRUE     2022-09-21 13:14 Strongly disagree          Agree            \n",
       "3 TRUE     2022-09-21 13:14 Agree                      Somewhat agree   \n",
       "4 TRUE     2022-09-21 13:15 Strongly disagree          Strongly disagree\n",
       "5 TRUE     2022-09-21 13:15 Somewhat disagree          Disagree         \n",
       "6 TRUE     2022-09-21 13:16 Neither agree nor disagree Agree            \n",
       "  Q3_a                       Q4_a                       id      \n",
       "1                                                               \n",
       "2 Somewhat agree             Agree                      O_A_09_L\n",
       "3 Neither agree nor disagree Neither agree nor disagree A_N_02_8\n",
       "4 Somewhat agree             Neither agree nor disagree M_U_07_1\n",
       "5 Agree                      Somewhat agree             A_E_06_A\n",
       "6 Agree                      Agree                      Y_O_04_1"
      ]
     },
     "metadata": {},
     "output_type": "display_data"
    }
   ],
   "source": [
    "head(df_pre)"
   ]
  },
  {
   "cell_type": "markdown",
   "metadata": {},
   "source": [
    "`There are 8047 datapoints indicated as complete, there are still datapoints indicated as 'finished' that are not complete.\n",
    "we have to remove the incomplete datapoints.`"
   ]
  },
  {
   "cell_type": "code",
   "execution_count": 191,
   "metadata": {
    "vscode": {
     "languageId": "r"
    }
   },
   "outputs": [
    {
     "data": {
      "text/html": [
       "<table class=\"dataframe\">\n",
       "<caption>A data.frame: 6 × 7</caption>\n",
       "<thead>\n",
       "\t<tr><th></th><th scope=col>Finished</th><th scope=col>RecordedDate</th><th scope=col>Q1_a</th><th scope=col>Q2_a</th><th scope=col>Q3_a</th><th scope=col>Q4_a</th><th scope=col>id</th></tr>\n",
       "\t<tr><th></th><th scope=col>&lt;lgl&gt;</th><th scope=col>&lt;chr&gt;</th><th scope=col>&lt;chr&gt;</th><th scope=col>&lt;chr&gt;</th><th scope=col>&lt;chr&gt;</th><th scope=col>&lt;chr&gt;</th><th scope=col>&lt;chr&gt;</th></tr>\n",
       "</thead>\n",
       "<tbody>\n",
       "\t<tr><th scope=row>1</th><td>TRUE</td><td>2022-09-21 13:13</td><td></td><td></td><td></td><td></td><td></td></tr>\n",
       "\t<tr><th scope=row>2</th><td>TRUE</td><td>2022-10-03 9:08 </td><td></td><td></td><td></td><td></td><td></td></tr>\n",
       "\t<tr><th scope=row>3</th><td>TRUE</td><td>2022-10-03 9:09 </td><td></td><td></td><td></td><td></td><td></td></tr>\n",
       "\t<tr><th scope=row>4</th><td>TRUE</td><td>2022-10-03 9:11 </td><td></td><td></td><td></td><td></td><td></td></tr>\n",
       "\t<tr><th scope=row>5</th><td>TRUE</td><td>2022-10-03 9:14 </td><td></td><td></td><td></td><td></td><td></td></tr>\n",
       "\t<tr><th scope=row>6</th><td>TRUE</td><td>2022-10-03 9:14 </td><td></td><td></td><td></td><td></td><td></td></tr>\n",
       "</tbody>\n",
       "</table>\n"
      ],
      "text/latex": [
       "A data.frame: 6 × 7\n",
       "\\begin{tabular}{r|lllllll}\n",
       "  & Finished & RecordedDate & Q1\\_a & Q2\\_a & Q3\\_a & Q4\\_a & id\\\\\n",
       "  & <lgl> & <chr> & <chr> & <chr> & <chr> & <chr> & <chr>\\\\\n",
       "\\hline\n",
       "\t1 & TRUE & 2022-09-21 13:13 &  &  &  &  & \\\\\n",
       "\t2 & TRUE & 2022-10-03 9:08  &  &  &  &  & \\\\\n",
       "\t3 & TRUE & 2022-10-03 9:09  &  &  &  &  & \\\\\n",
       "\t4 & TRUE & 2022-10-03 9:11  &  &  &  &  & \\\\\n",
       "\t5 & TRUE & 2022-10-03 9:14  &  &  &  &  & \\\\\n",
       "\t6 & TRUE & 2022-10-03 9:14  &  &  &  &  & \\\\\n",
       "\\end{tabular}\n"
      ],
      "text/markdown": [
       "\n",
       "A data.frame: 6 × 7\n",
       "\n",
       "| <!--/--> | Finished &lt;lgl&gt; | RecordedDate &lt;chr&gt; | Q1_a &lt;chr&gt; | Q2_a &lt;chr&gt; | Q3_a &lt;chr&gt; | Q4_a &lt;chr&gt; | id &lt;chr&gt; |\n",
       "|---|---|---|---|---|---|---|---|\n",
       "| 1 | TRUE | 2022-09-21 13:13 | <!----> | <!----> | <!----> | <!----> | <!----> |\n",
       "| 2 | TRUE | 2022-10-03 9:08  | <!----> | <!----> | <!----> | <!----> | <!----> |\n",
       "| 3 | TRUE | 2022-10-03 9:09  | <!----> | <!----> | <!----> | <!----> | <!----> |\n",
       "| 4 | TRUE | 2022-10-03 9:11  | <!----> | <!----> | <!----> | <!----> | <!----> |\n",
       "| 5 | TRUE | 2022-10-03 9:14  | <!----> | <!----> | <!----> | <!----> | <!----> |\n",
       "| 6 | TRUE | 2022-10-03 9:14  | <!----> | <!----> | <!----> | <!----> | <!----> |\n",
       "\n"
      ],
      "text/plain": [
       "  Finished RecordedDate     Q1_a Q2_a Q3_a Q4_a id\n",
       "1 TRUE     2022-09-21 13:13                       \n",
       "2 TRUE     2022-10-03 9:08                        \n",
       "3 TRUE     2022-10-03 9:09                        \n",
       "4 TRUE     2022-10-03 9:11                        \n",
       "5 TRUE     2022-10-03 9:14                        \n",
       "6 TRUE     2022-10-03 9:14                        "
      ]
     },
     "metadata": {},
     "output_type": "display_data"
    },
    {
     "name": "stdout",
     "output_type": "stream",
     "text": [
      "There are:  582  all blank rows in the dataset"
     ]
    }
   ],
   "source": [
    "library(dplyr)\n",
    "\n",
    "# Filter rows where at least one of the specified columns is blank\n",
    "blank_rows <- df_pre %>%\n",
    "  filter(Q1_a == \"\" |\n",
    "         Q2_a == \"\" |\n",
    "         Q3_a == \"\" |\n",
    "         Q4_a == \"\" |\n",
    "         id == \"\")\n",
    "\n",
    "# Filter rows where all of the specified columns are not blank\n",
    "head(blank_rows)\n",
    "#count rows\n",
    "count_blank_rows <- nrow(blank_rows)\n",
    "cat(\"There are: \", count_blank_rows, \" all blank rows in the dataset\")"
   ]
  },
  {
   "cell_type": "markdown",
   "metadata": {},
   "source": [
    "`There are 7574 responses in the dataset that would be considered complete.`\n",
    "\n",
    "```python"
   ]
  },
  {
   "cell_type": "markdown",
   "metadata": {},
   "source": [
    ">> 2. remove duplicate responses, keep only most recent response for each survey"
   ]
  },
  {
   "cell_type": "code",
   "execution_count": 192,
   "metadata": {
    "vscode": {
     "languageId": "r"
    }
   },
   "outputs": [
    {
     "data": {
      "text/html": [
       "<table class=\"dataframe\">\n",
       "<caption>A data.frame: 6 × 7</caption>\n",
       "<thead>\n",
       "\t<tr><th></th><th scope=col>Finished</th><th scope=col>RecordedDate</th><th scope=col>Q1_a</th><th scope=col>Q2_a</th><th scope=col>Q3_a</th><th scope=col>Q4_a</th><th scope=col>id</th></tr>\n",
       "\t<tr><th></th><th scope=col>&lt;lgl&gt;</th><th scope=col>&lt;chr&gt;</th><th scope=col>&lt;chr&gt;</th><th scope=col>&lt;chr&gt;</th><th scope=col>&lt;chr&gt;</th><th scope=col>&lt;chr&gt;</th><th scope=col>&lt;chr&gt;</th></tr>\n",
       "</thead>\n",
       "<tbody>\n",
       "\t<tr><th scope=row>1</th><td>TRUE</td><td>2022-09-21 13:14</td><td>Strongly disagree         </td><td>Agree            </td><td>Somewhat agree            </td><td>Agree                     </td><td>O_A_09_L</td></tr>\n",
       "\t<tr><th scope=row>2</th><td>TRUE</td><td>2022-09-21 13:14</td><td>Agree                     </td><td>Somewhat agree   </td><td>Neither agree nor disagree</td><td>Neither agree nor disagree</td><td>A_N_02_8</td></tr>\n",
       "\t<tr><th scope=row>3</th><td>TRUE</td><td>2022-09-21 13:15</td><td>Strongly disagree         </td><td>Strongly disagree</td><td>Somewhat agree            </td><td>Neither agree nor disagree</td><td>M_U_07_1</td></tr>\n",
       "\t<tr><th scope=row>4</th><td>TRUE</td><td>2022-09-21 13:15</td><td>Somewhat disagree         </td><td>Disagree         </td><td>Agree                     </td><td>Somewhat agree            </td><td>A_E_06_A</td></tr>\n",
       "\t<tr><th scope=row>5</th><td>TRUE</td><td>2022-09-21 13:16</td><td>Neither agree nor disagree</td><td>Agree            </td><td>Agree                     </td><td>Agree                     </td><td>Y_O_04_1</td></tr>\n",
       "\t<tr><th scope=row>6</th><td>TRUE</td><td>2022-09-21 13:16</td><td>Agree                     </td><td>Agree            </td><td>Somewhat agree            </td><td>Somewhat agree            </td><td>A_Y_06_A</td></tr>\n",
       "</tbody>\n",
       "</table>\n"
      ],
      "text/latex": [
       "A data.frame: 6 × 7\n",
       "\\begin{tabular}{r|lllllll}\n",
       "  & Finished & RecordedDate & Q1\\_a & Q2\\_a & Q3\\_a & Q4\\_a & id\\\\\n",
       "  & <lgl> & <chr> & <chr> & <chr> & <chr> & <chr> & <chr>\\\\\n",
       "\\hline\n",
       "\t1 & TRUE & 2022-09-21 13:14 & Strongly disagree          & Agree             & Somewhat agree             & Agree                      & O\\_A\\_09\\_L\\\\\n",
       "\t2 & TRUE & 2022-09-21 13:14 & Agree                      & Somewhat agree    & Neither agree nor disagree & Neither agree nor disagree & A\\_N\\_02\\_8\\\\\n",
       "\t3 & TRUE & 2022-09-21 13:15 & Strongly disagree          & Strongly disagree & Somewhat agree             & Neither agree nor disagree & M\\_U\\_07\\_1\\\\\n",
       "\t4 & TRUE & 2022-09-21 13:15 & Somewhat disagree          & Disagree          & Agree                      & Somewhat agree             & A\\_E\\_06\\_A\\\\\n",
       "\t5 & TRUE & 2022-09-21 13:16 & Neither agree nor disagree & Agree             & Agree                      & Agree                      & Y\\_O\\_04\\_1\\\\\n",
       "\t6 & TRUE & 2022-09-21 13:16 & Agree                      & Agree             & Somewhat agree             & Somewhat agree             & A\\_Y\\_06\\_A\\\\\n",
       "\\end{tabular}\n"
      ],
      "text/markdown": [
       "\n",
       "A data.frame: 6 × 7\n",
       "\n",
       "| <!--/--> | Finished &lt;lgl&gt; | RecordedDate &lt;chr&gt; | Q1_a &lt;chr&gt; | Q2_a &lt;chr&gt; | Q3_a &lt;chr&gt; | Q4_a &lt;chr&gt; | id &lt;chr&gt; |\n",
       "|---|---|---|---|---|---|---|---|\n",
       "| 1 | TRUE | 2022-09-21 13:14 | Strongly disagree          | Agree             | Somewhat agree             | Agree                      | O_A_09_L |\n",
       "| 2 | TRUE | 2022-09-21 13:14 | Agree                      | Somewhat agree    | Neither agree nor disagree | Neither agree nor disagree | A_N_02_8 |\n",
       "| 3 | TRUE | 2022-09-21 13:15 | Strongly disagree          | Strongly disagree | Somewhat agree             | Neither agree nor disagree | M_U_07_1 |\n",
       "| 4 | TRUE | 2022-09-21 13:15 | Somewhat disagree          | Disagree          | Agree                      | Somewhat agree             | A_E_06_A |\n",
       "| 5 | TRUE | 2022-09-21 13:16 | Neither agree nor disagree | Agree             | Agree                      | Agree                      | Y_O_04_1 |\n",
       "| 6 | TRUE | 2022-09-21 13:16 | Agree                      | Agree             | Somewhat agree             | Somewhat agree             | A_Y_06_A |\n",
       "\n"
      ],
      "text/plain": [
       "  Finished RecordedDate     Q1_a                       Q2_a             \n",
       "1 TRUE     2022-09-21 13:14 Strongly disagree          Agree            \n",
       "2 TRUE     2022-09-21 13:14 Agree                      Somewhat agree   \n",
       "3 TRUE     2022-09-21 13:15 Strongly disagree          Strongly disagree\n",
       "4 TRUE     2022-09-21 13:15 Somewhat disagree          Disagree         \n",
       "5 TRUE     2022-09-21 13:16 Neither agree nor disagree Agree            \n",
       "6 TRUE     2022-09-21 13:16 Agree                      Agree            \n",
       "  Q3_a                       Q4_a                       id      \n",
       "1 Somewhat agree             Agree                      O_A_09_L\n",
       "2 Neither agree nor disagree Neither agree nor disagree A_N_02_8\n",
       "3 Somewhat agree             Neither agree nor disagree M_U_07_1\n",
       "4 Agree                      Somewhat agree             A_E_06_A\n",
       "5 Agree                      Agree                      Y_O_04_1\n",
       "6 Somewhat agree             Somewhat agree             A_Y_06_A"
      ]
     },
     "metadata": {},
     "output_type": "display_data"
    }
   ],
   "source": [
    "# set df_pre to subset with non-blank rows\n",
    "df_pre <- df_pre %>%\n",
    "  filter(!(Q1_a == \"\" |\n",
    "         Q2_a == \"\" |\n",
    "         Q3_a == \"\" |\n",
    "         Q4_a == \"\" |\n",
    "         id == \"\"))\n",
    "\n",
    "head(df_pre)"
   ]
  },
  {
   "cell_type": "code",
   "execution_count": 198,
   "metadata": {
    "vscode": {
     "languageId": "r"
    }
   },
   "outputs": [
    {
     "data": {
      "text/html": [
       "<table class=\"dataframe\">\n",
       "<caption>A data.frame: 0 × 7</caption>\n",
       "<thead>\n",
       "\t<tr><th scope=col>Finished</th><th scope=col>RecordedDate</th><th scope=col>Q1_a</th><th scope=col>Q2_a</th><th scope=col>Q3_a</th><th scope=col>Q4_a</th><th scope=col>id</th></tr>\n",
       "\t<tr><th scope=col>&lt;lgl&gt;</th><th scope=col>&lt;chr&gt;</th><th scope=col>&lt;chr&gt;</th><th scope=col>&lt;chr&gt;</th><th scope=col>&lt;chr&gt;</th><th scope=col>&lt;chr&gt;</th><th scope=col>&lt;chr&gt;</th></tr>\n",
       "</thead>\n",
       "<tbody>\n",
       "</tbody>\n",
       "</table>\n"
      ],
      "text/latex": [
       "A data.frame: 0 × 7\n",
       "\\begin{tabular}{lllllll}\n",
       " Finished & RecordedDate & Q1\\_a & Q2\\_a & Q3\\_a & Q4\\_a & id\\\\\n",
       " <lgl> & <chr> & <chr> & <chr> & <chr> & <chr> & <chr>\\\\\n",
       "\\hline\n",
       "\\end{tabular}\n"
      ],
      "text/markdown": [
       "\n",
       "A data.frame: 0 × 7\n",
       "\n",
       "| Finished &lt;lgl&gt; | RecordedDate &lt;chr&gt; | Q1_a &lt;chr&gt; | Q2_a &lt;chr&gt; | Q3_a &lt;chr&gt; | Q4_a &lt;chr&gt; | id &lt;chr&gt; |\n",
       "|---|---|---|---|---|---|---|\n",
       "\n"
      ],
      "text/plain": [
       "     Finished RecordedDate Q1_a Q2_a Q3_a Q4_a id"
      ]
     },
     "metadata": {},
     "output_type": "display_data"
    }
   ],
   "source": [
    "# QC check\n",
    "# check if the data contains any missing values or empty strings in the subset of columns. \n",
    "qc_check <- df_pre %>%\n",
    "  filter(Q1_a == \"\" |\n",
    "         Q2_a == \"\" |\n",
    "         Q3_a == \"\" |\n",
    "         Q4_a == \"\" |\n",
    "         id == \"\")\n",
    "\n",
    "head(qc_check)"
   ]
  },
  {
   "cell_type": "code",
   "execution_count": 199,
   "metadata": {
    "vscode": {
     "languageId": "r"
    }
   },
   "outputs": [],
   "source": [
    "library(dplyr)\n",
    "\n",
    "# Remove duplicates and keep most recent response for each data point\n",
    "unique_recent_responses <- df_pre %>%\n",
    "  arrange(id, desc(RecordedDate)) %>%\n",
    "  distinct(id, .keep_all = TRUE)\n"
   ]
  },
  {
   "cell_type": "code",
   "execution_count": 200,
   "metadata": {
    "vscode": {
     "languageId": "r"
    }
   },
   "outputs": [
    {
     "data": {
      "text/html": [
       "<table class=\"dataframe\">\n",
       "<caption>A data.frame: 6 × 7</caption>\n",
       "<thead>\n",
       "\t<tr><th></th><th scope=col>Finished</th><th scope=col>RecordedDate</th><th scope=col>Q1_a</th><th scope=col>Q2_a</th><th scope=col>Q3_a</th><th scope=col>Q4_a</th><th scope=col>id</th></tr>\n",
       "\t<tr><th></th><th scope=col>&lt;lgl&gt;</th><th scope=col>&lt;chr&gt;</th><th scope=col>&lt;chr&gt;</th><th scope=col>&lt;chr&gt;</th><th scope=col>&lt;chr&gt;</th><th scope=col>&lt;chr&gt;</th><th scope=col>&lt;chr&gt;</th></tr>\n",
       "</thead>\n",
       "<tbody>\n",
       "\t<tr><th scope=row>1</th><td>TRUE</td><td>2022-11-21 17:38</td><td>Agree                     </td><td>Neither agree nor disagree</td><td>Somewhat agree   </td><td>Somewhat agree   </td><td>._O_04_A</td></tr>\n",
       "\t<tr><th scope=row>2</th><td>TRUE</td><td>2023-05-01 12:23</td><td>Strongly disagree         </td><td>Strongly disagree         </td><td>Strongly disagree</td><td>Strongly disagree</td><td>6_9_02_L</td></tr>\n",
       "\t<tr><th scope=row>3</th><td>TRUE</td><td>2023-05-30 8:49 </td><td>Disagree                  </td><td>Disagree                  </td><td>Disagree         </td><td>Disagree         </td><td>6_9_12_L</td></tr>\n",
       "\t<tr><th scope=row>4</th><td>TRUE</td><td>2023-01-25 9:08 </td><td>Strongly disagree         </td><td>Strongly disagree         </td><td>Strongly disagree</td><td>Strongly disagree</td><td>:_!_09_K</td></tr>\n",
       "\t<tr><th scope=row>5</th><td>TRUE</td><td>2023-05-15 14:05</td><td>Agree                     </td><td>Agree                     </td><td>Agree            </td><td>Agree            </td><td>A_A_01_A</td></tr>\n",
       "\t<tr><th scope=row>6</th><td>TRUE</td><td>2023-05-18 9:31 </td><td>Neither agree nor disagree</td><td>Disagree                  </td><td>Agree            </td><td>Strongly agree   </td><td>A_A_01_B</td></tr>\n",
       "</tbody>\n",
       "</table>\n"
      ],
      "text/latex": [
       "A data.frame: 6 × 7\n",
       "\\begin{tabular}{r|lllllll}\n",
       "  & Finished & RecordedDate & Q1\\_a & Q2\\_a & Q3\\_a & Q4\\_a & id\\\\\n",
       "  & <lgl> & <chr> & <chr> & <chr> & <chr> & <chr> & <chr>\\\\\n",
       "\\hline\n",
       "\t1 & TRUE & 2022-11-21 17:38 & Agree                      & Neither agree nor disagree & Somewhat agree    & Somewhat agree    & .\\_O\\_04\\_A\\\\\n",
       "\t2 & TRUE & 2023-05-01 12:23 & Strongly disagree          & Strongly disagree          & Strongly disagree & Strongly disagree & 6\\_9\\_02\\_L\\\\\n",
       "\t3 & TRUE & 2023-05-30 8:49  & Disagree                   & Disagree                   & Disagree          & Disagree          & 6\\_9\\_12\\_L\\\\\n",
       "\t4 & TRUE & 2023-01-25 9:08  & Strongly disagree          & Strongly disagree          & Strongly disagree & Strongly disagree & :\\_!\\_09\\_K\\\\\n",
       "\t5 & TRUE & 2023-05-15 14:05 & Agree                      & Agree                      & Agree             & Agree             & A\\_A\\_01\\_A\\\\\n",
       "\t6 & TRUE & 2023-05-18 9:31  & Neither agree nor disagree & Disagree                   & Agree             & Strongly agree    & A\\_A\\_01\\_B\\\\\n",
       "\\end{tabular}\n"
      ],
      "text/markdown": [
       "\n",
       "A data.frame: 6 × 7\n",
       "\n",
       "| <!--/--> | Finished &lt;lgl&gt; | RecordedDate &lt;chr&gt; | Q1_a &lt;chr&gt; | Q2_a &lt;chr&gt; | Q3_a &lt;chr&gt; | Q4_a &lt;chr&gt; | id &lt;chr&gt; |\n",
       "|---|---|---|---|---|---|---|---|\n",
       "| 1 | TRUE | 2022-11-21 17:38 | Agree                      | Neither agree nor disagree | Somewhat agree    | Somewhat agree    | ._O_04_A |\n",
       "| 2 | TRUE | 2023-05-01 12:23 | Strongly disagree          | Strongly disagree          | Strongly disagree | Strongly disagree | 6_9_02_L |\n",
       "| 3 | TRUE | 2023-05-30 8:49  | Disagree                   | Disagree                   | Disagree          | Disagree          | 6_9_12_L |\n",
       "| 4 | TRUE | 2023-01-25 9:08  | Strongly disagree          | Strongly disagree          | Strongly disagree | Strongly disagree | :_!_09_K |\n",
       "| 5 | TRUE | 2023-05-15 14:05 | Agree                      | Agree                      | Agree             | Agree             | A_A_01_A |\n",
       "| 6 | TRUE | 2023-05-18 9:31  | Neither agree nor disagree | Disagree                   | Agree             | Strongly agree    | A_A_01_B |\n",
       "\n"
      ],
      "text/plain": [
       "  Finished RecordedDate     Q1_a                      \n",
       "1 TRUE     2022-11-21 17:38 Agree                     \n",
       "2 TRUE     2023-05-01 12:23 Strongly disagree         \n",
       "3 TRUE     2023-05-30 8:49  Disagree                  \n",
       "4 TRUE     2023-01-25 9:08  Strongly disagree         \n",
       "5 TRUE     2023-05-15 14:05 Agree                     \n",
       "6 TRUE     2023-05-18 9:31  Neither agree nor disagree\n",
       "  Q2_a                       Q3_a              Q4_a              id      \n",
       "1 Neither agree nor disagree Somewhat agree    Somewhat agree    ._O_04_A\n",
       "2 Strongly disagree          Strongly disagree Strongly disagree 6_9_02_L\n",
       "3 Disagree                   Disagree          Disagree          6_9_12_L\n",
       "4 Strongly disagree          Strongly disagree Strongly disagree :_!_09_K\n",
       "5 Agree                      Agree             Agree             A_A_01_A\n",
       "6 Disagree                   Agree             Strongly agree    A_A_01_B"
      ]
     },
     "metadata": {},
     "output_type": "display_data"
    },
    {
     "name": "stdout",
     "output_type": "stream",
     "text": [
      "There are  6358 unduplicated records in the dataset"
     ]
    }
   ],
   "source": [
    "head(unique_recent_responses)\n",
    "cat (\"There are \", nrow(unique_recent_responses), \"unduplicated records in the dataset\")"
   ]
  },
  {
   "cell_type": "code",
   "execution_count": 201,
   "metadata": {
    "vscode": {
     "languageId": "r"
    }
   },
   "outputs": [],
   "source": [
    "# Export df_pre to a CSV file\n",
    "write.csv(df_pre, \"/Users/patrickokwir/Desktop/Lighthouse-data-notes/Jack-Talk-Surveys/data_output/df_pre.csv\", row.names = FALSE)"
   ]
  },
  {
   "cell_type": "markdown",
   "metadata": {},
   "source": [
    "### The post surveys cleaning "
   ]
  },
  {
   "cell_type": "code",
   "execution_count": 202,
   "metadata": {
    "vscode": {
     "languageId": "r"
    }
   },
   "outputs": [
    {
     "data": {
      "text/html": [
       "<table class=\"dataframe\">\n",
       "<caption>A data.frame: 6 × 11</caption>\n",
       "<thead>\n",
       "\t<tr><th></th><th scope=col>Finished</th><th scope=col>RecordedDate</th><th scope=col>Q1_b</th><th scope=col>Q2_b</th><th scope=col>Q3_b</th><th scope=col>Q4_b</th><th scope=col>Q5</th><th scope=col>Q6</th><th scope=col>Q7</th><th scope=col>Q8</th><th scope=col>id</th></tr>\n",
       "\t<tr><th></th><th scope=col>&lt;lgl&gt;</th><th scope=col>&lt;chr&gt;</th><th scope=col>&lt;chr&gt;</th><th scope=col>&lt;chr&gt;</th><th scope=col>&lt;chr&gt;</th><th scope=col>&lt;chr&gt;</th><th scope=col>&lt;chr&gt;</th><th scope=col>&lt;chr&gt;</th><th scope=col>&lt;chr&gt;</th><th scope=col>&lt;int&gt;</th><th scope=col>&lt;chr&gt;</th></tr>\n",
       "</thead>\n",
       "<tbody>\n",
       "\t<tr><th scope=row>1</th><td> TRUE</td><td>2022-09-21 13:55</td><td>Neither agree nor disagree</td><td>Somewhat agree</td><td>Agree                     </td><td>Somewhat agree            </td><td>Somewhat agree            </td><td>Somewhat agree            </td><td>Neither agree nor disagree</td><td> 5</td><td>A_E_06_A</td></tr>\n",
       "\t<tr><th scope=row>2</th><td> TRUE</td><td>2022-09-21 13:57</td><td>Somewhat agree            </td><td>Somewhat agree</td><td>Neither agree nor disagree</td><td>Neither agree nor disagree</td><td>Agree                     </td><td>Agree                     </td><td>                          </td><td> 5</td><td>I_K_10_1</td></tr>\n",
       "\t<tr><th scope=row>3</th><td> TRUE</td><td>2022-09-21 13:57</td><td>Agree                     </td><td>Disagree      </td><td>Somewhat agree            </td><td>Agree                     </td><td>Agree                     </td><td>Agree                     </td><td>Neither agree nor disagree</td><td> 7</td><td>A_N_09_D</td></tr>\n",
       "\t<tr><th scope=row>4</th><td> TRUE</td><td>2022-09-21 13:58</td><td>Agree                     </td><td>Disagree      </td><td>Strongly agree            </td><td>Strongly agree            </td><td>Neither agree nor disagree</td><td>Neither agree nor disagree</td><td>Neither agree nor disagree</td><td> 5</td><td>L_T_12_A</td></tr>\n",
       "\t<tr><th scope=row>5</th><td>FALSE</td><td>2022-09-24 13:14</td><td>                          </td><td>              </td><td>                          </td><td>                          </td><td>                          </td><td>                          </td><td>                          </td><td>NA</td><td>        </td></tr>\n",
       "\t<tr><th scope=row>6</th><td>FALSE</td><td>2022-09-24 13:16</td><td>                          </td><td>              </td><td>                          </td><td>                          </td><td>                          </td><td>                          </td><td>                          </td><td>NA</td><td>        </td></tr>\n",
       "</tbody>\n",
       "</table>\n"
      ],
      "text/latex": [
       "A data.frame: 6 × 11\n",
       "\\begin{tabular}{r|lllllllllll}\n",
       "  & Finished & RecordedDate & Q1\\_b & Q2\\_b & Q3\\_b & Q4\\_b & Q5 & Q6 & Q7 & Q8 & id\\\\\n",
       "  & <lgl> & <chr> & <chr> & <chr> & <chr> & <chr> & <chr> & <chr> & <chr> & <int> & <chr>\\\\\n",
       "\\hline\n",
       "\t1 &  TRUE & 2022-09-21 13:55 & Neither agree nor disagree & Somewhat agree & Agree                      & Somewhat agree             & Somewhat agree             & Somewhat agree             & Neither agree nor disagree &  5 & A\\_E\\_06\\_A\\\\\n",
       "\t2 &  TRUE & 2022-09-21 13:57 & Somewhat agree             & Somewhat agree & Neither agree nor disagree & Neither agree nor disagree & Agree                      & Agree                      &                            &  5 & I\\_K\\_10\\_1\\\\\n",
       "\t3 &  TRUE & 2022-09-21 13:57 & Agree                      & Disagree       & Somewhat agree             & Agree                      & Agree                      & Agree                      & Neither agree nor disagree &  7 & A\\_N\\_09\\_D\\\\\n",
       "\t4 &  TRUE & 2022-09-21 13:58 & Agree                      & Disagree       & Strongly agree             & Strongly agree             & Neither agree nor disagree & Neither agree nor disagree & Neither agree nor disagree &  5 & L\\_T\\_12\\_A\\\\\n",
       "\t5 & FALSE & 2022-09-24 13:14 &                            &                &                            &                            &                            &                            &                            & NA &         \\\\\n",
       "\t6 & FALSE & 2022-09-24 13:16 &                            &                &                            &                            &                            &                            &                            & NA &         \\\\\n",
       "\\end{tabular}\n"
      ],
      "text/markdown": [
       "\n",
       "A data.frame: 6 × 11\n",
       "\n",
       "| <!--/--> | Finished &lt;lgl&gt; | RecordedDate &lt;chr&gt; | Q1_b &lt;chr&gt; | Q2_b &lt;chr&gt; | Q3_b &lt;chr&gt; | Q4_b &lt;chr&gt; | Q5 &lt;chr&gt; | Q6 &lt;chr&gt; | Q7 &lt;chr&gt; | Q8 &lt;int&gt; | id &lt;chr&gt; |\n",
       "|---|---|---|---|---|---|---|---|---|---|---|---|\n",
       "| 1 |  TRUE | 2022-09-21 13:55 | Neither agree nor disagree | Somewhat agree | Agree                      | Somewhat agree             | Somewhat agree             | Somewhat agree             | Neither agree nor disagree |  5 | A_E_06_A |\n",
       "| 2 |  TRUE | 2022-09-21 13:57 | Somewhat agree             | Somewhat agree | Neither agree nor disagree | Neither agree nor disagree | Agree                      | Agree                      | <!----> |  5 | I_K_10_1 |\n",
       "| 3 |  TRUE | 2022-09-21 13:57 | Agree                      | Disagree       | Somewhat agree             | Agree                      | Agree                      | Agree                      | Neither agree nor disagree |  7 | A_N_09_D |\n",
       "| 4 |  TRUE | 2022-09-21 13:58 | Agree                      | Disagree       | Strongly agree             | Strongly agree             | Neither agree nor disagree | Neither agree nor disagree | Neither agree nor disagree |  5 | L_T_12_A |\n",
       "| 5 | FALSE | 2022-09-24 13:14 | <!----> | <!----> | <!----> | <!----> | <!----> | <!----> | <!----> | NA | <!----> |\n",
       "| 6 | FALSE | 2022-09-24 13:16 | <!----> | <!----> | <!----> | <!----> | <!----> | <!----> | <!----> | NA | <!----> |\n",
       "\n"
      ],
      "text/plain": [
       "  Finished RecordedDate     Q1_b                       Q2_b          \n",
       "1  TRUE    2022-09-21 13:55 Neither agree nor disagree Somewhat agree\n",
       "2  TRUE    2022-09-21 13:57 Somewhat agree             Somewhat agree\n",
       "3  TRUE    2022-09-21 13:57 Agree                      Disagree      \n",
       "4  TRUE    2022-09-21 13:58 Agree                      Disagree      \n",
       "5 FALSE    2022-09-24 13:14                                          \n",
       "6 FALSE    2022-09-24 13:16                                          \n",
       "  Q3_b                       Q4_b                      \n",
       "1 Agree                      Somewhat agree            \n",
       "2 Neither agree nor disagree Neither agree nor disagree\n",
       "3 Somewhat agree             Agree                     \n",
       "4 Strongly agree             Strongly agree            \n",
       "5                                                      \n",
       "6                                                      \n",
       "  Q5                         Q6                        \n",
       "1 Somewhat agree             Somewhat agree            \n",
       "2 Agree                      Agree                     \n",
       "3 Agree                      Agree                     \n",
       "4 Neither agree nor disagree Neither agree nor disagree\n",
       "5                                                      \n",
       "6                                                      \n",
       "  Q7                         Q8 id      \n",
       "1 Neither agree nor disagree  5 A_E_06_A\n",
       "2                             5 I_K_10_1\n",
       "3 Neither agree nor disagree  7 A_N_09_D\n",
       "4 Neither agree nor disagree  5 L_T_12_A\n",
       "5                            NA         \n",
       "6                            NA         "
      ]
     },
     "metadata": {},
     "output_type": "display_data"
    }
   ],
   "source": [
    "head(df_post)"
   ]
  },
  {
   "cell_type": "markdown",
   "metadata": {},
   "source": [
    ">>1. Remove incomplete responses from df_post. These are rows where column 'Finished' = False."
   ]
  },
  {
   "cell_type": "code",
   "execution_count": 204,
   "metadata": {
    "vscode": {
     "languageId": "r"
    }
   },
   "outputs": [
    {
     "data": {
      "text/html": [
       "<table class=\"dataframe\">\n",
       "<caption>A data.frame: 6 × 11</caption>\n",
       "<thead>\n",
       "\t<tr><th></th><th scope=col>Finished</th><th scope=col>RecordedDate</th><th scope=col>Q1_b</th><th scope=col>Q2_b</th><th scope=col>Q3_b</th><th scope=col>Q4_b</th><th scope=col>Q5</th><th scope=col>Q6</th><th scope=col>Q7</th><th scope=col>Q8</th><th scope=col>id</th></tr>\n",
       "\t<tr><th></th><th scope=col>&lt;lgl&gt;</th><th scope=col>&lt;chr&gt;</th><th scope=col>&lt;chr&gt;</th><th scope=col>&lt;chr&gt;</th><th scope=col>&lt;chr&gt;</th><th scope=col>&lt;chr&gt;</th><th scope=col>&lt;chr&gt;</th><th scope=col>&lt;chr&gt;</th><th scope=col>&lt;chr&gt;</th><th scope=col>&lt;int&gt;</th><th scope=col>&lt;chr&gt;</th></tr>\n",
       "</thead>\n",
       "<tbody>\n",
       "\t<tr><th scope=row>5</th><td>FALSE</td><td>2022-09-24 13:14</td><td></td><td></td><td></td><td></td><td></td><td></td><td></td><td>NA</td><td>        </td></tr>\n",
       "\t<tr><th scope=row>6</th><td>FALSE</td><td>2022-09-24 13:16</td><td></td><td></td><td></td><td></td><td></td><td></td><td></td><td>NA</td><td>        </td></tr>\n",
       "\t<tr><th scope=row>7</th><td>FALSE</td><td>2022-09-24 13:17</td><td></td><td></td><td></td><td></td><td></td><td></td><td></td><td>NA</td><td>        </td></tr>\n",
       "\t<tr><th scope=row>8</th><td>FALSE</td><td>2022-09-24 13:20</td><td></td><td></td><td></td><td></td><td></td><td></td><td></td><td>NA</td><td>        </td></tr>\n",
       "\t<tr><th scope=row>9</th><td>FALSE</td><td>2022-09-24 13:23</td><td></td><td></td><td></td><td></td><td></td><td></td><td></td><td>NA</td><td>        </td></tr>\n",
       "\t<tr><th scope=row>10</th><td>FALSE</td><td>2022-09-24 13:31</td><td></td><td></td><td></td><td></td><td></td><td></td><td></td><td>NA</td><td>O_A_05_O</td></tr>\n",
       "</tbody>\n",
       "</table>\n"
      ],
      "text/latex": [
       "A data.frame: 6 × 11\n",
       "\\begin{tabular}{r|lllllllllll}\n",
       "  & Finished & RecordedDate & Q1\\_b & Q2\\_b & Q3\\_b & Q4\\_b & Q5 & Q6 & Q7 & Q8 & id\\\\\n",
       "  & <lgl> & <chr> & <chr> & <chr> & <chr> & <chr> & <chr> & <chr> & <chr> & <int> & <chr>\\\\\n",
       "\\hline\n",
       "\t5 & FALSE & 2022-09-24 13:14 &  &  &  &  &  &  &  & NA &         \\\\\n",
       "\t6 & FALSE & 2022-09-24 13:16 &  &  &  &  &  &  &  & NA &         \\\\\n",
       "\t7 & FALSE & 2022-09-24 13:17 &  &  &  &  &  &  &  & NA &         \\\\\n",
       "\t8 & FALSE & 2022-09-24 13:20 &  &  &  &  &  &  &  & NA &         \\\\\n",
       "\t9 & FALSE & 2022-09-24 13:23 &  &  &  &  &  &  &  & NA &         \\\\\n",
       "\t10 & FALSE & 2022-09-24 13:31 &  &  &  &  &  &  &  & NA & O\\_A\\_05\\_O\\\\\n",
       "\\end{tabular}\n"
      ],
      "text/markdown": [
       "\n",
       "A data.frame: 6 × 11\n",
       "\n",
       "| <!--/--> | Finished &lt;lgl&gt; | RecordedDate &lt;chr&gt; | Q1_b &lt;chr&gt; | Q2_b &lt;chr&gt; | Q3_b &lt;chr&gt; | Q4_b &lt;chr&gt; | Q5 &lt;chr&gt; | Q6 &lt;chr&gt; | Q7 &lt;chr&gt; | Q8 &lt;int&gt; | id &lt;chr&gt; |\n",
       "|---|---|---|---|---|---|---|---|---|---|---|---|\n",
       "| 5 | FALSE | 2022-09-24 13:14 | <!----> | <!----> | <!----> | <!----> | <!----> | <!----> | <!----> | NA | <!----> |\n",
       "| 6 | FALSE | 2022-09-24 13:16 | <!----> | <!----> | <!----> | <!----> | <!----> | <!----> | <!----> | NA | <!----> |\n",
       "| 7 | FALSE | 2022-09-24 13:17 | <!----> | <!----> | <!----> | <!----> | <!----> | <!----> | <!----> | NA | <!----> |\n",
       "| 8 | FALSE | 2022-09-24 13:20 | <!----> | <!----> | <!----> | <!----> | <!----> | <!----> | <!----> | NA | <!----> |\n",
       "| 9 | FALSE | 2022-09-24 13:23 | <!----> | <!----> | <!----> | <!----> | <!----> | <!----> | <!----> | NA | <!----> |\n",
       "| 10 | FALSE | 2022-09-24 13:31 | <!----> | <!----> | <!----> | <!----> | <!----> | <!----> | <!----> | NA | O_A_05_O |\n",
       "\n"
      ],
      "text/plain": [
       "   Finished RecordedDate     Q1_b Q2_b Q3_b Q4_b Q5 Q6 Q7 Q8 id      \n",
       "5  FALSE    2022-09-24 13:14                              NA         \n",
       "6  FALSE    2022-09-24 13:16                              NA         \n",
       "7  FALSE    2022-09-24 13:17                              NA         \n",
       "8  FALSE    2022-09-24 13:20                              NA         \n",
       "9  FALSE    2022-09-24 13:23                              NA         \n",
       "10 FALSE    2022-09-24 13:31                              NA O_A_05_O"
      ]
     },
     "metadata": {},
     "output_type": "display_data"
    },
    {
     "data": {
      "text/html": [
       "3040"
      ],
      "text/latex": [
       "3040"
      ],
      "text/markdown": [
       "3040"
      ],
      "text/plain": [
       "[1] 3040"
      ]
     },
     "metadata": {},
     "output_type": "display_data"
    },
    {
     "name": "stdout",
     "output_type": "stream",
     "text": [
      "There are 3040 incomplete responses in the dataset\n"
     ]
    }
   ],
   "source": [
    "# return rows where finished = False\n",
    "head(df_post[df_post$Finished == FALSE, ])\n",
    "nrow(df_post[df_post$Finished == FALSE, ])\n",
    "\n",
    "#print the number of incomplete responses\n",
    "cat(\"There are\", nrow(df_post[df_post$Finished == FALSE, ]), \"incomplete responses in the dataset\\n\")"
   ]
  },
  {
   "cell_type": "code",
   "execution_count": 205,
   "metadata": {
    "vscode": {
     "languageId": "r"
    }
   },
   "outputs": [
    {
     "data": {
      "text/html": [
       "<table class=\"dataframe\">\n",
       "<caption>A data.frame: 6 × 11</caption>\n",
       "<thead>\n",
       "\t<tr><th></th><th scope=col>Finished</th><th scope=col>RecordedDate</th><th scope=col>Q1_b</th><th scope=col>Q2_b</th><th scope=col>Q3_b</th><th scope=col>Q4_b</th><th scope=col>Q5</th><th scope=col>Q6</th><th scope=col>Q7</th><th scope=col>Q8</th><th scope=col>id</th></tr>\n",
       "\t<tr><th></th><th scope=col>&lt;lgl&gt;</th><th scope=col>&lt;chr&gt;</th><th scope=col>&lt;chr&gt;</th><th scope=col>&lt;chr&gt;</th><th scope=col>&lt;chr&gt;</th><th scope=col>&lt;chr&gt;</th><th scope=col>&lt;chr&gt;</th><th scope=col>&lt;chr&gt;</th><th scope=col>&lt;chr&gt;</th><th scope=col>&lt;int&gt;</th><th scope=col>&lt;chr&gt;</th></tr>\n",
       "</thead>\n",
       "<tbody>\n",
       "\t<tr><th scope=row>1</th><td>TRUE</td><td>2022-09-21 13:55</td><td>Neither agree nor disagree</td><td>Somewhat agree</td><td>Agree                     </td><td>Somewhat agree            </td><td>Somewhat agree            </td><td>Somewhat agree            </td><td>Neither agree nor disagree</td><td> 5</td><td>A_E_06_A</td></tr>\n",
       "\t<tr><th scope=row>2</th><td>TRUE</td><td>2022-09-21 13:57</td><td>Somewhat agree            </td><td>Somewhat agree</td><td>Neither agree nor disagree</td><td>Neither agree nor disagree</td><td>Agree                     </td><td>Agree                     </td><td>                          </td><td> 5</td><td>I_K_10_1</td></tr>\n",
       "\t<tr><th scope=row>3</th><td>TRUE</td><td>2022-09-21 13:57</td><td>Agree                     </td><td>Disagree      </td><td>Somewhat agree            </td><td>Agree                     </td><td>Agree                     </td><td>Agree                     </td><td>Neither agree nor disagree</td><td> 7</td><td>A_N_09_D</td></tr>\n",
       "\t<tr><th scope=row>4</th><td>TRUE</td><td>2022-09-21 13:58</td><td>Agree                     </td><td>Disagree      </td><td>Strongly agree            </td><td>Strongly agree            </td><td>Neither agree nor disagree</td><td>Neither agree nor disagree</td><td>Neither agree nor disagree</td><td> 5</td><td>L_T_12_A</td></tr>\n",
       "\t<tr><th scope=row>14</th><td>TRUE</td><td>2022-10-03 9:28 </td><td>Strongly agree            </td><td>Strongly agree</td><td>Somewhat agree            </td><td>Somewhat agree            </td><td>Agree                     </td><td>Agree                     </td><td>Agree                     </td><td>10</td><td>Y_G_08_W</td></tr>\n",
       "\t<tr><th scope=row>15</th><td>TRUE</td><td>2022-10-03 9:29 </td><td>Strongly disagree         </td><td>Strongly agree</td><td>Somewhat agree            </td><td>Somewhat disagree         </td><td>Disagree                  </td><td>Agree                     </td><td>Agree                     </td><td> 2</td><td>A_N_11_D</td></tr>\n",
       "</tbody>\n",
       "</table>\n"
      ],
      "text/latex": [
       "A data.frame: 6 × 11\n",
       "\\begin{tabular}{r|lllllllllll}\n",
       "  & Finished & RecordedDate & Q1\\_b & Q2\\_b & Q3\\_b & Q4\\_b & Q5 & Q6 & Q7 & Q8 & id\\\\\n",
       "  & <lgl> & <chr> & <chr> & <chr> & <chr> & <chr> & <chr> & <chr> & <chr> & <int> & <chr>\\\\\n",
       "\\hline\n",
       "\t1 & TRUE & 2022-09-21 13:55 & Neither agree nor disagree & Somewhat agree & Agree                      & Somewhat agree             & Somewhat agree             & Somewhat agree             & Neither agree nor disagree &  5 & A\\_E\\_06\\_A\\\\\n",
       "\t2 & TRUE & 2022-09-21 13:57 & Somewhat agree             & Somewhat agree & Neither agree nor disagree & Neither agree nor disagree & Agree                      & Agree                      &                            &  5 & I\\_K\\_10\\_1\\\\\n",
       "\t3 & TRUE & 2022-09-21 13:57 & Agree                      & Disagree       & Somewhat agree             & Agree                      & Agree                      & Agree                      & Neither agree nor disagree &  7 & A\\_N\\_09\\_D\\\\\n",
       "\t4 & TRUE & 2022-09-21 13:58 & Agree                      & Disagree       & Strongly agree             & Strongly agree             & Neither agree nor disagree & Neither agree nor disagree & Neither agree nor disagree &  5 & L\\_T\\_12\\_A\\\\\n",
       "\t14 & TRUE & 2022-10-03 9:28  & Strongly agree             & Strongly agree & Somewhat agree             & Somewhat agree             & Agree                      & Agree                      & Agree                      & 10 & Y\\_G\\_08\\_W\\\\\n",
       "\t15 & TRUE & 2022-10-03 9:29  & Strongly disagree          & Strongly agree & Somewhat agree             & Somewhat disagree          & Disagree                   & Agree                      & Agree                      &  2 & A\\_N\\_11\\_D\\\\\n",
       "\\end{tabular}\n"
      ],
      "text/markdown": [
       "\n",
       "A data.frame: 6 × 11\n",
       "\n",
       "| <!--/--> | Finished &lt;lgl&gt; | RecordedDate &lt;chr&gt; | Q1_b &lt;chr&gt; | Q2_b &lt;chr&gt; | Q3_b &lt;chr&gt; | Q4_b &lt;chr&gt; | Q5 &lt;chr&gt; | Q6 &lt;chr&gt; | Q7 &lt;chr&gt; | Q8 &lt;int&gt; | id &lt;chr&gt; |\n",
       "|---|---|---|---|---|---|---|---|---|---|---|---|\n",
       "| 1 | TRUE | 2022-09-21 13:55 | Neither agree nor disagree | Somewhat agree | Agree                      | Somewhat agree             | Somewhat agree             | Somewhat agree             | Neither agree nor disagree |  5 | A_E_06_A |\n",
       "| 2 | TRUE | 2022-09-21 13:57 | Somewhat agree             | Somewhat agree | Neither agree nor disagree | Neither agree nor disagree | Agree                      | Agree                      | <!----> |  5 | I_K_10_1 |\n",
       "| 3 | TRUE | 2022-09-21 13:57 | Agree                      | Disagree       | Somewhat agree             | Agree                      | Agree                      | Agree                      | Neither agree nor disagree |  7 | A_N_09_D |\n",
       "| 4 | TRUE | 2022-09-21 13:58 | Agree                      | Disagree       | Strongly agree             | Strongly agree             | Neither agree nor disagree | Neither agree nor disagree | Neither agree nor disagree |  5 | L_T_12_A |\n",
       "| 14 | TRUE | 2022-10-03 9:28  | Strongly agree             | Strongly agree | Somewhat agree             | Somewhat agree             | Agree                      | Agree                      | Agree                      | 10 | Y_G_08_W |\n",
       "| 15 | TRUE | 2022-10-03 9:29  | Strongly disagree          | Strongly agree | Somewhat agree             | Somewhat disagree          | Disagree                   | Agree                      | Agree                      |  2 | A_N_11_D |\n",
       "\n"
      ],
      "text/plain": [
       "   Finished RecordedDate     Q1_b                       Q2_b          \n",
       "1  TRUE     2022-09-21 13:55 Neither agree nor disagree Somewhat agree\n",
       "2  TRUE     2022-09-21 13:57 Somewhat agree             Somewhat agree\n",
       "3  TRUE     2022-09-21 13:57 Agree                      Disagree      \n",
       "4  TRUE     2022-09-21 13:58 Agree                      Disagree      \n",
       "14 TRUE     2022-10-03 9:28  Strongly agree             Strongly agree\n",
       "15 TRUE     2022-10-03 9:29  Strongly disagree          Strongly agree\n",
       "   Q3_b                       Q4_b                      \n",
       "1  Agree                      Somewhat agree            \n",
       "2  Neither agree nor disagree Neither agree nor disagree\n",
       "3  Somewhat agree             Agree                     \n",
       "4  Strongly agree             Strongly agree            \n",
       "14 Somewhat agree             Somewhat agree            \n",
       "15 Somewhat agree             Somewhat disagree         \n",
       "   Q5                         Q6                        \n",
       "1  Somewhat agree             Somewhat agree            \n",
       "2  Agree                      Agree                     \n",
       "3  Agree                      Agree                     \n",
       "4  Neither agree nor disagree Neither agree nor disagree\n",
       "14 Agree                      Agree                     \n",
       "15 Disagree                   Agree                     \n",
       "   Q7                         Q8 id      \n",
       "1  Neither agree nor disagree  5 A_E_06_A\n",
       "2                              5 I_K_10_1\n",
       "3  Neither agree nor disagree  7 A_N_09_D\n",
       "4  Neither agree nor disagree  5 L_T_12_A\n",
       "14 Agree                      10 Y_G_08_W\n",
       "15 Agree                       2 A_N_11_D"
      ]
     },
     "metadata": {},
     "output_type": "display_data"
    },
    {
     "name": "stdout",
     "output_type": "stream",
     "text": [
      "There are 3816 completed records in the dataset."
     ]
    }
   ],
   "source": [
    "df_post <- df_post[df_post$Finished == TRUE, ]\n",
    "head(df_post)\n",
    "# print number of complete records in the dataset\n",
    "cat(\"There are\", nrow(df_post), \"completed records in the dataset.\")"
   ]
  },
  {
   "cell_type": "code",
   "execution_count": 207,
   "metadata": {
    "vscode": {
     "languageId": "r"
    }
   },
   "outputs": [
    {
     "data": {
      "text/html": [
       "<table class=\"dataframe\">\n",
       "<caption>A data.frame: 6 × 11</caption>\n",
       "<thead>\n",
       "\t<tr><th></th><th scope=col>Finished</th><th scope=col>RecordedDate</th><th scope=col>Q1_b</th><th scope=col>Q2_b</th><th scope=col>Q3_b</th><th scope=col>Q4_b</th><th scope=col>Q5</th><th scope=col>Q6</th><th scope=col>Q7</th><th scope=col>Q8</th><th scope=col>id</th></tr>\n",
       "\t<tr><th></th><th scope=col>&lt;lgl&gt;</th><th scope=col>&lt;chr&gt;</th><th scope=col>&lt;chr&gt;</th><th scope=col>&lt;chr&gt;</th><th scope=col>&lt;chr&gt;</th><th scope=col>&lt;chr&gt;</th><th scope=col>&lt;chr&gt;</th><th scope=col>&lt;chr&gt;</th><th scope=col>&lt;chr&gt;</th><th scope=col>&lt;int&gt;</th><th scope=col>&lt;chr&gt;</th></tr>\n",
       "</thead>\n",
       "<tbody>\n",
       "\t<tr><th scope=row>1</th><td>TRUE</td><td>2022-09-21 13:57</td><td>Somewhat agree</td><td>Somewhat agree   </td><td>Neither agree nor disagree</td><td>Neither agree nor disagree</td><td>Agree                     </td><td>Agree            </td><td>              </td><td> 5</td><td>I_K_10_1</td></tr>\n",
       "\t<tr><th scope=row>2</th><td>TRUE</td><td>2022-10-03 10:12</td><td>Somewhat agree</td><td>Somewhat disagree</td><td>Strongly agree            </td><td>Somewhat disagree         </td><td>Strongly disagree         </td><td>Strongly disagree</td><td>              </td><td> 2</td><td>E_I_04_O</td></tr>\n",
       "\t<tr><th scope=row>3</th><td>TRUE</td><td>2022-10-14 22:27</td><td>              </td><td>                 </td><td>                          </td><td>                          </td><td>                          </td><td>                 </td><td>              </td><td>NA</td><td>        </td></tr>\n",
       "\t<tr><th scope=row>4</th><td>TRUE</td><td>2022-10-14 22:29</td><td>Strongly agree</td><td>Strongly agree   </td><td>                          </td><td>Strongly agree            </td><td>Neither agree nor disagree</td><td>Strongly agree   </td><td>Strongly agree</td><td> 5</td><td>E_E_09_T</td></tr>\n",
       "\t<tr><th scope=row>5</th><td>TRUE</td><td>2022-10-28 17:54</td><td>Agree         </td><td>Agree            </td><td>Agree                     </td><td>Agree                     </td><td>                          </td><td>                 </td><td>              </td><td>NA</td><td>O_D_03_H</td></tr>\n",
       "\t<tr><th scope=row>6</th><td>TRUE</td><td>2022-11-03 10:27</td><td>              </td><td>                 </td><td>                          </td><td>                          </td><td>                          </td><td>                 </td><td>              </td><td>NA</td><td>        </td></tr>\n",
       "</tbody>\n",
       "</table>\n"
      ],
      "text/latex": [
       "A data.frame: 6 × 11\n",
       "\\begin{tabular}{r|lllllllllll}\n",
       "  & Finished & RecordedDate & Q1\\_b & Q2\\_b & Q3\\_b & Q4\\_b & Q5 & Q6 & Q7 & Q8 & id\\\\\n",
       "  & <lgl> & <chr> & <chr> & <chr> & <chr> & <chr> & <chr> & <chr> & <chr> & <int> & <chr>\\\\\n",
       "\\hline\n",
       "\t1 & TRUE & 2022-09-21 13:57 & Somewhat agree & Somewhat agree    & Neither agree nor disagree & Neither agree nor disagree & Agree                      & Agree             &                &  5 & I\\_K\\_10\\_1\\\\\n",
       "\t2 & TRUE & 2022-10-03 10:12 & Somewhat agree & Somewhat disagree & Strongly agree             & Somewhat disagree          & Strongly disagree          & Strongly disagree &                &  2 & E\\_I\\_04\\_O\\\\\n",
       "\t3 & TRUE & 2022-10-14 22:27 &                &                   &                            &                            &                            &                   &                & NA &         \\\\\n",
       "\t4 & TRUE & 2022-10-14 22:29 & Strongly agree & Strongly agree    &                            & Strongly agree             & Neither agree nor disagree & Strongly agree    & Strongly agree &  5 & E\\_E\\_09\\_T\\\\\n",
       "\t5 & TRUE & 2022-10-28 17:54 & Agree          & Agree             & Agree                      & Agree                      &                            &                   &                & NA & O\\_D\\_03\\_H\\\\\n",
       "\t6 & TRUE & 2022-11-03 10:27 &                &                   &                            &                            &                            &                   &                & NA &         \\\\\n",
       "\\end{tabular}\n"
      ],
      "text/markdown": [
       "\n",
       "A data.frame: 6 × 11\n",
       "\n",
       "| <!--/--> | Finished &lt;lgl&gt; | RecordedDate &lt;chr&gt; | Q1_b &lt;chr&gt; | Q2_b &lt;chr&gt; | Q3_b &lt;chr&gt; | Q4_b &lt;chr&gt; | Q5 &lt;chr&gt; | Q6 &lt;chr&gt; | Q7 &lt;chr&gt; | Q8 &lt;int&gt; | id &lt;chr&gt; |\n",
       "|---|---|---|---|---|---|---|---|---|---|---|---|\n",
       "| 1 | TRUE | 2022-09-21 13:57 | Somewhat agree | Somewhat agree    | Neither agree nor disagree | Neither agree nor disagree | Agree                      | Agree             | <!----> |  5 | I_K_10_1 |\n",
       "| 2 | TRUE | 2022-10-03 10:12 | Somewhat agree | Somewhat disagree | Strongly agree             | Somewhat disagree          | Strongly disagree          | Strongly disagree | <!----> |  2 | E_I_04_O |\n",
       "| 3 | TRUE | 2022-10-14 22:27 | <!----> | <!----> | <!----> | <!----> | <!----> | <!----> | <!----> | NA | <!----> |\n",
       "| 4 | TRUE | 2022-10-14 22:29 | Strongly agree | Strongly agree    | <!----> | Strongly agree             | Neither agree nor disagree | Strongly agree    | Strongly agree |  5 | E_E_09_T |\n",
       "| 5 | TRUE | 2022-10-28 17:54 | Agree          | Agree             | Agree                      | Agree                      | <!----> | <!----> | <!----> | NA | O_D_03_H |\n",
       "| 6 | TRUE | 2022-11-03 10:27 | <!----> | <!----> | <!----> | <!----> | <!----> | <!----> | <!----> | NA | <!----> |\n",
       "\n"
      ],
      "text/plain": [
       "  Finished RecordedDate     Q1_b           Q2_b             \n",
       "1 TRUE     2022-09-21 13:57 Somewhat agree Somewhat agree   \n",
       "2 TRUE     2022-10-03 10:12 Somewhat agree Somewhat disagree\n",
       "3 TRUE     2022-10-14 22:27                                 \n",
       "4 TRUE     2022-10-14 22:29 Strongly agree Strongly agree   \n",
       "5 TRUE     2022-10-28 17:54 Agree          Agree            \n",
       "6 TRUE     2022-11-03 10:27                                 \n",
       "  Q3_b                       Q4_b                      \n",
       "1 Neither agree nor disagree Neither agree nor disagree\n",
       "2 Strongly agree             Somewhat disagree         \n",
       "3                                                      \n",
       "4                            Strongly agree            \n",
       "5 Agree                      Agree                     \n",
       "6                                                      \n",
       "  Q5                         Q6                Q7             Q8 id      \n",
       "1 Agree                      Agree                             5 I_K_10_1\n",
       "2 Strongly disagree          Strongly disagree                 2 E_I_04_O\n",
       "3                                                             NA         \n",
       "4 Neither agree nor disagree Strongly agree    Strongly agree  5 E_E_09_T\n",
       "5                                                             NA O_D_03_H\n",
       "6                                                             NA         "
      ]
     },
     "metadata": {},
     "output_type": "display_data"
    },
    {
     "name": "stdout",
     "output_type": "stream",
     "text": [
      "There are 298 records where all of the subset columns are blank"
     ]
    }
   ],
   "source": [
    "# Check if more incomplete records are present in the dataset using subset of columns Q1_b,\tQ2_b,\tQ3_b, Q4_b,\tQ5,\tQ6,\tQ7,\tQ8\n",
    "\n",
    "library(dplyr)\n",
    "\n",
    "# Filter rows where all of the specified columns are blank\n",
    "all_blank_subset_rows <- df_post %>%\n",
    "  filter(Q1_b == \"\" |\n",
    "         Q2_b == \"\" |\n",
    "         Q3_b == \"\" |\n",
    "         Q4_b == \"\" |\n",
    "         Q5 == \"\" |\n",
    "         Q6 == \"\" |\n",
    "         Q7 == \"\" |\n",
    "         is.na(Q8))\n",
    "\n",
    "# show the first 10 rows\n",
    "head(all_blank_subset_rows)\n",
    "\n",
    "# print number of records \n",
    "cat(\"There are\", nrow(all_blank_subset_rows), \"records where all of the subset columns are blank\")\n"
   ]
  },
  {
   "cell_type": "code",
   "execution_count": 208,
   "metadata": {
    "vscode": {
     "languageId": "r"
    }
   },
   "outputs": [
    {
     "name": "stdout",
     "output_type": "stream",
     "text": [
      "There are  3518  rows in df_post. \n"
     ]
    }
   ],
   "source": [
    "# remove those from df_post\n",
    "\n",
    "df_post <- df_post %>%\n",
    "  filter(!(Q1_b == \"\" |\n",
    "         Q2_b == \"\" |\n",
    "         Q3_b == \"\" |\n",
    "         Q4_b == \"\" |\n",
    "         Q5 == \"\" |\n",
    "         Q6 == \"\" |\n",
    "         Q7 == \"\" |\n",
    "         is.na(Q8)))\n",
    "\n",
    "# show the first 10 rows\n",
    "cat(\"There are \", nrow(df_post), \" rows in df_post. \\n\")"
   ]
  },
  {
   "cell_type": "markdown",
   "metadata": {},
   "source": [
    ">> 2. remove duplicate responses, keep only most recent response for each survey"
   ]
  },
  {
   "cell_type": "code",
   "execution_count": 209,
   "metadata": {
    "vscode": {
     "languageId": "r"
    }
   },
   "outputs": [
    {
     "data": {
      "text/html": [
       "<table class=\"dataframe\">\n",
       "<caption>A data.frame: 6 × 11</caption>\n",
       "<thead>\n",
       "\t<tr><th></th><th scope=col>Finished</th><th scope=col>RecordedDate</th><th scope=col>Q1_b</th><th scope=col>Q2_b</th><th scope=col>Q3_b</th><th scope=col>Q4_b</th><th scope=col>Q5</th><th scope=col>Q6</th><th scope=col>Q7</th><th scope=col>Q8</th><th scope=col>id</th></tr>\n",
       "\t<tr><th></th><th scope=col>&lt;lgl&gt;</th><th scope=col>&lt;chr&gt;</th><th scope=col>&lt;chr&gt;</th><th scope=col>&lt;chr&gt;</th><th scope=col>&lt;chr&gt;</th><th scope=col>&lt;chr&gt;</th><th scope=col>&lt;chr&gt;</th><th scope=col>&lt;chr&gt;</th><th scope=col>&lt;chr&gt;</th><th scope=col>&lt;int&gt;</th><th scope=col>&lt;chr&gt;</th></tr>\n",
       "</thead>\n",
       "<tbody>\n",
       "\t<tr><th scope=row>1</th><td>TRUE</td><td>2023-05-02 13:54</td><td>Strongly disagree</td><td>Strongly disagree         </td><td>Strongly disagree         </td><td>Neither agree nor disagree</td><td>Strongly agree   </td><td>Strongly agree            </td><td>Agree            </td><td>10</td><td>6_E_07_A</td></tr>\n",
       "\t<tr><th scope=row>2</th><td>TRUE</td><td>2023-05-09 9:49 </td><td>Strongly disagree</td><td>Disagree                  </td><td>Strongly disagree         </td><td>Strongly disagree         </td><td>Strongly disagree</td><td>Strongly disagree         </td><td>Strongly disagree</td><td> 0</td><td>A_8_12_1</td></tr>\n",
       "\t<tr><th scope=row>3</th><td>TRUE</td><td>2023-03-07 16:20</td><td>Strongly disagree</td><td>Agree                     </td><td>Somewhat agree            </td><td>Somewhat disagree         </td><td>Somewhat disagree</td><td>Somewhat agree            </td><td>Agree            </td><td> 9</td><td>A_A_01_A</td></tr>\n",
       "\t<tr><th scope=row>4</th><td>TRUE</td><td>2023-05-01 13:02</td><td>Somewhat disagree</td><td>Neither agree nor disagree</td><td>Neither agree nor disagree</td><td>Neither agree nor disagree</td><td>Agree            </td><td>Strongly agree            </td><td>Strongly agree   </td><td>10</td><td>A_A_01_C</td></tr>\n",
       "\t<tr><th scope=row>5</th><td>TRUE</td><td>2023-05-02 14:58</td><td>Agree            </td><td>Somewhat agree            </td><td>Neither agree nor disagree</td><td>Neither agree nor disagree</td><td>Somewhat agree   </td><td>Neither agree nor disagree</td><td>Somewhat agree   </td><td> 7</td><td>A_A_01_D</td></tr>\n",
       "\t<tr><th scope=row>6</th><td>TRUE</td><td>2023-04-24 17:01</td><td>Somewhat agree   </td><td>Somewhat agree            </td><td>Neither agree nor disagree</td><td>Neither agree nor disagree</td><td>Somewhat agree   </td><td>Neither agree nor disagree</td><td>Somewhat agree   </td><td> 7</td><td>A_A_01_M</td></tr>\n",
       "</tbody>\n",
       "</table>\n"
      ],
      "text/latex": [
       "A data.frame: 6 × 11\n",
       "\\begin{tabular}{r|lllllllllll}\n",
       "  & Finished & RecordedDate & Q1\\_b & Q2\\_b & Q3\\_b & Q4\\_b & Q5 & Q6 & Q7 & Q8 & id\\\\\n",
       "  & <lgl> & <chr> & <chr> & <chr> & <chr> & <chr> & <chr> & <chr> & <chr> & <int> & <chr>\\\\\n",
       "\\hline\n",
       "\t1 & TRUE & 2023-05-02 13:54 & Strongly disagree & Strongly disagree          & Strongly disagree          & Neither agree nor disagree & Strongly agree    & Strongly agree             & Agree             & 10 & 6\\_E\\_07\\_A\\\\\n",
       "\t2 & TRUE & 2023-05-09 9:49  & Strongly disagree & Disagree                   & Strongly disagree          & Strongly disagree          & Strongly disagree & Strongly disagree          & Strongly disagree &  0 & A\\_8\\_12\\_1\\\\\n",
       "\t3 & TRUE & 2023-03-07 16:20 & Strongly disagree & Agree                      & Somewhat agree             & Somewhat disagree          & Somewhat disagree & Somewhat agree             & Agree             &  9 & A\\_A\\_01\\_A\\\\\n",
       "\t4 & TRUE & 2023-05-01 13:02 & Somewhat disagree & Neither agree nor disagree & Neither agree nor disagree & Neither agree nor disagree & Agree             & Strongly agree             & Strongly agree    & 10 & A\\_A\\_01\\_C\\\\\n",
       "\t5 & TRUE & 2023-05-02 14:58 & Agree             & Somewhat agree             & Neither agree nor disagree & Neither agree nor disagree & Somewhat agree    & Neither agree nor disagree & Somewhat agree    &  7 & A\\_A\\_01\\_D\\\\\n",
       "\t6 & TRUE & 2023-04-24 17:01 & Somewhat agree    & Somewhat agree             & Neither agree nor disagree & Neither agree nor disagree & Somewhat agree    & Neither agree nor disagree & Somewhat agree    &  7 & A\\_A\\_01\\_M\\\\\n",
       "\\end{tabular}\n"
      ],
      "text/markdown": [
       "\n",
       "A data.frame: 6 × 11\n",
       "\n",
       "| <!--/--> | Finished &lt;lgl&gt; | RecordedDate &lt;chr&gt; | Q1_b &lt;chr&gt; | Q2_b &lt;chr&gt; | Q3_b &lt;chr&gt; | Q4_b &lt;chr&gt; | Q5 &lt;chr&gt; | Q6 &lt;chr&gt; | Q7 &lt;chr&gt; | Q8 &lt;int&gt; | id &lt;chr&gt; |\n",
       "|---|---|---|---|---|---|---|---|---|---|---|---|\n",
       "| 1 | TRUE | 2023-05-02 13:54 | Strongly disagree | Strongly disagree          | Strongly disagree          | Neither agree nor disagree | Strongly agree    | Strongly agree             | Agree             | 10 | 6_E_07_A |\n",
       "| 2 | TRUE | 2023-05-09 9:49  | Strongly disagree | Disagree                   | Strongly disagree          | Strongly disagree          | Strongly disagree | Strongly disagree          | Strongly disagree |  0 | A_8_12_1 |\n",
       "| 3 | TRUE | 2023-03-07 16:20 | Strongly disagree | Agree                      | Somewhat agree             | Somewhat disagree          | Somewhat disagree | Somewhat agree             | Agree             |  9 | A_A_01_A |\n",
       "| 4 | TRUE | 2023-05-01 13:02 | Somewhat disagree | Neither agree nor disagree | Neither agree nor disagree | Neither agree nor disagree | Agree             | Strongly agree             | Strongly agree    | 10 | A_A_01_C |\n",
       "| 5 | TRUE | 2023-05-02 14:58 | Agree             | Somewhat agree             | Neither agree nor disagree | Neither agree nor disagree | Somewhat agree    | Neither agree nor disagree | Somewhat agree    |  7 | A_A_01_D |\n",
       "| 6 | TRUE | 2023-04-24 17:01 | Somewhat agree    | Somewhat agree             | Neither agree nor disagree | Neither agree nor disagree | Somewhat agree    | Neither agree nor disagree | Somewhat agree    |  7 | A_A_01_M |\n",
       "\n"
      ],
      "text/plain": [
       "  Finished RecordedDate     Q1_b              Q2_b                      \n",
       "1 TRUE     2023-05-02 13:54 Strongly disagree Strongly disagree         \n",
       "2 TRUE     2023-05-09 9:49  Strongly disagree Disagree                  \n",
       "3 TRUE     2023-03-07 16:20 Strongly disagree Agree                     \n",
       "4 TRUE     2023-05-01 13:02 Somewhat disagree Neither agree nor disagree\n",
       "5 TRUE     2023-05-02 14:58 Agree             Somewhat agree            \n",
       "6 TRUE     2023-04-24 17:01 Somewhat agree    Somewhat agree            \n",
       "  Q3_b                       Q4_b                       Q5               \n",
       "1 Strongly disagree          Neither agree nor disagree Strongly agree   \n",
       "2 Strongly disagree          Strongly disagree          Strongly disagree\n",
       "3 Somewhat agree             Somewhat disagree          Somewhat disagree\n",
       "4 Neither agree nor disagree Neither agree nor disagree Agree            \n",
       "5 Neither agree nor disagree Neither agree nor disagree Somewhat agree   \n",
       "6 Neither agree nor disagree Neither agree nor disagree Somewhat agree   \n",
       "  Q6                         Q7                Q8 id      \n",
       "1 Strongly agree             Agree             10 6_E_07_A\n",
       "2 Strongly disagree          Strongly disagree  0 A_8_12_1\n",
       "3 Somewhat agree             Agree              9 A_A_01_A\n",
       "4 Strongly agree             Strongly agree    10 A_A_01_C\n",
       "5 Neither agree nor disagree Somewhat agree     7 A_A_01_D\n",
       "6 Neither agree nor disagree Somewhat agree     7 A_A_01_M"
      ]
     },
     "metadata": {},
     "output_type": "display_data"
    },
    {
     "name": "stdout",
     "output_type": "stream",
     "text": [
      "Number of unique responses: 3226"
     ]
    }
   ],
   "source": [
    "library(dplyr)\n",
    "\n",
    "# Remove duplicates and keep most recent response for each data point\n",
    "unique_recent_responses <- df_post %>%\n",
    "  arrange(id, desc(RecordedDate)) %>%\n",
    "  distinct(id, .keep_all = TRUE)\n",
    "\n",
    "head(unique_recent_responses)\n",
    "cat(\"Number of unique responses:\", nrow(unique_recent_responses))"
   ]
  },
  {
   "cell_type": "code",
   "execution_count": 210,
   "metadata": {
    "vscode": {
     "languageId": "r"
    }
   },
   "outputs": [
    {
     "name": "stdout",
     "output_type": "stream",
     "text": [
      "There are  0 rows with missing values. \n"
     ]
    }
   ],
   "source": [
    "#QC check\n",
    "# check if there are still subset of columns with missing values\n",
    "qc_check <- df_post %>%\n",
    "  filter(Q1_b == \"\" |\n",
    "         Q2_b == \"\" |\n",
    "         Q3_b == \"\" |\n",
    "         Q4_b == \"\" |\n",
    "         Q5 == \"\" |\n",
    "         Q6 == \"\" |\n",
    "         Q7 == \"\" |\n",
    "         is.na(Q8))\n",
    "\n",
    "# show the first 10 rows\n",
    "cat(\"There are \", nrow(qc_check), \"rows with missing values. \\n\")"
   ]
  },
  {
   "cell_type": "code",
   "execution_count": 211,
   "metadata": {
    "vscode": {
     "languageId": "r"
    }
   },
   "outputs": [
    {
     "name": "stdout",
     "output_type": "stream",
     "text": [
      "Number of unique responses: 3226 \n"
     ]
    }
   ],
   "source": [
    "# Remove duplicates and keep most recent response for each survey\n",
    "unique_recent_responses <- df_post %>%\n",
    "  group_by(id) %>%\n",
    "  arrange(desc(RecordedDate)) %>%\n",
    "  slice(1) %>%\n",
    "  ungroup()\n",
    "\n",
    "cat(\"Number of unique responses:\", nrow(unique_recent_responses), \"\\n\")"
   ]
  },
  {
   "cell_type": "code",
   "execution_count": 212,
   "metadata": {
    "vscode": {
     "languageId": "r"
    }
   },
   "outputs": [
    {
     "data": {
      "text/html": [
       "<table class=\"dataframe\">\n",
       "<caption>A tibble: 6 × 11</caption>\n",
       "<thead>\n",
       "\t<tr><th scope=col>Finished</th><th scope=col>RecordedDate</th><th scope=col>Q1_b</th><th scope=col>Q2_b</th><th scope=col>Q3_b</th><th scope=col>Q4_b</th><th scope=col>Q5</th><th scope=col>Q6</th><th scope=col>Q7</th><th scope=col>Q8</th><th scope=col>id</th></tr>\n",
       "\t<tr><th scope=col>&lt;lgl&gt;</th><th scope=col>&lt;chr&gt;</th><th scope=col>&lt;chr&gt;</th><th scope=col>&lt;chr&gt;</th><th scope=col>&lt;chr&gt;</th><th scope=col>&lt;chr&gt;</th><th scope=col>&lt;chr&gt;</th><th scope=col>&lt;chr&gt;</th><th scope=col>&lt;chr&gt;</th><th scope=col>&lt;int&gt;</th><th scope=col>&lt;chr&gt;</th></tr>\n",
       "</thead>\n",
       "<tbody>\n",
       "\t<tr><td>TRUE</td><td>2023-05-02 13:54</td><td>Strongly disagree</td><td>Strongly disagree         </td><td>Strongly disagree         </td><td>Neither agree nor disagree</td><td>Strongly agree   </td><td>Strongly agree            </td><td>Agree            </td><td>10</td><td>6_E_07_A</td></tr>\n",
       "\t<tr><td>TRUE</td><td>2023-05-09 9:49 </td><td>Strongly disagree</td><td>Disagree                  </td><td>Strongly disagree         </td><td>Strongly disagree         </td><td>Strongly disagree</td><td>Strongly disagree         </td><td>Strongly disagree</td><td> 0</td><td>A_8_12_1</td></tr>\n",
       "\t<tr><td>TRUE</td><td>2023-03-07 16:20</td><td>Strongly disagree</td><td>Agree                     </td><td>Somewhat agree            </td><td>Somewhat disagree         </td><td>Somewhat disagree</td><td>Somewhat agree            </td><td>Agree            </td><td> 9</td><td>A_A_01_A</td></tr>\n",
       "\t<tr><td>TRUE</td><td>2023-05-01 13:02</td><td>Somewhat disagree</td><td>Neither agree nor disagree</td><td>Neither agree nor disagree</td><td>Neither agree nor disagree</td><td>Agree            </td><td>Strongly agree            </td><td>Strongly agree   </td><td>10</td><td>A_A_01_C</td></tr>\n",
       "\t<tr><td>TRUE</td><td>2023-05-02 14:58</td><td>Agree            </td><td>Somewhat agree            </td><td>Neither agree nor disagree</td><td>Neither agree nor disagree</td><td>Somewhat agree   </td><td>Neither agree nor disagree</td><td>Somewhat agree   </td><td> 7</td><td>A_A_01_D</td></tr>\n",
       "\t<tr><td>TRUE</td><td>2023-04-24 17:01</td><td>Somewhat agree   </td><td>Somewhat agree            </td><td>Neither agree nor disagree</td><td>Neither agree nor disagree</td><td>Somewhat agree   </td><td>Neither agree nor disagree</td><td>Somewhat agree   </td><td> 7</td><td>A_A_01_M</td></tr>\n",
       "</tbody>\n",
       "</table>\n"
      ],
      "text/latex": [
       "A tibble: 6 × 11\n",
       "\\begin{tabular}{lllllllllll}\n",
       " Finished & RecordedDate & Q1\\_b & Q2\\_b & Q3\\_b & Q4\\_b & Q5 & Q6 & Q7 & Q8 & id\\\\\n",
       " <lgl> & <chr> & <chr> & <chr> & <chr> & <chr> & <chr> & <chr> & <chr> & <int> & <chr>\\\\\n",
       "\\hline\n",
       "\t TRUE & 2023-05-02 13:54 & Strongly disagree & Strongly disagree          & Strongly disagree          & Neither agree nor disagree & Strongly agree    & Strongly agree             & Agree             & 10 & 6\\_E\\_07\\_A\\\\\n",
       "\t TRUE & 2023-05-09 9:49  & Strongly disagree & Disagree                   & Strongly disagree          & Strongly disagree          & Strongly disagree & Strongly disagree          & Strongly disagree &  0 & A\\_8\\_12\\_1\\\\\n",
       "\t TRUE & 2023-03-07 16:20 & Strongly disagree & Agree                      & Somewhat agree             & Somewhat disagree          & Somewhat disagree & Somewhat agree             & Agree             &  9 & A\\_A\\_01\\_A\\\\\n",
       "\t TRUE & 2023-05-01 13:02 & Somewhat disagree & Neither agree nor disagree & Neither agree nor disagree & Neither agree nor disagree & Agree             & Strongly agree             & Strongly agree    & 10 & A\\_A\\_01\\_C\\\\\n",
       "\t TRUE & 2023-05-02 14:58 & Agree             & Somewhat agree             & Neither agree nor disagree & Neither agree nor disagree & Somewhat agree    & Neither agree nor disagree & Somewhat agree    &  7 & A\\_A\\_01\\_D\\\\\n",
       "\t TRUE & 2023-04-24 17:01 & Somewhat agree    & Somewhat agree             & Neither agree nor disagree & Neither agree nor disagree & Somewhat agree    & Neither agree nor disagree & Somewhat agree    &  7 & A\\_A\\_01\\_M\\\\\n",
       "\\end{tabular}\n"
      ],
      "text/markdown": [
       "\n",
       "A tibble: 6 × 11\n",
       "\n",
       "| Finished &lt;lgl&gt; | RecordedDate &lt;chr&gt; | Q1_b &lt;chr&gt; | Q2_b &lt;chr&gt; | Q3_b &lt;chr&gt; | Q4_b &lt;chr&gt; | Q5 &lt;chr&gt; | Q6 &lt;chr&gt; | Q7 &lt;chr&gt; | Q8 &lt;int&gt; | id &lt;chr&gt; |\n",
       "|---|---|---|---|---|---|---|---|---|---|---|\n",
       "| TRUE | 2023-05-02 13:54 | Strongly disagree | Strongly disagree          | Strongly disagree          | Neither agree nor disagree | Strongly agree    | Strongly agree             | Agree             | 10 | 6_E_07_A |\n",
       "| TRUE | 2023-05-09 9:49  | Strongly disagree | Disagree                   | Strongly disagree          | Strongly disagree          | Strongly disagree | Strongly disagree          | Strongly disagree |  0 | A_8_12_1 |\n",
       "| TRUE | 2023-03-07 16:20 | Strongly disagree | Agree                      | Somewhat agree             | Somewhat disagree          | Somewhat disagree | Somewhat agree             | Agree             |  9 | A_A_01_A |\n",
       "| TRUE | 2023-05-01 13:02 | Somewhat disagree | Neither agree nor disagree | Neither agree nor disagree | Neither agree nor disagree | Agree             | Strongly agree             | Strongly agree    | 10 | A_A_01_C |\n",
       "| TRUE | 2023-05-02 14:58 | Agree             | Somewhat agree             | Neither agree nor disagree | Neither agree nor disagree | Somewhat agree    | Neither agree nor disagree | Somewhat agree    |  7 | A_A_01_D |\n",
       "| TRUE | 2023-04-24 17:01 | Somewhat agree    | Somewhat agree             | Neither agree nor disagree | Neither agree nor disagree | Somewhat agree    | Neither agree nor disagree | Somewhat agree    |  7 | A_A_01_M |\n",
       "\n"
      ],
      "text/plain": [
       "  Finished RecordedDate     Q1_b              Q2_b                      \n",
       "1 TRUE     2023-05-02 13:54 Strongly disagree Strongly disagree         \n",
       "2 TRUE     2023-05-09 9:49  Strongly disagree Disagree                  \n",
       "3 TRUE     2023-03-07 16:20 Strongly disagree Agree                     \n",
       "4 TRUE     2023-05-01 13:02 Somewhat disagree Neither agree nor disagree\n",
       "5 TRUE     2023-05-02 14:58 Agree             Somewhat agree            \n",
       "6 TRUE     2023-04-24 17:01 Somewhat agree    Somewhat agree            \n",
       "  Q3_b                       Q4_b                       Q5               \n",
       "1 Strongly disagree          Neither agree nor disagree Strongly agree   \n",
       "2 Strongly disagree          Strongly disagree          Strongly disagree\n",
       "3 Somewhat agree             Somewhat disagree          Somewhat disagree\n",
       "4 Neither agree nor disagree Neither agree nor disagree Agree            \n",
       "5 Neither agree nor disagree Neither agree nor disagree Somewhat agree   \n",
       "6 Neither agree nor disagree Neither agree nor disagree Somewhat agree   \n",
       "  Q6                         Q7                Q8 id      \n",
       "1 Strongly agree             Agree             10 6_E_07_A\n",
       "2 Strongly disagree          Strongly disagree  0 A_8_12_1\n",
       "3 Somewhat agree             Agree              9 A_A_01_A\n",
       "4 Strongly agree             Strongly agree    10 A_A_01_C\n",
       "5 Neither agree nor disagree Somewhat agree     7 A_A_01_D\n",
       "6 Neither agree nor disagree Somewhat agree     7 A_A_01_M"
      ]
     },
     "metadata": {},
     "output_type": "display_data"
    },
    {
     "name": "stdout",
     "output_type": "stream",
     "text": [
      "There are: 3226 unique complete responses in the dataset."
     ]
    }
   ],
   "source": [
    "df_post <- unique_recent_responses\n",
    "head(df_post)\n",
    "cat(\"There are:\", nrow(df_post), \"unique complete responses in the dataset.\")"
   ]
  },
  {
   "cell_type": "code",
   "execution_count": 213,
   "metadata": {
    "vscode": {
     "languageId": "r"
    }
   },
   "outputs": [],
   "source": [
    "# Export df_post to csv \n",
    "write.csv(df_post, \"/Users/patrickokwir/Desktop/Lighthouse-data-notes/Jack-Talk-Surveys/data_output/df_post.csv\", row.names = FALSE)"
   ]
  },
  {
   "cell_type": "markdown",
   "metadata": {},
   "source": [
    ">> ### 4. match any pre and post data from the same respondent using the provided IDs"
   ]
  },
  {
   "cell_type": "code",
   "execution_count": 215,
   "metadata": {
    "vscode": {
     "languageId": "r"
    }
   },
   "outputs": [],
   "source": [
    "#4.1 create a new column called 'Pre' on the df_pre dataframe and set to 'pre'\n",
    "df_pre$Pre <- 'pre'\n",
    "\n",
    "#4.2 create a new column called 'Post' on the df_post dataframe and set to 'post'\n",
    "df_post$Post <- 'post'"
   ]
  },
  {
   "cell_type": "code",
   "execution_count": 218,
   "metadata": {
    "vscode": {
     "languageId": "r"
    }
   },
   "outputs": [
    {
     "data": {
      "text/html": [
       "<table class=\"dataframe\">\n",
       "<caption>A data.frame: 6 × 19</caption>\n",
       "<thead>\n",
       "\t<tr><th></th><th scope=col>id</th><th scope=col>Finished.x</th><th scope=col>RecordedDate.x</th><th scope=col>Q1_a</th><th scope=col>Q2_a</th><th scope=col>Q3_a</th><th scope=col>Q4_a</th><th scope=col>Pre</th><th scope=col>Finished.y</th><th scope=col>RecordedDate.y</th><th scope=col>Q1_b</th><th scope=col>Q2_b</th><th scope=col>Q3_b</th><th scope=col>Q4_b</th><th scope=col>Q5</th><th scope=col>Q6</th><th scope=col>Q7</th><th scope=col>Q8</th><th scope=col>Post</th></tr>\n",
       "\t<tr><th></th><th scope=col>&lt;chr&gt;</th><th scope=col>&lt;lgl&gt;</th><th scope=col>&lt;chr&gt;</th><th scope=col>&lt;chr&gt;</th><th scope=col>&lt;chr&gt;</th><th scope=col>&lt;chr&gt;</th><th scope=col>&lt;chr&gt;</th><th scope=col>&lt;chr&gt;</th><th scope=col>&lt;lgl&gt;</th><th scope=col>&lt;chr&gt;</th><th scope=col>&lt;chr&gt;</th><th scope=col>&lt;chr&gt;</th><th scope=col>&lt;chr&gt;</th><th scope=col>&lt;chr&gt;</th><th scope=col>&lt;chr&gt;</th><th scope=col>&lt;chr&gt;</th><th scope=col>&lt;chr&gt;</th><th scope=col>&lt;int&gt;</th><th scope=col>&lt;chr&gt;</th></tr>\n",
       "</thead>\n",
       "<tbody>\n",
       "\t<tr><th scope=row>1</th><td>._O_04_A</td><td>TRUE</td><td>2022-11-21 17:38</td><td>Agree            </td><td>Neither agree nor disagree</td><td>Somewhat agree   </td><td>Somewhat agree   </td><td>pre</td><td>  NA</td><td>NA              </td><td>NA               </td><td>NA               </td><td>NA               </td><td>NA                        </td><td>NA               </td><td>NA               </td><td>NA               </td><td>NA</td><td>NA  </td></tr>\n",
       "\t<tr><th scope=row>2</th><td>6_9_02_L</td><td>TRUE</td><td>2023-05-01 12:23</td><td>Strongly disagree</td><td>Strongly disagree         </td><td>Strongly disagree</td><td>Strongly disagree</td><td>pre</td><td>  NA</td><td>NA              </td><td>NA               </td><td>NA               </td><td>NA               </td><td>NA                        </td><td>NA               </td><td>NA               </td><td>NA               </td><td>NA</td><td>NA  </td></tr>\n",
       "\t<tr><th scope=row>3</th><td>6_9_12_L</td><td>TRUE</td><td>2023-05-30 8:49 </td><td>Disagree         </td><td>Disagree                  </td><td>Disagree         </td><td>Disagree         </td><td>pre</td><td>  NA</td><td>NA              </td><td>NA               </td><td>NA               </td><td>NA               </td><td>NA                        </td><td>NA               </td><td>NA               </td><td>NA               </td><td>NA</td><td>NA  </td></tr>\n",
       "\t<tr><th scope=row>4</th><td>6_E_07_A</td><td>  NA</td><td>NA              </td><td>NA               </td><td>NA                        </td><td>NA               </td><td>NA               </td><td>NA </td><td>TRUE</td><td>2023-05-02 13:54</td><td>Strongly disagree</td><td>Strongly disagree</td><td>Strongly disagree</td><td>Neither agree nor disagree</td><td>Strongly agree   </td><td>Strongly agree   </td><td>Agree            </td><td>10</td><td>post</td></tr>\n",
       "\t<tr><th scope=row>5</th><td>:_!_09_K</td><td>TRUE</td><td>2023-01-25 9:08 </td><td>Strongly disagree</td><td>Strongly disagree         </td><td>Strongly disagree</td><td>Strongly disagree</td><td>pre</td><td>  NA</td><td>NA              </td><td>NA               </td><td>NA               </td><td>NA               </td><td>NA                        </td><td>NA               </td><td>NA               </td><td>NA               </td><td>NA</td><td>NA  </td></tr>\n",
       "\t<tr><th scope=row>6</th><td>A_8_12_1</td><td>  NA</td><td>NA              </td><td>NA               </td><td>NA                        </td><td>NA               </td><td>NA               </td><td>NA </td><td>TRUE</td><td>2023-05-09 9:49 </td><td>Strongly disagree</td><td>Disagree         </td><td>Strongly disagree</td><td>Strongly disagree         </td><td>Strongly disagree</td><td>Strongly disagree</td><td>Strongly disagree</td><td> 0</td><td>post</td></tr>\n",
       "</tbody>\n",
       "</table>\n"
      ],
      "text/latex": [
       "A data.frame: 6 × 19\n",
       "\\begin{tabular}{r|lllllllllllllllllll}\n",
       "  & id & Finished.x & RecordedDate.x & Q1\\_a & Q2\\_a & Q3\\_a & Q4\\_a & Pre & Finished.y & RecordedDate.y & Q1\\_b & Q2\\_b & Q3\\_b & Q4\\_b & Q5 & Q6 & Q7 & Q8 & Post\\\\\n",
       "  & <chr> & <lgl> & <chr> & <chr> & <chr> & <chr> & <chr> & <chr> & <lgl> & <chr> & <chr> & <chr> & <chr> & <chr> & <chr> & <chr> & <chr> & <int> & <chr>\\\\\n",
       "\\hline\n",
       "\t1 & .\\_O\\_04\\_A & TRUE & 2022-11-21 17:38 & Agree             & Neither agree nor disagree & Somewhat agree    & Somewhat agree    & pre &   NA & NA               & NA                & NA                & NA                & NA                         & NA                & NA                & NA                & NA & NA  \\\\\n",
       "\t2 & 6\\_9\\_02\\_L & TRUE & 2023-05-01 12:23 & Strongly disagree & Strongly disagree          & Strongly disagree & Strongly disagree & pre &   NA & NA               & NA                & NA                & NA                & NA                         & NA                & NA                & NA                & NA & NA  \\\\\n",
       "\t3 & 6\\_9\\_12\\_L & TRUE & 2023-05-30 8:49  & Disagree          & Disagree                   & Disagree          & Disagree          & pre &   NA & NA               & NA                & NA                & NA                & NA                         & NA                & NA                & NA                & NA & NA  \\\\\n",
       "\t4 & 6\\_E\\_07\\_A &   NA & NA               & NA                & NA                         & NA                & NA                & NA  & TRUE & 2023-05-02 13:54 & Strongly disagree & Strongly disagree & Strongly disagree & Neither agree nor disagree & Strongly agree    & Strongly agree    & Agree             & 10 & post\\\\\n",
       "\t5 & :\\_!\\_09\\_K & TRUE & 2023-01-25 9:08  & Strongly disagree & Strongly disagree          & Strongly disagree & Strongly disagree & pre &   NA & NA               & NA                & NA                & NA                & NA                         & NA                & NA                & NA                & NA & NA  \\\\\n",
       "\t6 & A\\_8\\_12\\_1 &   NA & NA               & NA                & NA                         & NA                & NA                & NA  & TRUE & 2023-05-09 9:49  & Strongly disagree & Disagree          & Strongly disagree & Strongly disagree          & Strongly disagree & Strongly disagree & Strongly disagree &  0 & post\\\\\n",
       "\\end{tabular}\n"
      ],
      "text/markdown": [
       "\n",
       "A data.frame: 6 × 19\n",
       "\n",
       "| <!--/--> | id &lt;chr&gt; | Finished.x &lt;lgl&gt; | RecordedDate.x &lt;chr&gt; | Q1_a &lt;chr&gt; | Q2_a &lt;chr&gt; | Q3_a &lt;chr&gt; | Q4_a &lt;chr&gt; | Pre &lt;chr&gt; | Finished.y &lt;lgl&gt; | RecordedDate.y &lt;chr&gt; | Q1_b &lt;chr&gt; | Q2_b &lt;chr&gt; | Q3_b &lt;chr&gt; | Q4_b &lt;chr&gt; | Q5 &lt;chr&gt; | Q6 &lt;chr&gt; | Q7 &lt;chr&gt; | Q8 &lt;int&gt; | Post &lt;chr&gt; |\n",
       "|---|---|---|---|---|---|---|---|---|---|---|---|---|---|---|---|---|---|---|---|\n",
       "| 1 | ._O_04_A | TRUE | 2022-11-21 17:38 | Agree             | Neither agree nor disagree | Somewhat agree    | Somewhat agree    | pre |   NA | NA               | NA                | NA                | NA                | NA                         | NA                | NA                | NA                | NA | NA   |\n",
       "| 2 | 6_9_02_L | TRUE | 2023-05-01 12:23 | Strongly disagree | Strongly disagree          | Strongly disagree | Strongly disagree | pre |   NA | NA               | NA                | NA                | NA                | NA                         | NA                | NA                | NA                | NA | NA   |\n",
       "| 3 | 6_9_12_L | TRUE | 2023-05-30 8:49  | Disagree          | Disagree                   | Disagree          | Disagree          | pre |   NA | NA               | NA                | NA                | NA                | NA                         | NA                | NA                | NA                | NA | NA   |\n",
       "| 4 | 6_E_07_A |   NA | NA               | NA                | NA                         | NA                | NA                | NA  | TRUE | 2023-05-02 13:54 | Strongly disagree | Strongly disagree | Strongly disagree | Neither agree nor disagree | Strongly agree    | Strongly agree    | Agree             | 10 | post |\n",
       "| 5 | :_!_09_K | TRUE | 2023-01-25 9:08  | Strongly disagree | Strongly disagree          | Strongly disagree | Strongly disagree | pre |   NA | NA               | NA                | NA                | NA                | NA                         | NA                | NA                | NA                | NA | NA   |\n",
       "| 6 | A_8_12_1 |   NA | NA               | NA                | NA                         | NA                | NA                | NA  | TRUE | 2023-05-09 9:49  | Strongly disagree | Disagree          | Strongly disagree | Strongly disagree          | Strongly disagree | Strongly disagree | Strongly disagree |  0 | post |\n",
       "\n"
      ],
      "text/plain": [
       "  id       Finished.x RecordedDate.x   Q1_a             \n",
       "1 ._O_04_A TRUE       2022-11-21 17:38 Agree            \n",
       "2 6_9_02_L TRUE       2023-05-01 12:23 Strongly disagree\n",
       "3 6_9_12_L TRUE       2023-05-30 8:49  Disagree         \n",
       "4 6_E_07_A   NA       NA               NA               \n",
       "5 :_!_09_K TRUE       2023-01-25 9:08  Strongly disagree\n",
       "6 A_8_12_1   NA       NA               NA               \n",
       "  Q2_a                       Q3_a              Q4_a              Pre Finished.y\n",
       "1 Neither agree nor disagree Somewhat agree    Somewhat agree    pre   NA      \n",
       "2 Strongly disagree          Strongly disagree Strongly disagree pre   NA      \n",
       "3 Disagree                   Disagree          Disagree          pre   NA      \n",
       "4 NA                         NA                NA                NA  TRUE      \n",
       "5 Strongly disagree          Strongly disagree Strongly disagree pre   NA      \n",
       "6 NA                         NA                NA                NA  TRUE      \n",
       "  RecordedDate.y   Q1_b              Q2_b              Q3_b             \n",
       "1 NA               NA                NA                NA               \n",
       "2 NA               NA                NA                NA               \n",
       "3 NA               NA                NA                NA               \n",
       "4 2023-05-02 13:54 Strongly disagree Strongly disagree Strongly disagree\n",
       "5 NA               NA                NA                NA               \n",
       "6 2023-05-09 9:49  Strongly disagree Disagree          Strongly disagree\n",
       "  Q4_b                       Q5                Q6               \n",
       "1 NA                         NA                NA               \n",
       "2 NA                         NA                NA               \n",
       "3 NA                         NA                NA               \n",
       "4 Neither agree nor disagree Strongly agree    Strongly agree   \n",
       "5 NA                         NA                NA               \n",
       "6 Strongly disagree          Strongly disagree Strongly disagree\n",
       "  Q7                Q8 Post\n",
       "1 NA                NA NA  \n",
       "2 NA                NA NA  \n",
       "3 NA                NA NA  \n",
       "4 Agree             10 post\n",
       "5 NA                NA NA  \n",
       "6 Strongly disagree  0 post"
      ]
     },
     "metadata": {},
     "output_type": "display_data"
    }
   ],
   "source": [
    "# merge two dataframes into one on the column 'id'\n",
    "merged_df <- merge(df_pre, df_post, by = 'id', all = TRUE)\n",
    "head(merged_df)"
   ]
  },
  {
   "cell_type": "code",
   "execution_count": 219,
   "metadata": {
    "vscode": {
     "languageId": "r"
    }
   },
   "outputs": [
    {
     "data": {
      "text/html": [
       "<table class=\"dataframe\">\n",
       "<caption>A data.frame: 6 × 20</caption>\n",
       "<thead>\n",
       "\t<tr><th></th><th scope=col>id</th><th scope=col>Finished.x</th><th scope=col>RecordedDate.x</th><th scope=col>Q1_a</th><th scope=col>Q2_a</th><th scope=col>Q3_a</th><th scope=col>Q4_a</th><th scope=col>Pre</th><th scope=col>Finished.y</th><th scope=col>RecordedDate.y</th><th scope=col>Q1_b</th><th scope=col>Q2_b</th><th scope=col>Q3_b</th><th scope=col>Q4_b</th><th scope=col>Q5</th><th scope=col>Q6</th><th scope=col>Q7</th><th scope=col>Q8</th><th scope=col>Post</th><th scope=col>Matched</th></tr>\n",
       "\t<tr><th></th><th scope=col>&lt;chr&gt;</th><th scope=col>&lt;lgl&gt;</th><th scope=col>&lt;chr&gt;</th><th scope=col>&lt;chr&gt;</th><th scope=col>&lt;chr&gt;</th><th scope=col>&lt;chr&gt;</th><th scope=col>&lt;chr&gt;</th><th scope=col>&lt;chr&gt;</th><th scope=col>&lt;lgl&gt;</th><th scope=col>&lt;chr&gt;</th><th scope=col>&lt;chr&gt;</th><th scope=col>&lt;chr&gt;</th><th scope=col>&lt;chr&gt;</th><th scope=col>&lt;chr&gt;</th><th scope=col>&lt;chr&gt;</th><th scope=col>&lt;chr&gt;</th><th scope=col>&lt;chr&gt;</th><th scope=col>&lt;int&gt;</th><th scope=col>&lt;chr&gt;</th><th scope=col>&lt;chr&gt;</th></tr>\n",
       "</thead>\n",
       "<tbody>\n",
       "\t<tr><th scope=row>1</th><td>._O_04_A</td><td>TRUE</td><td>2022-11-21 17:38</td><td>Agree            </td><td>Neither agree nor disagree</td><td>Somewhat agree   </td><td>Somewhat agree   </td><td>pre</td><td>  NA</td><td>NA              </td><td>NA               </td><td>NA               </td><td>NA               </td><td>NA                        </td><td>NA               </td><td>NA               </td><td>NA               </td><td>NA</td><td>NA  </td><td>NA</td></tr>\n",
       "\t<tr><th scope=row>2</th><td>6_9_02_L</td><td>TRUE</td><td>2023-05-01 12:23</td><td>Strongly disagree</td><td>Strongly disagree         </td><td>Strongly disagree</td><td>Strongly disagree</td><td>pre</td><td>  NA</td><td>NA              </td><td>NA               </td><td>NA               </td><td>NA               </td><td>NA                        </td><td>NA               </td><td>NA               </td><td>NA               </td><td>NA</td><td>NA  </td><td>NA</td></tr>\n",
       "\t<tr><th scope=row>3</th><td>6_9_12_L</td><td>TRUE</td><td>2023-05-30 8:49 </td><td>Disagree         </td><td>Disagree                  </td><td>Disagree         </td><td>Disagree         </td><td>pre</td><td>  NA</td><td>NA              </td><td>NA               </td><td>NA               </td><td>NA               </td><td>NA                        </td><td>NA               </td><td>NA               </td><td>NA               </td><td>NA</td><td>NA  </td><td>NA</td></tr>\n",
       "\t<tr><th scope=row>4</th><td>6_E_07_A</td><td>  NA</td><td>NA              </td><td>NA               </td><td>NA                        </td><td>NA               </td><td>NA               </td><td>NA </td><td>TRUE</td><td>2023-05-02 13:54</td><td>Strongly disagree</td><td>Strongly disagree</td><td>Strongly disagree</td><td>Neither agree nor disagree</td><td>Strongly agree   </td><td>Strongly agree   </td><td>Agree            </td><td>10</td><td>post</td><td>NA</td></tr>\n",
       "\t<tr><th scope=row>5</th><td>:_!_09_K</td><td>TRUE</td><td>2023-01-25 9:08 </td><td>Strongly disagree</td><td>Strongly disagree         </td><td>Strongly disagree</td><td>Strongly disagree</td><td>pre</td><td>  NA</td><td>NA              </td><td>NA               </td><td>NA               </td><td>NA               </td><td>NA                        </td><td>NA               </td><td>NA               </td><td>NA               </td><td>NA</td><td>NA  </td><td>NA</td></tr>\n",
       "\t<tr><th scope=row>6</th><td>A_8_12_1</td><td>  NA</td><td>NA              </td><td>NA               </td><td>NA                        </td><td>NA               </td><td>NA               </td><td>NA </td><td>TRUE</td><td>2023-05-09 9:49 </td><td>Strongly disagree</td><td>Disagree         </td><td>Strongly disagree</td><td>Strongly disagree         </td><td>Strongly disagree</td><td>Strongly disagree</td><td>Strongly disagree</td><td> 0</td><td>post</td><td>NA</td></tr>\n",
       "</tbody>\n",
       "</table>\n"
      ],
      "text/latex": [
       "A data.frame: 6 × 20\n",
       "\\begin{tabular}{r|llllllllllllllllllll}\n",
       "  & id & Finished.x & RecordedDate.x & Q1\\_a & Q2\\_a & Q3\\_a & Q4\\_a & Pre & Finished.y & RecordedDate.y & Q1\\_b & Q2\\_b & Q3\\_b & Q4\\_b & Q5 & Q6 & Q7 & Q8 & Post & Matched\\\\\n",
       "  & <chr> & <lgl> & <chr> & <chr> & <chr> & <chr> & <chr> & <chr> & <lgl> & <chr> & <chr> & <chr> & <chr> & <chr> & <chr> & <chr> & <chr> & <int> & <chr> & <chr>\\\\\n",
       "\\hline\n",
       "\t1 & .\\_O\\_04\\_A & TRUE & 2022-11-21 17:38 & Agree             & Neither agree nor disagree & Somewhat agree    & Somewhat agree    & pre &   NA & NA               & NA                & NA                & NA                & NA                         & NA                & NA                & NA                & NA & NA   & NA\\\\\n",
       "\t2 & 6\\_9\\_02\\_L & TRUE & 2023-05-01 12:23 & Strongly disagree & Strongly disagree          & Strongly disagree & Strongly disagree & pre &   NA & NA               & NA                & NA                & NA                & NA                         & NA                & NA                & NA                & NA & NA   & NA\\\\\n",
       "\t3 & 6\\_9\\_12\\_L & TRUE & 2023-05-30 8:49  & Disagree          & Disagree                   & Disagree          & Disagree          & pre &   NA & NA               & NA                & NA                & NA                & NA                         & NA                & NA                & NA                & NA & NA   & NA\\\\\n",
       "\t4 & 6\\_E\\_07\\_A &   NA & NA               & NA                & NA                         & NA                & NA                & NA  & TRUE & 2023-05-02 13:54 & Strongly disagree & Strongly disagree & Strongly disagree & Neither agree nor disagree & Strongly agree    & Strongly agree    & Agree             & 10 & post & NA\\\\\n",
       "\t5 & :\\_!\\_09\\_K & TRUE & 2023-01-25 9:08  & Strongly disagree & Strongly disagree          & Strongly disagree & Strongly disagree & pre &   NA & NA               & NA                & NA                & NA                & NA                         & NA                & NA                & NA                & NA & NA   & NA\\\\\n",
       "\t6 & A\\_8\\_12\\_1 &   NA & NA               & NA                & NA                         & NA                & NA                & NA  & TRUE & 2023-05-09 9:49  & Strongly disagree & Disagree          & Strongly disagree & Strongly disagree          & Strongly disagree & Strongly disagree & Strongly disagree &  0 & post & NA\\\\\n",
       "\\end{tabular}\n"
      ],
      "text/markdown": [
       "\n",
       "A data.frame: 6 × 20\n",
       "\n",
       "| <!--/--> | id &lt;chr&gt; | Finished.x &lt;lgl&gt; | RecordedDate.x &lt;chr&gt; | Q1_a &lt;chr&gt; | Q2_a &lt;chr&gt; | Q3_a &lt;chr&gt; | Q4_a &lt;chr&gt; | Pre &lt;chr&gt; | Finished.y &lt;lgl&gt; | RecordedDate.y &lt;chr&gt; | Q1_b &lt;chr&gt; | Q2_b &lt;chr&gt; | Q3_b &lt;chr&gt; | Q4_b &lt;chr&gt; | Q5 &lt;chr&gt; | Q6 &lt;chr&gt; | Q7 &lt;chr&gt; | Q8 &lt;int&gt; | Post &lt;chr&gt; | Matched &lt;chr&gt; |\n",
       "|---|---|---|---|---|---|---|---|---|---|---|---|---|---|---|---|---|---|---|---|---|\n",
       "| 1 | ._O_04_A | TRUE | 2022-11-21 17:38 | Agree             | Neither agree nor disagree | Somewhat agree    | Somewhat agree    | pre |   NA | NA               | NA                | NA                | NA                | NA                         | NA                | NA                | NA                | NA | NA   | NA |\n",
       "| 2 | 6_9_02_L | TRUE | 2023-05-01 12:23 | Strongly disagree | Strongly disagree          | Strongly disagree | Strongly disagree | pre |   NA | NA               | NA                | NA                | NA                | NA                         | NA                | NA                | NA                | NA | NA   | NA |\n",
       "| 3 | 6_9_12_L | TRUE | 2023-05-30 8:49  | Disagree          | Disagree                   | Disagree          | Disagree          | pre |   NA | NA               | NA                | NA                | NA                | NA                         | NA                | NA                | NA                | NA | NA   | NA |\n",
       "| 4 | 6_E_07_A |   NA | NA               | NA                | NA                         | NA                | NA                | NA  | TRUE | 2023-05-02 13:54 | Strongly disagree | Strongly disagree | Strongly disagree | Neither agree nor disagree | Strongly agree    | Strongly agree    | Agree             | 10 | post | NA |\n",
       "| 5 | :_!_09_K | TRUE | 2023-01-25 9:08  | Strongly disagree | Strongly disagree          | Strongly disagree | Strongly disagree | pre |   NA | NA               | NA                | NA                | NA                | NA                         | NA                | NA                | NA                | NA | NA   | NA |\n",
       "| 6 | A_8_12_1 |   NA | NA               | NA                | NA                         | NA                | NA                | NA  | TRUE | 2023-05-09 9:49  | Strongly disagree | Disagree          | Strongly disagree | Strongly disagree          | Strongly disagree | Strongly disagree | Strongly disagree |  0 | post | NA |\n",
       "\n"
      ],
      "text/plain": [
       "  id       Finished.x RecordedDate.x   Q1_a             \n",
       "1 ._O_04_A TRUE       2022-11-21 17:38 Agree            \n",
       "2 6_9_02_L TRUE       2023-05-01 12:23 Strongly disagree\n",
       "3 6_9_12_L TRUE       2023-05-30 8:49  Disagree         \n",
       "4 6_E_07_A   NA       NA               NA               \n",
       "5 :_!_09_K TRUE       2023-01-25 9:08  Strongly disagree\n",
       "6 A_8_12_1   NA       NA               NA               \n",
       "  Q2_a                       Q3_a              Q4_a              Pre Finished.y\n",
       "1 Neither agree nor disagree Somewhat agree    Somewhat agree    pre   NA      \n",
       "2 Strongly disagree          Strongly disagree Strongly disagree pre   NA      \n",
       "3 Disagree                   Disagree          Disagree          pre   NA      \n",
       "4 NA                         NA                NA                NA  TRUE      \n",
       "5 Strongly disagree          Strongly disagree Strongly disagree pre   NA      \n",
       "6 NA                         NA                NA                NA  TRUE      \n",
       "  RecordedDate.y   Q1_b              Q2_b              Q3_b             \n",
       "1 NA               NA                NA                NA               \n",
       "2 NA               NA                NA                NA               \n",
       "3 NA               NA                NA                NA               \n",
       "4 2023-05-02 13:54 Strongly disagree Strongly disagree Strongly disagree\n",
       "5 NA               NA                NA                NA               \n",
       "6 2023-05-09 9:49  Strongly disagree Disagree          Strongly disagree\n",
       "  Q4_b                       Q5                Q6               \n",
       "1 NA                         NA                NA               \n",
       "2 NA                         NA                NA               \n",
       "3 NA                         NA                NA               \n",
       "4 Neither agree nor disagree Strongly agree    Strongly agree   \n",
       "5 NA                         NA                NA               \n",
       "6 Strongly disagree          Strongly disagree Strongly disagree\n",
       "  Q7                Q8 Post Matched\n",
       "1 NA                NA NA   NA     \n",
       "2 NA                NA NA   NA     \n",
       "3 NA                NA NA   NA     \n",
       "4 Agree             10 post NA     \n",
       "5 NA                NA NA   NA     \n",
       "6 Strongly disagree  0 post NA     "
      ]
     },
     "metadata": {},
     "output_type": "display_data"
    }
   ],
   "source": [
    "# create a new column called 'Matched' in the dataframe. Fill with matched where column 'Pre' = 'pre' and 'Post' = 'post'\n",
    "merged_df$Matched <- ifelse(merged_df$Pre == 'pre' & merged_df$Post == 'post', 'matched', '')\n",
    "\n",
    "head(merged_df)\n"
   ]
  },
  {
   "cell_type": "code",
   "execution_count": 220,
   "metadata": {
    "vscode": {
     "languageId": "r"
    }
   },
   "outputs": [
    {
     "data": {
      "text/html": [
       "<table class=\"dataframe\">\n",
       "<caption>A data.frame: 6 × 20</caption>\n",
       "<thead>\n",
       "\t<tr><th></th><th scope=col>id</th><th scope=col>Finished.x</th><th scope=col>RecordedDate.x</th><th scope=col>Q1_a</th><th scope=col>Q2_a</th><th scope=col>Q3_a</th><th scope=col>Q4_a</th><th scope=col>Pre</th><th scope=col>Finished.y</th><th scope=col>RecordedDate.y</th><th scope=col>Q1_b</th><th scope=col>Q2_b</th><th scope=col>Q3_b</th><th scope=col>Q4_b</th><th scope=col>Q5</th><th scope=col>Q6</th><th scope=col>Q7</th><th scope=col>Q8</th><th scope=col>Post</th><th scope=col>Matched</th></tr>\n",
       "\t<tr><th></th><th scope=col>&lt;chr&gt;</th><th scope=col>&lt;lgl&gt;</th><th scope=col>&lt;chr&gt;</th><th scope=col>&lt;chr&gt;</th><th scope=col>&lt;chr&gt;</th><th scope=col>&lt;chr&gt;</th><th scope=col>&lt;chr&gt;</th><th scope=col>&lt;chr&gt;</th><th scope=col>&lt;lgl&gt;</th><th scope=col>&lt;chr&gt;</th><th scope=col>&lt;chr&gt;</th><th scope=col>&lt;chr&gt;</th><th scope=col>&lt;chr&gt;</th><th scope=col>&lt;chr&gt;</th><th scope=col>&lt;chr&gt;</th><th scope=col>&lt;chr&gt;</th><th scope=col>&lt;chr&gt;</th><th scope=col>&lt;int&gt;</th><th scope=col>&lt;chr&gt;</th><th scope=col>&lt;chr&gt;</th></tr>\n",
       "</thead>\n",
       "<tbody>\n",
       "\t<tr><th scope=row>1</th><td>A_A_01_A</td><td>TRUE</td><td>2023-05-15 14:05</td><td>Agree            </td><td>Agree         </td><td>Agree                     </td><td>Agree            </td><td>pre</td><td>TRUE</td><td>2023-03-07 16:20</td><td>Strongly disagree</td><td>Agree                     </td><td>Somewhat agree            </td><td>Somewhat disagree         </td><td>Somewhat disagree</td><td>Somewhat agree            </td><td>Agree         </td><td> 9</td><td>post</td><td>matched</td></tr>\n",
       "\t<tr><th scope=row>2</th><td>A_A_01_A</td><td>TRUE</td><td>2022-11-21 17:38</td><td>Somewhat agree   </td><td>Disagree      </td><td>Somewhat agree            </td><td>Somewhat agree   </td><td>pre</td><td>TRUE</td><td>2023-03-07 16:20</td><td>Strongly disagree</td><td>Agree                     </td><td>Somewhat agree            </td><td>Somewhat disagree         </td><td>Somewhat disagree</td><td>Somewhat agree            </td><td>Agree         </td><td> 9</td><td>post</td><td>matched</td></tr>\n",
       "\t<tr><th scope=row>3</th><td>A_A_01_C</td><td>TRUE</td><td>2023-05-01 12:21</td><td>Somewhat disagree</td><td>Disagree      </td><td>Somewhat agree            </td><td>Somewhat disagree</td><td>pre</td><td>TRUE</td><td>2023-05-01 13:02</td><td>Somewhat disagree</td><td>Neither agree nor disagree</td><td>Neither agree nor disagree</td><td>Neither agree nor disagree</td><td>Agree            </td><td>Strongly agree            </td><td>Strongly agree</td><td>10</td><td>post</td><td>matched</td></tr>\n",
       "\t<tr><th scope=row>4</th><td>A_A_01_D</td><td>TRUE</td><td>2023-05-02 14:13</td><td>Agree            </td><td>Somewhat agree</td><td>Somewhat agree            </td><td>Somewhat disagree</td><td>pre</td><td>TRUE</td><td>2023-05-02 14:58</td><td>Agree            </td><td>Somewhat agree            </td><td>Neither agree nor disagree</td><td>Neither agree nor disagree</td><td>Somewhat agree   </td><td>Neither agree nor disagree</td><td>Somewhat agree</td><td> 7</td><td>post</td><td>matched</td></tr>\n",
       "\t<tr><th scope=row>5</th><td>A_A_01_M</td><td>TRUE</td><td>2023-03-29 20:42</td><td>Agree            </td><td>Strongly agree</td><td>Somewhat agree            </td><td>Somewhat disagree</td><td>pre</td><td>TRUE</td><td>2023-04-24 17:01</td><td>Somewhat agree   </td><td>Somewhat agree            </td><td>Neither agree nor disagree</td><td>Neither agree nor disagree</td><td>Somewhat agree   </td><td>Neither agree nor disagree</td><td>Somewhat agree</td><td> 7</td><td>post</td><td>matched</td></tr>\n",
       "\t<tr><th scope=row>6</th><td>A_A_01_M</td><td>TRUE</td><td>2023-04-24 16:19</td><td>Somewhat disagree</td><td>Somewhat agree</td><td>Neither agree nor disagree</td><td>Somewhat disagree</td><td>pre</td><td>TRUE</td><td>2023-04-24 17:01</td><td>Somewhat agree   </td><td>Somewhat agree            </td><td>Neither agree nor disagree</td><td>Neither agree nor disagree</td><td>Somewhat agree   </td><td>Neither agree nor disagree</td><td>Somewhat agree</td><td> 7</td><td>post</td><td>matched</td></tr>\n",
       "</tbody>\n",
       "</table>\n"
      ],
      "text/latex": [
       "A data.frame: 6 × 20\n",
       "\\begin{tabular}{r|llllllllllllllllllll}\n",
       "  & id & Finished.x & RecordedDate.x & Q1\\_a & Q2\\_a & Q3\\_a & Q4\\_a & Pre & Finished.y & RecordedDate.y & Q1\\_b & Q2\\_b & Q3\\_b & Q4\\_b & Q5 & Q6 & Q7 & Q8 & Post & Matched\\\\\n",
       "  & <chr> & <lgl> & <chr> & <chr> & <chr> & <chr> & <chr> & <chr> & <lgl> & <chr> & <chr> & <chr> & <chr> & <chr> & <chr> & <chr> & <chr> & <int> & <chr> & <chr>\\\\\n",
       "\\hline\n",
       "\t1 & A\\_A\\_01\\_A & TRUE & 2023-05-15 14:05 & Agree             & Agree          & Agree                      & Agree             & pre & TRUE & 2023-03-07 16:20 & Strongly disagree & Agree                      & Somewhat agree             & Somewhat disagree          & Somewhat disagree & Somewhat agree             & Agree          &  9 & post & matched\\\\\n",
       "\t2 & A\\_A\\_01\\_A & TRUE & 2022-11-21 17:38 & Somewhat agree    & Disagree       & Somewhat agree             & Somewhat agree    & pre & TRUE & 2023-03-07 16:20 & Strongly disagree & Agree                      & Somewhat agree             & Somewhat disagree          & Somewhat disagree & Somewhat agree             & Agree          &  9 & post & matched\\\\\n",
       "\t3 & A\\_A\\_01\\_C & TRUE & 2023-05-01 12:21 & Somewhat disagree & Disagree       & Somewhat agree             & Somewhat disagree & pre & TRUE & 2023-05-01 13:02 & Somewhat disagree & Neither agree nor disagree & Neither agree nor disagree & Neither agree nor disagree & Agree             & Strongly agree             & Strongly agree & 10 & post & matched\\\\\n",
       "\t4 & A\\_A\\_01\\_D & TRUE & 2023-05-02 14:13 & Agree             & Somewhat agree & Somewhat agree             & Somewhat disagree & pre & TRUE & 2023-05-02 14:58 & Agree             & Somewhat agree             & Neither agree nor disagree & Neither agree nor disagree & Somewhat agree    & Neither agree nor disagree & Somewhat agree &  7 & post & matched\\\\\n",
       "\t5 & A\\_A\\_01\\_M & TRUE & 2023-03-29 20:42 & Agree             & Strongly agree & Somewhat agree             & Somewhat disagree & pre & TRUE & 2023-04-24 17:01 & Somewhat agree    & Somewhat agree             & Neither agree nor disagree & Neither agree nor disagree & Somewhat agree    & Neither agree nor disagree & Somewhat agree &  7 & post & matched\\\\\n",
       "\t6 & A\\_A\\_01\\_M & TRUE & 2023-04-24 16:19 & Somewhat disagree & Somewhat agree & Neither agree nor disagree & Somewhat disagree & pre & TRUE & 2023-04-24 17:01 & Somewhat agree    & Somewhat agree             & Neither agree nor disagree & Neither agree nor disagree & Somewhat agree    & Neither agree nor disagree & Somewhat agree &  7 & post & matched\\\\\n",
       "\\end{tabular}\n"
      ],
      "text/markdown": [
       "\n",
       "A data.frame: 6 × 20\n",
       "\n",
       "| <!--/--> | id &lt;chr&gt; | Finished.x &lt;lgl&gt; | RecordedDate.x &lt;chr&gt; | Q1_a &lt;chr&gt; | Q2_a &lt;chr&gt; | Q3_a &lt;chr&gt; | Q4_a &lt;chr&gt; | Pre &lt;chr&gt; | Finished.y &lt;lgl&gt; | RecordedDate.y &lt;chr&gt; | Q1_b &lt;chr&gt; | Q2_b &lt;chr&gt; | Q3_b &lt;chr&gt; | Q4_b &lt;chr&gt; | Q5 &lt;chr&gt; | Q6 &lt;chr&gt; | Q7 &lt;chr&gt; | Q8 &lt;int&gt; | Post &lt;chr&gt; | Matched &lt;chr&gt; |\n",
       "|---|---|---|---|---|---|---|---|---|---|---|---|---|---|---|---|---|---|---|---|---|\n",
       "| 1 | A_A_01_A | TRUE | 2023-05-15 14:05 | Agree             | Agree          | Agree                      | Agree             | pre | TRUE | 2023-03-07 16:20 | Strongly disagree | Agree                      | Somewhat agree             | Somewhat disagree          | Somewhat disagree | Somewhat agree             | Agree          |  9 | post | matched |\n",
       "| 2 | A_A_01_A | TRUE | 2022-11-21 17:38 | Somewhat agree    | Disagree       | Somewhat agree             | Somewhat agree    | pre | TRUE | 2023-03-07 16:20 | Strongly disagree | Agree                      | Somewhat agree             | Somewhat disagree          | Somewhat disagree | Somewhat agree             | Agree          |  9 | post | matched |\n",
       "| 3 | A_A_01_C | TRUE | 2023-05-01 12:21 | Somewhat disagree | Disagree       | Somewhat agree             | Somewhat disagree | pre | TRUE | 2023-05-01 13:02 | Somewhat disagree | Neither agree nor disagree | Neither agree nor disagree | Neither agree nor disagree | Agree             | Strongly agree             | Strongly agree | 10 | post | matched |\n",
       "| 4 | A_A_01_D | TRUE | 2023-05-02 14:13 | Agree             | Somewhat agree | Somewhat agree             | Somewhat disagree | pre | TRUE | 2023-05-02 14:58 | Agree             | Somewhat agree             | Neither agree nor disagree | Neither agree nor disagree | Somewhat agree    | Neither agree nor disagree | Somewhat agree |  7 | post | matched |\n",
       "| 5 | A_A_01_M | TRUE | 2023-03-29 20:42 | Agree             | Strongly agree | Somewhat agree             | Somewhat disagree | pre | TRUE | 2023-04-24 17:01 | Somewhat agree    | Somewhat agree             | Neither agree nor disagree | Neither agree nor disagree | Somewhat agree    | Neither agree nor disagree | Somewhat agree |  7 | post | matched |\n",
       "| 6 | A_A_01_M | TRUE | 2023-04-24 16:19 | Somewhat disagree | Somewhat agree | Neither agree nor disagree | Somewhat disagree | pre | TRUE | 2023-04-24 17:01 | Somewhat agree    | Somewhat agree             | Neither agree nor disagree | Neither agree nor disagree | Somewhat agree    | Neither agree nor disagree | Somewhat agree |  7 | post | matched |\n",
       "\n"
      ],
      "text/plain": [
       "  id       Finished.x RecordedDate.x   Q1_a              Q2_a          \n",
       "1 A_A_01_A TRUE       2023-05-15 14:05 Agree             Agree         \n",
       "2 A_A_01_A TRUE       2022-11-21 17:38 Somewhat agree    Disagree      \n",
       "3 A_A_01_C TRUE       2023-05-01 12:21 Somewhat disagree Disagree      \n",
       "4 A_A_01_D TRUE       2023-05-02 14:13 Agree             Somewhat agree\n",
       "5 A_A_01_M TRUE       2023-03-29 20:42 Agree             Strongly agree\n",
       "6 A_A_01_M TRUE       2023-04-24 16:19 Somewhat disagree Somewhat agree\n",
       "  Q3_a                       Q4_a              Pre Finished.y RecordedDate.y  \n",
       "1 Agree                      Agree             pre TRUE       2023-03-07 16:20\n",
       "2 Somewhat agree             Somewhat agree    pre TRUE       2023-03-07 16:20\n",
       "3 Somewhat agree             Somewhat disagree pre TRUE       2023-05-01 13:02\n",
       "4 Somewhat agree             Somewhat disagree pre TRUE       2023-05-02 14:58\n",
       "5 Somewhat agree             Somewhat disagree pre TRUE       2023-04-24 17:01\n",
       "6 Neither agree nor disagree Somewhat disagree pre TRUE       2023-04-24 17:01\n",
       "  Q1_b              Q2_b                       Q3_b                      \n",
       "1 Strongly disagree Agree                      Somewhat agree            \n",
       "2 Strongly disagree Agree                      Somewhat agree            \n",
       "3 Somewhat disagree Neither agree nor disagree Neither agree nor disagree\n",
       "4 Agree             Somewhat agree             Neither agree nor disagree\n",
       "5 Somewhat agree    Somewhat agree             Neither agree nor disagree\n",
       "6 Somewhat agree    Somewhat agree             Neither agree nor disagree\n",
       "  Q4_b                       Q5                Q6                        \n",
       "1 Somewhat disagree          Somewhat disagree Somewhat agree            \n",
       "2 Somewhat disagree          Somewhat disagree Somewhat agree            \n",
       "3 Neither agree nor disagree Agree             Strongly agree            \n",
       "4 Neither agree nor disagree Somewhat agree    Neither agree nor disagree\n",
       "5 Neither agree nor disagree Somewhat agree    Neither agree nor disagree\n",
       "6 Neither agree nor disagree Somewhat agree    Neither agree nor disagree\n",
       "  Q7             Q8 Post Matched\n",
       "1 Agree           9 post matched\n",
       "2 Agree           9 post matched\n",
       "3 Strongly agree 10 post matched\n",
       "4 Somewhat agree  7 post matched\n",
       "5 Somewhat agree  7 post matched\n",
       "6 Somewhat agree  7 post matched"
      ]
     },
     "metadata": {},
     "output_type": "display_data"
    },
    {
     "name": "stdout",
     "output_type": "stream",
     "text": [
      "There are  3391 macthing survery responses."
     ]
    }
   ],
   "source": [
    "library(dplyr)\n",
    "\n",
    "# Filter rows where 'Matched' column is 'matched'\n",
    "matched_rows <- merged_df %>%\n",
    "  filter(Matched == 'matched')\n",
    "\n",
    "head(matched_rows)\n",
    "cat(\"There are \", nrow(matched_rows), \"macthing survery responses.\")"
   ]
  },
  {
   "cell_type": "code",
   "execution_count": 221,
   "metadata": {
    "vscode": {
     "languageId": "r"
    }
   },
   "outputs": [
    {
     "name": "stdout",
     "output_type": "stream",
     "text": [
      "There are 3391 survey responses in the final dataset."
     ]
    }
   ],
   "source": [
    "final_df <- merged_df %>%\n",
    "  filter(Matched == 'matched')\n",
    "\n",
    "cat(\"There are\", nrow(final_df), \"survey responses in the final dataset.\")"
   ]
  },
  {
   "cell_type": "code",
   "execution_count": 223,
   "metadata": {
    "vscode": {
     "languageId": "r"
    }
   },
   "outputs": [],
   "source": [
    "# write df to csv\n",
    "write.csv(final_df, \"/Users/patrickokwir/Desktop/Lighthouse-data-notes/Jack-Talk-Surveys/data_output/final_df.csv\", row.names = FALSE)"
   ]
  },
  {
   "cell_type": "markdown",
   "metadata": {},
   "source": []
  }
 ],
 "metadata": {
  "kernelspec": {
   "display_name": "R",
   "language": "R",
   "name": "ir"
  },
  "language_info": {
   "codemirror_mode": "r",
   "file_extension": ".r",
   "mimetype": "text/x-r-source",
   "name": "R",
   "pygments_lexer": "r",
   "version": "4.3.0"
  },
  "orig_nbformat": 4
 },
 "nbformat": 4,
 "nbformat_minor": 2
}
