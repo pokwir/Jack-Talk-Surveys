{
 "cells": [
  {
   "cell_type": "markdown",
   "metadata": {},
   "source": [
    "# Exploratory Data Analysis"
   ]
  },
  {
   "cell_type": "code",
   "execution_count": 4,
   "metadata": {
    "vscode": {
     "languageId": "r"
    }
   },
   "outputs": [],
   "source": [
    "#Setting the stage\n",
    "#File path\n",
    "data <- \"/Users/patrickokwir/Desktop/Lighthouse-data-notes/Jack-Talk-Surveys/data_output/final_df_numeric.csv\""
   ]
  },
  {
   "cell_type": "code",
   "execution_count": 5,
   "metadata": {
    "vscode": {
     "languageId": "r"
    }
   },
   "outputs": [
    {
     "data": {
      "text/html": [
       "<table class=\"dataframe\">\n",
       "<caption>A data.frame: 6 × 20</caption>\n",
       "<thead>\n",
       "\t<tr><th></th><th scope=col>id</th><th scope=col>Finished.x</th><th scope=col>RecordedDate.x</th><th scope=col>Q1_a</th><th scope=col>Q2_a</th><th scope=col>Q3_a</th><th scope=col>Q4_a</th><th scope=col>Pre</th><th scope=col>Finished.y</th><th scope=col>RecordedDate.y</th><th scope=col>Q1_b</th><th scope=col>Q2_b</th><th scope=col>Q3_b</th><th scope=col>Q4_b</th><th scope=col>Q5</th><th scope=col>Q6</th><th scope=col>Q7</th><th scope=col>Q8</th><th scope=col>Post</th><th scope=col>Matched</th></tr>\n",
       "\t<tr><th></th><th scope=col>&lt;chr&gt;</th><th scope=col>&lt;lgl&gt;</th><th scope=col>&lt;chr&gt;</th><th scope=col>&lt;int&gt;</th><th scope=col>&lt;int&gt;</th><th scope=col>&lt;int&gt;</th><th scope=col>&lt;int&gt;</th><th scope=col>&lt;chr&gt;</th><th scope=col>&lt;lgl&gt;</th><th scope=col>&lt;chr&gt;</th><th scope=col>&lt;int&gt;</th><th scope=col>&lt;int&gt;</th><th scope=col>&lt;int&gt;</th><th scope=col>&lt;int&gt;</th><th scope=col>&lt;int&gt;</th><th scope=col>&lt;int&gt;</th><th scope=col>&lt;int&gt;</th><th scope=col>&lt;int&gt;</th><th scope=col>&lt;chr&gt;</th><th scope=col>&lt;chr&gt;</th></tr>\n",
       "</thead>\n",
       "<tbody>\n",
       "\t<tr><th scope=row>1</th><td>A_A_01_A</td><td>TRUE</td><td>2023-05-15 14:05</td><td>6</td><td>6</td><td>6</td><td>6</td><td>pre</td><td>TRUE</td><td>2023-03-07 16:20</td><td>1</td><td>6</td><td>5</td><td>3</td><td>3</td><td>5</td><td>6</td><td> 9</td><td>post</td><td>matched</td></tr>\n",
       "\t<tr><th scope=row>2</th><td>A_A_01_A</td><td>TRUE</td><td>2022-11-21 17:38</td><td>5</td><td>2</td><td>5</td><td>5</td><td>pre</td><td>TRUE</td><td>2023-03-07 16:20</td><td>1</td><td>6</td><td>5</td><td>3</td><td>3</td><td>5</td><td>6</td><td> 9</td><td>post</td><td>matched</td></tr>\n",
       "\t<tr><th scope=row>3</th><td>A_A_01_C</td><td>TRUE</td><td>2023-05-01 12:21</td><td>3</td><td>2</td><td>5</td><td>3</td><td>pre</td><td>TRUE</td><td>2023-05-01 13:02</td><td>3</td><td>4</td><td>4</td><td>4</td><td>6</td><td>7</td><td>7</td><td>10</td><td>post</td><td>matched</td></tr>\n",
       "\t<tr><th scope=row>4</th><td>A_A_01_D</td><td>TRUE</td><td>2023-05-02 14:13</td><td>6</td><td>5</td><td>5</td><td>3</td><td>pre</td><td>TRUE</td><td>2023-05-02 14:58</td><td>6</td><td>5</td><td>4</td><td>4</td><td>5</td><td>4</td><td>5</td><td> 7</td><td>post</td><td>matched</td></tr>\n",
       "\t<tr><th scope=row>5</th><td>A_A_01_M</td><td>TRUE</td><td>2023-03-29 20:42</td><td>6</td><td>7</td><td>5</td><td>3</td><td>pre</td><td>TRUE</td><td>2023-04-24 17:01</td><td>5</td><td>5</td><td>4</td><td>4</td><td>5</td><td>4</td><td>5</td><td> 7</td><td>post</td><td>matched</td></tr>\n",
       "\t<tr><th scope=row>6</th><td>A_A_01_M</td><td>TRUE</td><td>2023-04-24 16:19</td><td>3</td><td>5</td><td>4</td><td>3</td><td>pre</td><td>TRUE</td><td>2023-04-24 17:01</td><td>5</td><td>5</td><td>4</td><td>4</td><td>5</td><td>4</td><td>5</td><td> 7</td><td>post</td><td>matched</td></tr>\n",
       "</tbody>\n",
       "</table>\n"
      ],
      "text/latex": [
       "A data.frame: 6 × 20\n",
       "\\begin{tabular}{r|llllllllllllllllllll}\n",
       "  & id & Finished.x & RecordedDate.x & Q1\\_a & Q2\\_a & Q3\\_a & Q4\\_a & Pre & Finished.y & RecordedDate.y & Q1\\_b & Q2\\_b & Q3\\_b & Q4\\_b & Q5 & Q6 & Q7 & Q8 & Post & Matched\\\\\n",
       "  & <chr> & <lgl> & <chr> & <int> & <int> & <int> & <int> & <chr> & <lgl> & <chr> & <int> & <int> & <int> & <int> & <int> & <int> & <int> & <int> & <chr> & <chr>\\\\\n",
       "\\hline\n",
       "\t1 & A\\_A\\_01\\_A & TRUE & 2023-05-15 14:05 & 6 & 6 & 6 & 6 & pre & TRUE & 2023-03-07 16:20 & 1 & 6 & 5 & 3 & 3 & 5 & 6 &  9 & post & matched\\\\\n",
       "\t2 & A\\_A\\_01\\_A & TRUE & 2022-11-21 17:38 & 5 & 2 & 5 & 5 & pre & TRUE & 2023-03-07 16:20 & 1 & 6 & 5 & 3 & 3 & 5 & 6 &  9 & post & matched\\\\\n",
       "\t3 & A\\_A\\_01\\_C & TRUE & 2023-05-01 12:21 & 3 & 2 & 5 & 3 & pre & TRUE & 2023-05-01 13:02 & 3 & 4 & 4 & 4 & 6 & 7 & 7 & 10 & post & matched\\\\\n",
       "\t4 & A\\_A\\_01\\_D & TRUE & 2023-05-02 14:13 & 6 & 5 & 5 & 3 & pre & TRUE & 2023-05-02 14:58 & 6 & 5 & 4 & 4 & 5 & 4 & 5 &  7 & post & matched\\\\\n",
       "\t5 & A\\_A\\_01\\_M & TRUE & 2023-03-29 20:42 & 6 & 7 & 5 & 3 & pre & TRUE & 2023-04-24 17:01 & 5 & 5 & 4 & 4 & 5 & 4 & 5 &  7 & post & matched\\\\\n",
       "\t6 & A\\_A\\_01\\_M & TRUE & 2023-04-24 16:19 & 3 & 5 & 4 & 3 & pre & TRUE & 2023-04-24 17:01 & 5 & 5 & 4 & 4 & 5 & 4 & 5 &  7 & post & matched\\\\\n",
       "\\end{tabular}\n"
      ],
      "text/markdown": [
       "\n",
       "A data.frame: 6 × 20\n",
       "\n",
       "| <!--/--> | id &lt;chr&gt; | Finished.x &lt;lgl&gt; | RecordedDate.x &lt;chr&gt; | Q1_a &lt;int&gt; | Q2_a &lt;int&gt; | Q3_a &lt;int&gt; | Q4_a &lt;int&gt; | Pre &lt;chr&gt; | Finished.y &lt;lgl&gt; | RecordedDate.y &lt;chr&gt; | Q1_b &lt;int&gt; | Q2_b &lt;int&gt; | Q3_b &lt;int&gt; | Q4_b &lt;int&gt; | Q5 &lt;int&gt; | Q6 &lt;int&gt; | Q7 &lt;int&gt; | Q8 &lt;int&gt; | Post &lt;chr&gt; | Matched &lt;chr&gt; |\n",
       "|---|---|---|---|---|---|---|---|---|---|---|---|---|---|---|---|---|---|---|---|---|\n",
       "| 1 | A_A_01_A | TRUE | 2023-05-15 14:05 | 6 | 6 | 6 | 6 | pre | TRUE | 2023-03-07 16:20 | 1 | 6 | 5 | 3 | 3 | 5 | 6 |  9 | post | matched |\n",
       "| 2 | A_A_01_A | TRUE | 2022-11-21 17:38 | 5 | 2 | 5 | 5 | pre | TRUE | 2023-03-07 16:20 | 1 | 6 | 5 | 3 | 3 | 5 | 6 |  9 | post | matched |\n",
       "| 3 | A_A_01_C | TRUE | 2023-05-01 12:21 | 3 | 2 | 5 | 3 | pre | TRUE | 2023-05-01 13:02 | 3 | 4 | 4 | 4 | 6 | 7 | 7 | 10 | post | matched |\n",
       "| 4 | A_A_01_D | TRUE | 2023-05-02 14:13 | 6 | 5 | 5 | 3 | pre | TRUE | 2023-05-02 14:58 | 6 | 5 | 4 | 4 | 5 | 4 | 5 |  7 | post | matched |\n",
       "| 5 | A_A_01_M | TRUE | 2023-03-29 20:42 | 6 | 7 | 5 | 3 | pre | TRUE | 2023-04-24 17:01 | 5 | 5 | 4 | 4 | 5 | 4 | 5 |  7 | post | matched |\n",
       "| 6 | A_A_01_M | TRUE | 2023-04-24 16:19 | 3 | 5 | 4 | 3 | pre | TRUE | 2023-04-24 17:01 | 5 | 5 | 4 | 4 | 5 | 4 | 5 |  7 | post | matched |\n",
       "\n"
      ],
      "text/plain": [
       "  id       Finished.x RecordedDate.x   Q1_a Q2_a Q3_a Q4_a Pre Finished.y\n",
       "1 A_A_01_A TRUE       2023-05-15 14:05 6    6    6    6    pre TRUE      \n",
       "2 A_A_01_A TRUE       2022-11-21 17:38 5    2    5    5    pre TRUE      \n",
       "3 A_A_01_C TRUE       2023-05-01 12:21 3    2    5    3    pre TRUE      \n",
       "4 A_A_01_D TRUE       2023-05-02 14:13 6    5    5    3    pre TRUE      \n",
       "5 A_A_01_M TRUE       2023-03-29 20:42 6    7    5    3    pre TRUE      \n",
       "6 A_A_01_M TRUE       2023-04-24 16:19 3    5    4    3    pre TRUE      \n",
       "  RecordedDate.y   Q1_b Q2_b Q3_b Q4_b Q5 Q6 Q7 Q8 Post Matched\n",
       "1 2023-03-07 16:20 1    6    5    3    3  5  6   9 post matched\n",
       "2 2023-03-07 16:20 1    6    5    3    3  5  6   9 post matched\n",
       "3 2023-05-01 13:02 3    4    4    4    6  7  7  10 post matched\n",
       "4 2023-05-02 14:58 6    5    4    4    5  4  5   7 post matched\n",
       "5 2023-04-24 17:01 5    5    4    4    5  4  5   7 post matched\n",
       "6 2023-04-24 17:01 5    5    4    4    5  4  5   7 post matched"
      ]
     },
     "metadata": {},
     "output_type": "display_data"
    }
   ],
   "source": [
    "df <- read.csv(data)\n",
    "head(df)"
   ]
  },
  {
   "cell_type": "code",
   "execution_count": 8,
   "metadata": {
    "vscode": {
     "languageId": "r"
    }
   },
   "outputs": [
    {
     "data": {
      "text/html": [
       "785"
      ],
      "text/latex": [
       "785"
      ],
      "text/markdown": [
       "785"
      ],
      "text/plain": [
       "[1] 785"
      ]
     },
     "metadata": {},
     "output_type": "display_data"
    }
   ],
   "source": [
    "# Find duplicates based on the 'id' column in df_final\n",
    "duplicate_rows <- df[duplicated(df$id), ]\n",
    "\n",
    "nrow(duplicate_rows)\n"
   ]
  },
  {
   "cell_type": "code",
   "execution_count": 12,
   "metadata": {
    "vscode": {
     "languageId": "r"
    }
   },
   "outputs": [
    {
     "data": {
      "text/html": [
       "<table class=\"dataframe\">\n",
       "<caption>A tibble: 6 × 20</caption>\n",
       "<thead>\n",
       "\t<tr><th scope=col>id</th><th scope=col>Finished.x</th><th scope=col>RecordedDate.x</th><th scope=col>Q1_a</th><th scope=col>Q2_a</th><th scope=col>Q3_a</th><th scope=col>Q4_a</th><th scope=col>Pre</th><th scope=col>Finished.y</th><th scope=col>RecordedDate.y</th><th scope=col>Q1_b</th><th scope=col>Q2_b</th><th scope=col>Q3_b</th><th scope=col>Q4_b</th><th scope=col>Q5</th><th scope=col>Q6</th><th scope=col>Q7</th><th scope=col>Q8</th><th scope=col>Post</th><th scope=col>Matched</th></tr>\n",
       "\t<tr><th scope=col>&lt;chr&gt;</th><th scope=col>&lt;lgl&gt;</th><th scope=col>&lt;chr&gt;</th><th scope=col>&lt;int&gt;</th><th scope=col>&lt;int&gt;</th><th scope=col>&lt;int&gt;</th><th scope=col>&lt;int&gt;</th><th scope=col>&lt;chr&gt;</th><th scope=col>&lt;lgl&gt;</th><th scope=col>&lt;chr&gt;</th><th scope=col>&lt;int&gt;</th><th scope=col>&lt;int&gt;</th><th scope=col>&lt;int&gt;</th><th scope=col>&lt;int&gt;</th><th scope=col>&lt;int&gt;</th><th scope=col>&lt;int&gt;</th><th scope=col>&lt;int&gt;</th><th scope=col>&lt;int&gt;</th><th scope=col>&lt;chr&gt;</th><th scope=col>&lt;chr&gt;</th></tr>\n",
       "</thead>\n",
       "<tbody>\n",
       "\t<tr><td>A_A_01_A</td><td>TRUE</td><td>2022-11-21 17:38</td><td>5</td><td>2</td><td>5</td><td>5</td><td>pre</td><td>TRUE</td><td>2023-03-07 16:20</td><td>1</td><td>6</td><td>5</td><td>3</td><td>3</td><td>5</td><td>6</td><td> 9</td><td>post</td><td>matched</td></tr>\n",
       "\t<tr><td>A_A_01_C</td><td>TRUE</td><td>2023-05-01 12:21</td><td>3</td><td>2</td><td>5</td><td>3</td><td>pre</td><td>TRUE</td><td>2023-05-01 13:02</td><td>3</td><td>4</td><td>4</td><td>4</td><td>6</td><td>7</td><td>7</td><td>10</td><td>post</td><td>matched</td></tr>\n",
       "\t<tr><td>A_A_01_D</td><td>TRUE</td><td>2023-05-02 14:13</td><td>6</td><td>5</td><td>5</td><td>3</td><td>pre</td><td>TRUE</td><td>2023-05-02 14:58</td><td>6</td><td>5</td><td>4</td><td>4</td><td>5</td><td>4</td><td>5</td><td> 7</td><td>post</td><td>matched</td></tr>\n",
       "\t<tr><td>A_A_01_M</td><td>TRUE</td><td>2023-03-29 20:42</td><td>6</td><td>7</td><td>5</td><td>3</td><td>pre</td><td>TRUE</td><td>2023-04-24 17:01</td><td>5</td><td>5</td><td>4</td><td>4</td><td>5</td><td>4</td><td>5</td><td> 7</td><td>post</td><td>matched</td></tr>\n",
       "\t<tr><td>A_A_02_A</td><td>TRUE</td><td>2023-05-01 13:45</td><td>7</td><td>6</td><td>5</td><td>5</td><td>pre</td><td>TRUE</td><td>2023-05-03 14:18</td><td>6</td><td>6</td><td>5</td><td>3</td><td>6</td><td>6</td><td>7</td><td>10</td><td>post</td><td>matched</td></tr>\n",
       "\t<tr><td>A_A_02_C</td><td>TRUE</td><td>2023-03-26 15:06</td><td>6</td><td>6</td><td>6</td><td>6</td><td>pre</td><td>TRUE</td><td>2023-03-26 15:55</td><td>6</td><td>6</td><td>6</td><td>6</td><td>6</td><td>6</td><td>6</td><td>10</td><td>post</td><td>matched</td></tr>\n",
       "</tbody>\n",
       "</table>\n"
      ],
      "text/latex": [
       "A tibble: 6 × 20\n",
       "\\begin{tabular}{llllllllllllllllllll}\n",
       " id & Finished.x & RecordedDate.x & Q1\\_a & Q2\\_a & Q3\\_a & Q4\\_a & Pre & Finished.y & RecordedDate.y & Q1\\_b & Q2\\_b & Q3\\_b & Q4\\_b & Q5 & Q6 & Q7 & Q8 & Post & Matched\\\\\n",
       " <chr> & <lgl> & <chr> & <int> & <int> & <int> & <int> & <chr> & <lgl> & <chr> & <int> & <int> & <int> & <int> & <int> & <int> & <int> & <int> & <chr> & <chr>\\\\\n",
       "\\hline\n",
       "\t A\\_A\\_01\\_A & TRUE & 2022-11-21 17:38 & 5 & 2 & 5 & 5 & pre & TRUE & 2023-03-07 16:20 & 1 & 6 & 5 & 3 & 3 & 5 & 6 &  9 & post & matched\\\\\n",
       "\t A\\_A\\_01\\_C & TRUE & 2023-05-01 12:21 & 3 & 2 & 5 & 3 & pre & TRUE & 2023-05-01 13:02 & 3 & 4 & 4 & 4 & 6 & 7 & 7 & 10 & post & matched\\\\\n",
       "\t A\\_A\\_01\\_D & TRUE & 2023-05-02 14:13 & 6 & 5 & 5 & 3 & pre & TRUE & 2023-05-02 14:58 & 6 & 5 & 4 & 4 & 5 & 4 & 5 &  7 & post & matched\\\\\n",
       "\t A\\_A\\_01\\_M & TRUE & 2023-03-29 20:42 & 6 & 7 & 5 & 3 & pre & TRUE & 2023-04-24 17:01 & 5 & 5 & 4 & 4 & 5 & 4 & 5 &  7 & post & matched\\\\\n",
       "\t A\\_A\\_02\\_A & TRUE & 2023-05-01 13:45 & 7 & 6 & 5 & 5 & pre & TRUE & 2023-05-03 14:18 & 6 & 6 & 5 & 3 & 6 & 6 & 7 & 10 & post & matched\\\\\n",
       "\t A\\_A\\_02\\_C & TRUE & 2023-03-26 15:06 & 6 & 6 & 6 & 6 & pre & TRUE & 2023-03-26 15:55 & 6 & 6 & 6 & 6 & 6 & 6 & 6 & 10 & post & matched\\\\\n",
       "\\end{tabular}\n"
      ],
      "text/markdown": [
       "\n",
       "A tibble: 6 × 20\n",
       "\n",
       "| id &lt;chr&gt; | Finished.x &lt;lgl&gt; | RecordedDate.x &lt;chr&gt; | Q1_a &lt;int&gt; | Q2_a &lt;int&gt; | Q3_a &lt;int&gt; | Q4_a &lt;int&gt; | Pre &lt;chr&gt; | Finished.y &lt;lgl&gt; | RecordedDate.y &lt;chr&gt; | Q1_b &lt;int&gt; | Q2_b &lt;int&gt; | Q3_b &lt;int&gt; | Q4_b &lt;int&gt; | Q5 &lt;int&gt; | Q6 &lt;int&gt; | Q7 &lt;int&gt; | Q8 &lt;int&gt; | Post &lt;chr&gt; | Matched &lt;chr&gt; |\n",
       "|---|---|---|---|---|---|---|---|---|---|---|---|---|---|---|---|---|---|---|---|\n",
       "| A_A_01_A | TRUE | 2022-11-21 17:38 | 5 | 2 | 5 | 5 | pre | TRUE | 2023-03-07 16:20 | 1 | 6 | 5 | 3 | 3 | 5 | 6 |  9 | post | matched |\n",
       "| A_A_01_C | TRUE | 2023-05-01 12:21 | 3 | 2 | 5 | 3 | pre | TRUE | 2023-05-01 13:02 | 3 | 4 | 4 | 4 | 6 | 7 | 7 | 10 | post | matched |\n",
       "| A_A_01_D | TRUE | 2023-05-02 14:13 | 6 | 5 | 5 | 3 | pre | TRUE | 2023-05-02 14:58 | 6 | 5 | 4 | 4 | 5 | 4 | 5 |  7 | post | matched |\n",
       "| A_A_01_M | TRUE | 2023-03-29 20:42 | 6 | 7 | 5 | 3 | pre | TRUE | 2023-04-24 17:01 | 5 | 5 | 4 | 4 | 5 | 4 | 5 |  7 | post | matched |\n",
       "| A_A_02_A | TRUE | 2023-05-01 13:45 | 7 | 6 | 5 | 5 | pre | TRUE | 2023-05-03 14:18 | 6 | 6 | 5 | 3 | 6 | 6 | 7 | 10 | post | matched |\n",
       "| A_A_02_C | TRUE | 2023-03-26 15:06 | 6 | 6 | 6 | 6 | pre | TRUE | 2023-03-26 15:55 | 6 | 6 | 6 | 6 | 6 | 6 | 6 | 10 | post | matched |\n",
       "\n"
      ],
      "text/plain": [
       "  id       Finished.x RecordedDate.x   Q1_a Q2_a Q3_a Q4_a Pre Finished.y\n",
       "1 A_A_01_A TRUE       2022-11-21 17:38 5    2    5    5    pre TRUE      \n",
       "2 A_A_01_C TRUE       2023-05-01 12:21 3    2    5    3    pre TRUE      \n",
       "3 A_A_01_D TRUE       2023-05-02 14:13 6    5    5    3    pre TRUE      \n",
       "4 A_A_01_M TRUE       2023-03-29 20:42 6    7    5    3    pre TRUE      \n",
       "5 A_A_02_A TRUE       2023-05-01 13:45 7    6    5    5    pre TRUE      \n",
       "6 A_A_02_C TRUE       2023-03-26 15:06 6    6    6    6    pre TRUE      \n",
       "  RecordedDate.y   Q1_b Q2_b Q3_b Q4_b Q5 Q6 Q7 Q8 Post Matched\n",
       "1 2023-03-07 16:20 1    6    5    3    3  5  6   9 post matched\n",
       "2 2023-05-01 13:02 3    4    4    4    6  7  7  10 post matched\n",
       "3 2023-05-02 14:58 6    5    4    4    5  4  5   7 post matched\n",
       "4 2023-04-24 17:01 5    5    4    4    5  4  5   7 post matched\n",
       "5 2023-05-03 14:18 6    6    5    3    6  6  7  10 post matched\n",
       "6 2023-03-26 15:55 6    6    6    6    6  6  6  10 post matched"
      ]
     },
     "metadata": {},
     "output_type": "display_data"
    },
    {
     "data": {
      "text/html": [
       "2398"
      ],
      "text/latex": [
       "2398"
      ],
      "text/markdown": [
       "2398"
      ],
      "text/plain": [
       "[1] 2398"
      ]
     },
     "metadata": {},
     "output_type": "display_data"
    }
   ],
   "source": [
    "library(dplyr)\n",
    "\n",
    "# Arrange the data by 'id' and 'RecordedDate.y' in descending order\n",
    "# Then, keep only the first occurrence of each unique 'id' and filter by RecordedDate.y >= RecordedDate.x\n",
    "df <- df %>%\n",
    "  arrange(id, desc(RecordedDate.y)) %>%\n",
    "  group_by(id) %>%\n",
    "  filter(RecordedDate.y >= RecordedDate.x) %>%\n",
    "  slice_head(n = 1) %>%\n",
    "  ungroup()\n",
    "\n",
    "# Print the resulting data frame\n",
    "head(df)\n",
    "nrow(df)"
   ]
  },
  {
   "cell_type": "markdown",
   "metadata": {},
   "source": [
    "`Some of the post surveys had dates before the pre-surveys`"
   ]
  },
  {
   "cell_type": "markdown",
   "metadata": {},
   "source": [
    "`5. Summarize the data for each of Q1-8 by reporting the mean response for each question. Please report the summary statistic for anyone who completed either the pre or post survey.`"
   ]
  },
  {
   "cell_type": "code",
   "execution_count": 13,
   "metadata": {
    "vscode": {
     "languageId": "r"
    }
   },
   "outputs": [
    {
     "data": {
      "text/html": [
       "<table class=\"dataframe\">\n",
       "<caption>A tibble: 1 × 4</caption>\n",
       "<thead>\n",
       "\t<tr><th scope=col>mean_Q1</th><th scope=col>mean_Q2</th><th scope=col>mean_Q3</th><th scope=col>mean_Q4</th></tr>\n",
       "\t<tr><th scope=col>&lt;dbl&gt;</th><th scope=col>&lt;dbl&gt;</th><th scope=col>&lt;dbl&gt;</th><th scope=col>&lt;dbl&gt;</th></tr>\n",
       "</thead>\n",
       "<tbody>\n",
       "\t<tr><td>5.220183</td><td>4.479983</td><td>5.185154</td><td>4.78357</td></tr>\n",
       "</tbody>\n",
       "</table>\n"
      ],
      "text/latex": [
       "A tibble: 1 × 4\n",
       "\\begin{tabular}{llll}\n",
       " mean\\_Q1 & mean\\_Q2 & mean\\_Q3 & mean\\_Q4\\\\\n",
       " <dbl> & <dbl> & <dbl> & <dbl>\\\\\n",
       "\\hline\n",
       "\t 5.220183 & 4.479983 & 5.185154 & 4.78357\\\\\n",
       "\\end{tabular}\n"
      ],
      "text/markdown": [
       "\n",
       "A tibble: 1 × 4\n",
       "\n",
       "| mean_Q1 &lt;dbl&gt; | mean_Q2 &lt;dbl&gt; | mean_Q3 &lt;dbl&gt; | mean_Q4 &lt;dbl&gt; |\n",
       "|---|---|---|---|\n",
       "| 5.220183 | 4.479983 | 5.185154 | 4.78357 |\n",
       "\n"
      ],
      "text/plain": [
       "  mean_Q1  mean_Q2  mean_Q3  mean_Q4\n",
       "1 5.220183 4.479983 5.185154 4.78357"
      ]
     },
     "metadata": {},
     "output_type": "display_data"
    },
    {
     "data": {
      "text/html": [
       "<table class=\"dataframe\">\n",
       "<caption>A tibble: 1 × 8</caption>\n",
       "<thead>\n",
       "\t<tr><th scope=col>mean_Q1</th><th scope=col>mean_Q2</th><th scope=col>mean_Q3</th><th scope=col>mean_Q4</th><th scope=col>mean_Q5</th><th scope=col>mean_Q6</th><th scope=col>mean_Q7</th><th scope=col>mean_Q8</th></tr>\n",
       "\t<tr><th scope=col>&lt;dbl&gt;</th><th scope=col>&lt;dbl&gt;</th><th scope=col>&lt;dbl&gt;</th><th scope=col>&lt;dbl&gt;</th><th scope=col>&lt;dbl&gt;</th><th scope=col>&lt;dbl&gt;</th><th scope=col>&lt;dbl&gt;</th><th scope=col>&lt;dbl&gt;</th></tr>\n",
       "</thead>\n",
       "<tbody>\n",
       "\t<tr><td>5.297748</td><td>4.708924</td><td>5.312344</td><td>5.093411</td><td>5.183486</td><td>5.178482</td><td>5.024604</td><td>6.965388</td></tr>\n",
       "</tbody>\n",
       "</table>\n"
      ],
      "text/latex": [
       "A tibble: 1 × 8\n",
       "\\begin{tabular}{llllllll}\n",
       " mean\\_Q1 & mean\\_Q2 & mean\\_Q3 & mean\\_Q4 & mean\\_Q5 & mean\\_Q6 & mean\\_Q7 & mean\\_Q8\\\\\n",
       " <dbl> & <dbl> & <dbl> & <dbl> & <dbl> & <dbl> & <dbl> & <dbl>\\\\\n",
       "\\hline\n",
       "\t 5.297748 & 4.708924 & 5.312344 & 5.093411 & 5.183486 & 5.178482 & 5.024604 & 6.965388\\\\\n",
       "\\end{tabular}\n"
      ],
      "text/markdown": [
       "\n",
       "A tibble: 1 × 8\n",
       "\n",
       "| mean_Q1 &lt;dbl&gt; | mean_Q2 &lt;dbl&gt; | mean_Q3 &lt;dbl&gt; | mean_Q4 &lt;dbl&gt; | mean_Q5 &lt;dbl&gt; | mean_Q6 &lt;dbl&gt; | mean_Q7 &lt;dbl&gt; | mean_Q8 &lt;dbl&gt; |\n",
       "|---|---|---|---|---|---|---|---|\n",
       "| 5.297748 | 4.708924 | 5.312344 | 5.093411 | 5.183486 | 5.178482 | 5.024604 | 6.965388 |\n",
       "\n"
      ],
      "text/plain": [
       "  mean_Q1  mean_Q2  mean_Q3  mean_Q4  mean_Q5  mean_Q6  mean_Q7  mean_Q8 \n",
       "1 5.297748 4.708924 5.312344 5.093411 5.183486 5.178482 5.024604 6.965388"
      ]
     },
     "metadata": {},
     "output_type": "display_data"
    }
   ],
   "source": [
    "library(dplyr)\n",
    "\n",
    "# Calculate the mean response for each question separately\n",
    "pre_survey_means <- df %>%\n",
    "  filter(Pre == 'pre') %>%\n",
    "  summarise(mean_Q1 = mean(Q1_a, na.rm = TRUE),\n",
    "            mean_Q2 = mean(Q2_a, na.rm = TRUE),\n",
    "            mean_Q3 = mean(Q3_a, na.rm = TRUE),\n",
    "            mean_Q4 = mean(Q4_a, na.rm = TRUE))\n",
    "\n",
    "post_survey_means <- df %>%\n",
    "  filter(Post == 'post') %>%\n",
    "  summarise(mean_Q1 = mean(Q1_b, na.rm = TRUE),\n",
    "            mean_Q2 = mean(Q2_b, na.rm = TRUE),\n",
    "            mean_Q3 = mean(Q3_b, na.rm = TRUE),\n",
    "            mean_Q4 = mean(Q4_b, na.rm = TRUE),\n",
    "            mean_Q5 = mean(Q5, na.rm = TRUE),\n",
    "            mean_Q6 = mean(Q6, na.rm = TRUE),\n",
    "            mean_Q7 = mean(Q7, na.rm = TRUE),\n",
    "            mean_Q8 = mean(Q8, na.rm = TRUE))\n",
    "\n",
    "pre_survey_means\n",
    "post_survey_means"
   ]
  },
  {
   "cell_type": "code",
   "execution_count": 22,
   "metadata": {
    "vscode": {
     "languageId": "r"
    }
   },
   "outputs": [
    {
     "data": {
      "text/html": [
       "<table class=\"dataframe\">\n",
       "<caption>A tibble: 2 × 9</caption>\n",
       "<thead>\n",
       "\t<tr><th scope=col>mean_Q1</th><th scope=col>mean_Q2</th><th scope=col>mean_Q3</th><th scope=col>mean_Q4</th><th scope=col>Survey</th><th scope=col>mean_Q5</th><th scope=col>mean_Q6</th><th scope=col>mean_Q7</th><th scope=col>mean_Q8</th></tr>\n",
       "\t<tr><th scope=col>&lt;dbl&gt;</th><th scope=col>&lt;dbl&gt;</th><th scope=col>&lt;dbl&gt;</th><th scope=col>&lt;dbl&gt;</th><th scope=col>&lt;chr&gt;</th><th scope=col>&lt;dbl&gt;</th><th scope=col>&lt;dbl&gt;</th><th scope=col>&lt;dbl&gt;</th><th scope=col>&lt;dbl&gt;</th></tr>\n",
       "</thead>\n",
       "<tbody>\n",
       "\t<tr><td>5.220183</td><td>4.479983</td><td>5.185154</td><td>4.783570</td><td>Pre </td><td>      NA</td><td>      NA</td><td>      NA</td><td>      NA</td></tr>\n",
       "\t<tr><td>5.297748</td><td>4.708924</td><td>5.312344</td><td>5.093411</td><td>Post</td><td>5.183486</td><td>5.178482</td><td>5.024604</td><td>6.965388</td></tr>\n",
       "</tbody>\n",
       "</table>\n"
      ],
      "text/latex": [
       "A tibble: 2 × 9\n",
       "\\begin{tabular}{lllllllll}\n",
       " mean\\_Q1 & mean\\_Q2 & mean\\_Q3 & mean\\_Q4 & Survey & mean\\_Q5 & mean\\_Q6 & mean\\_Q7 & mean\\_Q8\\\\\n",
       " <dbl> & <dbl> & <dbl> & <dbl> & <chr> & <dbl> & <dbl> & <dbl> & <dbl>\\\\\n",
       "\\hline\n",
       "\t 5.220183 & 4.479983 & 5.185154 & 4.783570 & Pre  &       NA &       NA &       NA &       NA\\\\\n",
       "\t 5.297748 & 4.708924 & 5.312344 & 5.093411 & Post & 5.183486 & 5.178482 & 5.024604 & 6.965388\\\\\n",
       "\\end{tabular}\n"
      ],
      "text/markdown": [
       "\n",
       "A tibble: 2 × 9\n",
       "\n",
       "| mean_Q1 &lt;dbl&gt; | mean_Q2 &lt;dbl&gt; | mean_Q3 &lt;dbl&gt; | mean_Q4 &lt;dbl&gt; | Survey &lt;chr&gt; | mean_Q5 &lt;dbl&gt; | mean_Q6 &lt;dbl&gt; | mean_Q7 &lt;dbl&gt; | mean_Q8 &lt;dbl&gt; |\n",
       "|---|---|---|---|---|---|---|---|---|\n",
       "| 5.220183 | 4.479983 | 5.185154 | 4.783570 | Pre  |       NA |       NA |       NA |       NA |\n",
       "| 5.297748 | 4.708924 | 5.312344 | 5.093411 | Post | 5.183486 | 5.178482 | 5.024604 | 6.965388 |\n",
       "\n"
      ],
      "text/plain": [
       "  mean_Q1  mean_Q2  mean_Q3  mean_Q4  Survey mean_Q5  mean_Q6  mean_Q7 \n",
       "1 5.220183 4.479983 5.185154 4.783570 Pre          NA       NA       NA\n",
       "2 5.297748 4.708924 5.312344 5.093411 Post   5.183486 5.178482 5.024604\n",
       "  mean_Q8 \n",
       "1       NA\n",
       "2 6.965388"
      ]
     },
     "metadata": {},
     "output_type": "display_data"
    }
   ],
   "source": [
    "# Combine pre and post survey means\n",
    "combined_means <- bind_rows(\n",
    "  mutate(pre_survey_means, Survey = \"Pre\"),\n",
    "  mutate(post_survey_means, Survey = \"Post\")\n",
    ")\n",
    "combined_means"
   ]
  },
  {
   "cell_type": "markdown",
   "metadata": {},
   "source": [
    "`6. For individuals with both a pre and post response, compare the individual average change between the pre and post survey for each of Q1-4. Quantify the individual average change and report whether the difference between means is statistically significant.`"
   ]
  },
  {
   "cell_type": "code",
   "execution_count": 15,
   "metadata": {
    "vscode": {
     "languageId": "r"
    }
   },
   "outputs": [
    {
     "data": {
      "text/html": [
       "<table class=\"dataframe\">\n",
       "<caption>A tibble: 1 × 8</caption>\n",
       "<thead>\n",
       "\t<tr><th scope=col>mean_change_Q1</th><th scope=col>mean_change_Q2</th><th scope=col>mean_change_Q3</th><th scope=col>mean_change_Q4</th><th scope=col>ttest_Q1</th><th scope=col>ttest_Q2</th><th scope=col>ttest_Q3</th><th scope=col>ttest_Q4</th></tr>\n",
       "\t<tr><th scope=col>&lt;dbl&gt;</th><th scope=col>&lt;dbl&gt;</th><th scope=col>&lt;dbl&gt;</th><th scope=col>&lt;dbl&gt;</th><th scope=col>&lt;dbl&gt;</th><th scope=col>&lt;dbl&gt;</th><th scope=col>&lt;dbl&gt;</th><th scope=col>&lt;dbl&gt;</th></tr>\n",
       "</thead>\n",
       "<tbody>\n",
       "\t<tr><td>0.07756464</td><td>0.2289408</td><td>0.1271893</td><td>0.3098415</td><td>0.00542085</td><td>1.84344e-17</td><td>1.060035e-07</td><td>1.686736e-34</td></tr>\n",
       "</tbody>\n",
       "</table>\n"
      ],
      "text/latex": [
       "A tibble: 1 × 8\n",
       "\\begin{tabular}{llllllll}\n",
       " mean\\_change\\_Q1 & mean\\_change\\_Q2 & mean\\_change\\_Q3 & mean\\_change\\_Q4 & ttest\\_Q1 & ttest\\_Q2 & ttest\\_Q3 & ttest\\_Q4\\\\\n",
       " <dbl> & <dbl> & <dbl> & <dbl> & <dbl> & <dbl> & <dbl> & <dbl>\\\\\n",
       "\\hline\n",
       "\t 0.07756464 & 0.2289408 & 0.1271893 & 0.3098415 & 0.00542085 & 1.84344e-17 & 1.060035e-07 & 1.686736e-34\\\\\n",
       "\\end{tabular}\n"
      ],
      "text/markdown": [
       "\n",
       "A tibble: 1 × 8\n",
       "\n",
       "| mean_change_Q1 &lt;dbl&gt; | mean_change_Q2 &lt;dbl&gt; | mean_change_Q3 &lt;dbl&gt; | mean_change_Q4 &lt;dbl&gt; | ttest_Q1 &lt;dbl&gt; | ttest_Q2 &lt;dbl&gt; | ttest_Q3 &lt;dbl&gt; | ttest_Q4 &lt;dbl&gt; |\n",
       "|---|---|---|---|---|---|---|---|\n",
       "| 0.07756464 | 0.2289408 | 0.1271893 | 0.3098415 | 0.00542085 | 1.84344e-17 | 1.060035e-07 | 1.686736e-34 |\n",
       "\n"
      ],
      "text/plain": [
       "  mean_change_Q1 mean_change_Q2 mean_change_Q3 mean_change_Q4 ttest_Q1  \n",
       "1 0.07756464     0.2289408      0.1271893      0.3098415      0.00542085\n",
       "  ttest_Q2    ttest_Q3     ttest_Q4    \n",
       "1 1.84344e-17 1.060035e-07 1.686736e-34"
      ]
     },
     "metadata": {},
     "output_type": "display_data"
    }
   ],
   "source": [
    "library(dplyr)\n",
    "library(stats)\n",
    "\n",
    "# Filter rows where both pre and post surveys were completed\n",
    "completed_both <- df %>%\n",
    "  filter(Pre == 'pre', Post == 'post') %>%\n",
    "  select(id, starts_with(\"Q1\"), starts_with(\"Q2\"), starts_with(\"Q3\"), starts_with(\"Q4\"))\n",
    "\n",
    "# Calculate the average change for each participant\n",
    "completed_both <- completed_both %>%\n",
    "  mutate(avg_change_Q1 = Q1_b - Q1_a,\n",
    "         avg_change_Q2 = Q2_b - Q2_a,\n",
    "         avg_change_Q3 = Q3_b - Q3_a,\n",
    "         avg_change_Q4 = Q4_b - Q4_a)\n",
    "\n",
    "# Calculate the mean and perform t-test for each question\n",
    "result_summary <- completed_both %>%\n",
    "  summarise(mean_change_Q1 = mean(avg_change_Q1),\n",
    "            mean_change_Q2 = mean(avg_change_Q2),\n",
    "            mean_change_Q3 = mean(avg_change_Q3),\n",
    "            mean_change_Q4 = mean(avg_change_Q4),\n",
    "            ttest_Q1 = t.test(avg_change_Q1)$p.value,\n",
    "            ttest_Q2 = t.test(avg_change_Q2)$p.value,\n",
    "            ttest_Q3 = t.test(avg_change_Q3)$p.value,\n",
    "            ttest_Q4 = t.test(avg_change_Q4)$p.value)\n",
    "\n",
    "# Print the summary of mean changes and t-test results\n",
    "result_summary"
   ]
  },
  {
   "cell_type": "code",
   "execution_count": 17,
   "metadata": {
    "vscode": {
     "languageId": "r"
    }
   },
   "outputs": [
    {
     "data": {
      "text/html": [
       "<table class=\"dataframe\">\n",
       "<caption>A tibble: 1 × 8</caption>\n",
       "<thead>\n",
       "\t<tr><th scope=col>mean_change_Q1</th><th scope=col>mean_change_Q2</th><th scope=col>mean_change_Q3</th><th scope=col>mean_change_Q4</th><th scope=col>wilcox_Q1</th><th scope=col>wilcox_Q2</th><th scope=col>wilcox_Q3</th><th scope=col>wilcox_Q4</th></tr>\n",
       "\t<tr><th scope=col>&lt;dbl&gt;</th><th scope=col>&lt;dbl&gt;</th><th scope=col>&lt;dbl&gt;</th><th scope=col>&lt;dbl&gt;</th><th scope=col>&lt;dbl&gt;</th><th scope=col>&lt;dbl&gt;</th><th scope=col>&lt;dbl&gt;</th><th scope=col>&lt;dbl&gt;</th></tr>\n",
       "</thead>\n",
       "<tbody>\n",
       "\t<tr><td>0.07756464</td><td>0.2289408</td><td>0.1271893</td><td>0.3098415</td><td>0.002943773</td><td>2.123835e-18</td><td>9.378653e-08</td><td>2.670837e-37</td></tr>\n",
       "</tbody>\n",
       "</table>\n"
      ],
      "text/latex": [
       "A tibble: 1 × 8\n",
       "\\begin{tabular}{llllllll}\n",
       " mean\\_change\\_Q1 & mean\\_change\\_Q2 & mean\\_change\\_Q3 & mean\\_change\\_Q4 & wilcox\\_Q1 & wilcox\\_Q2 & wilcox\\_Q3 & wilcox\\_Q4\\\\\n",
       " <dbl> & <dbl> & <dbl> & <dbl> & <dbl> & <dbl> & <dbl> & <dbl>\\\\\n",
       "\\hline\n",
       "\t 0.07756464 & 0.2289408 & 0.1271893 & 0.3098415 & 0.002943773 & 2.123835e-18 & 9.378653e-08 & 2.670837e-37\\\\\n",
       "\\end{tabular}\n"
      ],
      "text/markdown": [
       "\n",
       "A tibble: 1 × 8\n",
       "\n",
       "| mean_change_Q1 &lt;dbl&gt; | mean_change_Q2 &lt;dbl&gt; | mean_change_Q3 &lt;dbl&gt; | mean_change_Q4 &lt;dbl&gt; | wilcox_Q1 &lt;dbl&gt; | wilcox_Q2 &lt;dbl&gt; | wilcox_Q3 &lt;dbl&gt; | wilcox_Q4 &lt;dbl&gt; |\n",
       "|---|---|---|---|---|---|---|---|\n",
       "| 0.07756464 | 0.2289408 | 0.1271893 | 0.3098415 | 0.002943773 | 2.123835e-18 | 9.378653e-08 | 2.670837e-37 |\n",
       "\n"
      ],
      "text/plain": [
       "  mean_change_Q1 mean_change_Q2 mean_change_Q3 mean_change_Q4 wilcox_Q1  \n",
       "1 0.07756464     0.2289408      0.1271893      0.3098415      0.002943773\n",
       "  wilcox_Q2    wilcox_Q3    wilcox_Q4   \n",
       "1 2.123835e-18 9.378653e-08 2.670837e-37"
      ]
     },
     "metadata": {},
     "output_type": "display_data"
    }
   ],
   "source": [
    "library(dplyr)\n",
    "library(stats)\n",
    "\n",
    "# Filter rows where both pre and post surveys were completed\n",
    "completed_both <- df %>%\n",
    "  filter(Pre == 'pre', Post == 'post') %>%\n",
    "  select(id, starts_with(\"Q1\"), starts_with(\"Q2\"), starts_with(\"Q3\"), starts_with(\"Q4\"))\n",
    "\n",
    "# Calculate the average change for each participant\n",
    "completed_both <- completed_both %>%\n",
    "  mutate(avg_change_Q1 = Q1_b - Q1_a,\n",
    "         avg_change_Q2 = Q2_b - Q2_a,\n",
    "         avg_change_Q3 = Q3_b - Q3_a,\n",
    "         avg_change_Q4 = Q4_b - Q4_a)\n",
    "\n",
    "# Perform Wilcoxon signed-rank test for each question\n",
    "result_summary <- completed_both %>%\n",
    "  summarise(mean_change_Q1 = mean(avg_change_Q1),\n",
    "            mean_change_Q2 = mean(avg_change_Q2),\n",
    "            mean_change_Q3 = mean(avg_change_Q3),\n",
    "            mean_change_Q4 = mean(avg_change_Q4),\n",
    "            wilcox_Q1 = wilcox.test(avg_change_Q1)$p.value,\n",
    "            wilcox_Q2 = wilcox.test(avg_change_Q2)$p.value,\n",
    "            wilcox_Q3 = wilcox.test(avg_change_Q3)$p.value,\n",
    "            wilcox_Q4 = wilcox.test(avg_change_Q4)$p.value)\n",
    "\n",
    "# Print the summary of Wilcoxon signed-rank test results\n",
    "result_summary"
   ]
  },
  {
   "cell_type": "markdown",
   "metadata": {},
   "source": [
    "`Lets explore Ordinal Regression: model an ordinal regression to analyze the relationship between predictor variables (change in q1 to q4 because it has pre and post pairs), q5-q7 and the ordinal response Q8 (would they reccomend the program).`"
   ]
  },
  {
   "cell_type": "code",
   "execution_count": 37,
   "metadata": {
    "vscode": {
     "languageId": "r"
    }
   },
   "outputs": [
    {
     "name": "stdout",
     "output_type": "stream",
     "text": [
      "Call:\n",
      "polr(formula = Q8 ~ avg_change_Q1 + avg_change_Q2 + avg_change_Q3 + \n",
      "    avg_change_Q4 + Q5 + Q6 + Q7, data = df_final, method = \"logistic\")\n",
      "\n",
      "Coefficients:\n",
      "avg_change_Q1 avg_change_Q2 avg_change_Q3 avg_change_Q4            Q5 \n",
      "  -0.01178078    0.02885824    0.03110088   -0.05236186    0.31917856 \n",
      "           Q6            Q7 \n",
      "   0.30071655    0.58818291 \n",
      "\n",
      "Intercepts:\n",
      "     0|1      1|2      2|3      3|4      4|5      5|6      6|7      7|8 \n",
      "1.414372 1.711318 2.136753 2.569527 3.052560 4.854238 5.454709 6.549326 \n",
      "     8|9     9|10 \n",
      "7.739787 8.512687 \n",
      "\n",
      "Residual Deviance: 8553.739 \n",
      "AIC: 8587.739 \n"
     ]
    }
   ],
   "source": [
    "df_final <- df\n",
    "\n",
    "library(MASS)\n",
    "library(dplyr)\n",
    "\n",
    "#polr requires the dependent variable to be a factor\n",
    "df_final$Q8 <- as.factor(df_final$Q8)\n",
    "\n",
    "# Calculate average change for each question\n",
    "df_final$avg_change_Q1 <- df_final$Q1_b - df_final$Q1_a\n",
    "df_final$avg_change_Q2 <- df_final$Q2_b - df_final$Q2_a\n",
    "df_final$avg_change_Q3 <- df_final$Q3_b - df_final$Q3_a\n",
    "df_final$avg_change_Q4 <- df_final$Q4_b - df_final$Q4_a\n",
    "\n",
    "# Fit the ordinal regression model\n",
    "model <- polr(Q8 ~ avg_change_Q1 + avg_change_Q2 + avg_change_Q3 + avg_change_Q4 + Q5 + Q6 + Q7, data = df_final, method = \"logistic\")\n",
    "\n",
    "# Print the model summary\n",
    "print(model)\n"
   ]
  },
  {
   "cell_type": "markdown",
   "metadata": {},
   "source": [
    "`Coefficients: These are the estimated coefficients for each predictor variable in the model.`\n",
    "\n",
    "`avg_change_Q1, avg_change_Q2, avg_change_Q3, and avg_change_Q4: These are the coefficients associated with the average change in Q1, Q2, Q3, and Q4, respectively. The negative sign for avg_change_Q1 and avg_change_Q4 suggests that an increase in the average change of these questions is associated with a lower likelihood of a higher response in Q8 (ordinal response).`\n",
    "\n",
    "`Q5, Q6, and Q7: These coefficients are associated with the predictor variables Q5, Q6, and Q7. For example, a positive coefficient for Q5 suggests that a higher value in Q5 is associated with a higher likelihood of a higher response in Q8.`"
   ]
  },
  {
   "cell_type": "code",
   "execution_count": null,
   "metadata": {
    "vscode": {
     "languageId": "r"
    }
   },
   "outputs": [],
   "source": []
  }
 ],
 "metadata": {
  "kernelspec": {
   "display_name": "R",
   "language": "R",
   "name": "ir"
  },
  "language_info": {
   "codemirror_mode": "r",
   "file_extension": ".r",
   "mimetype": "text/x-r-source",
   "name": "R",
   "pygments_lexer": "r",
   "version": "4.3.0"
  },
  "orig_nbformat": 4
 },
 "nbformat": 4,
 "nbformat_minor": 2
}
