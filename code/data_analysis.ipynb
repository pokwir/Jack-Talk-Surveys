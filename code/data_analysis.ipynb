{
 "cells": [
  {
   "cell_type": "markdown",
   "metadata": {},
   "source": [
    "# **Data Analysis**"
   ]
  },
  {
   "cell_type": "code",
   "execution_count": 1,
   "metadata": {
    "vscode": {
     "languageId": "r"
    }
   },
   "outputs": [],
   "source": [
    "#Setting the stage\n",
    "#File path\n",
    "data <- \"/Users/patrickokwir/Desktop/Lighthouse-data-notes/Jack-Talk-Surveys/data_output/final_df_numeric.csv\""
   ]
  },
  {
   "cell_type": "code",
   "execution_count": 2,
   "metadata": {
    "vscode": {
     "languageId": "r"
    }
   },
   "outputs": [
    {
     "data": {
      "text/html": [
       "<table class=\"dataframe\">\n",
       "<caption>A data.frame: 6 × 20</caption>\n",
       "<thead>\n",
       "\t<tr><th></th><th scope=col>id</th><th scope=col>Finished.x</th><th scope=col>RecordedDate.x</th><th scope=col>Q1_a</th><th scope=col>Q2_a</th><th scope=col>Q3_a</th><th scope=col>Q4_a</th><th scope=col>Pre</th><th scope=col>Finished.y</th><th scope=col>RecordedDate.y</th><th scope=col>Q1_b</th><th scope=col>Q2_b</th><th scope=col>Q3_b</th><th scope=col>Q4_b</th><th scope=col>Q5</th><th scope=col>Q6</th><th scope=col>Q7</th><th scope=col>Q8</th><th scope=col>Post</th><th scope=col>Matched</th></tr>\n",
       "\t<tr><th></th><th scope=col>&lt;chr&gt;</th><th scope=col>&lt;lgl&gt;</th><th scope=col>&lt;chr&gt;</th><th scope=col>&lt;int&gt;</th><th scope=col>&lt;int&gt;</th><th scope=col>&lt;int&gt;</th><th scope=col>&lt;int&gt;</th><th scope=col>&lt;chr&gt;</th><th scope=col>&lt;lgl&gt;</th><th scope=col>&lt;chr&gt;</th><th scope=col>&lt;int&gt;</th><th scope=col>&lt;int&gt;</th><th scope=col>&lt;int&gt;</th><th scope=col>&lt;int&gt;</th><th scope=col>&lt;int&gt;</th><th scope=col>&lt;int&gt;</th><th scope=col>&lt;int&gt;</th><th scope=col>&lt;int&gt;</th><th scope=col>&lt;chr&gt;</th><th scope=col>&lt;chr&gt;</th></tr>\n",
       "</thead>\n",
       "<tbody>\n",
       "\t<tr><th scope=row>1</th><td>A_A_01_C</td><td>TRUE</td><td>2023-05-01 12:21:00</td><td>3</td><td>2</td><td>5</td><td>3</td><td>pre</td><td>TRUE</td><td>2023-05-01 13:02:00</td><td>3</td><td>4</td><td>4</td><td>4</td><td>6</td><td>7</td><td>7</td><td>10</td><td>post</td><td>matched</td></tr>\n",
       "\t<tr><th scope=row>2</th><td>A_A_01_D</td><td>TRUE</td><td>2023-05-02 14:13:00</td><td>6</td><td>5</td><td>5</td><td>3</td><td>pre</td><td>TRUE</td><td>2023-05-02 14:58:00</td><td>6</td><td>5</td><td>4</td><td>4</td><td>5</td><td>4</td><td>5</td><td> 7</td><td>post</td><td>matched</td></tr>\n",
       "\t<tr><th scope=row>3</th><td>A_A_01_M</td><td>TRUE</td><td>2023-04-24 16:19:00</td><td>3</td><td>5</td><td>4</td><td>3</td><td>pre</td><td>TRUE</td><td>2023-04-24 17:01:00</td><td>5</td><td>5</td><td>4</td><td>4</td><td>5</td><td>4</td><td>5</td><td> 7</td><td>post</td><td>matched</td></tr>\n",
       "\t<tr><th scope=row>4</th><td>A_A_02_A</td><td>TRUE</td><td>2023-05-03 13:03:00</td><td>4</td><td>4</td><td>4</td><td>4</td><td>pre</td><td>TRUE</td><td>2023-05-03 14:18:00</td><td>6</td><td>6</td><td>5</td><td>3</td><td>6</td><td>6</td><td>7</td><td>10</td><td>post</td><td>matched</td></tr>\n",
       "\t<tr><th scope=row>5</th><td>A_A_02_C</td><td>TRUE</td><td>2023-03-26 15:06:00</td><td>6</td><td>6</td><td>6</td><td>6</td><td>pre</td><td>TRUE</td><td>2023-03-26 15:55:00</td><td>6</td><td>6</td><td>6</td><td>6</td><td>6</td><td>6</td><td>6</td><td>10</td><td>post</td><td>matched</td></tr>\n",
       "\t<tr><th scope=row>6</th><td>A_A_02_I</td><td>TRUE</td><td>2023-04-14 10:46:00</td><td>7</td><td>7</td><td>7</td><td>7</td><td>pre</td><td>TRUE</td><td>2023-04-14 10:51:00</td><td>7</td><td>7</td><td>7</td><td>7</td><td>7</td><td>6</td><td>7</td><td> 8</td><td>post</td><td>matched</td></tr>\n",
       "</tbody>\n",
       "</table>\n"
      ],
      "text/latex": [
       "A data.frame: 6 × 20\n",
       "\\begin{tabular}{r|llllllllllllllllllll}\n",
       "  & id & Finished.x & RecordedDate.x & Q1\\_a & Q2\\_a & Q3\\_a & Q4\\_a & Pre & Finished.y & RecordedDate.y & Q1\\_b & Q2\\_b & Q3\\_b & Q4\\_b & Q5 & Q6 & Q7 & Q8 & Post & Matched\\\\\n",
       "  & <chr> & <lgl> & <chr> & <int> & <int> & <int> & <int> & <chr> & <lgl> & <chr> & <int> & <int> & <int> & <int> & <int> & <int> & <int> & <int> & <chr> & <chr>\\\\\n",
       "\\hline\n",
       "\t1 & A\\_A\\_01\\_C & TRUE & 2023-05-01 12:21:00 & 3 & 2 & 5 & 3 & pre & TRUE & 2023-05-01 13:02:00 & 3 & 4 & 4 & 4 & 6 & 7 & 7 & 10 & post & matched\\\\\n",
       "\t2 & A\\_A\\_01\\_D & TRUE & 2023-05-02 14:13:00 & 6 & 5 & 5 & 3 & pre & TRUE & 2023-05-02 14:58:00 & 6 & 5 & 4 & 4 & 5 & 4 & 5 &  7 & post & matched\\\\\n",
       "\t3 & A\\_A\\_01\\_M & TRUE & 2023-04-24 16:19:00 & 3 & 5 & 4 & 3 & pre & TRUE & 2023-04-24 17:01:00 & 5 & 5 & 4 & 4 & 5 & 4 & 5 &  7 & post & matched\\\\\n",
       "\t4 & A\\_A\\_02\\_A & TRUE & 2023-05-03 13:03:00 & 4 & 4 & 4 & 4 & pre & TRUE & 2023-05-03 14:18:00 & 6 & 6 & 5 & 3 & 6 & 6 & 7 & 10 & post & matched\\\\\n",
       "\t5 & A\\_A\\_02\\_C & TRUE & 2023-03-26 15:06:00 & 6 & 6 & 6 & 6 & pre & TRUE & 2023-03-26 15:55:00 & 6 & 6 & 6 & 6 & 6 & 6 & 6 & 10 & post & matched\\\\\n",
       "\t6 & A\\_A\\_02\\_I & TRUE & 2023-04-14 10:46:00 & 7 & 7 & 7 & 7 & pre & TRUE & 2023-04-14 10:51:00 & 7 & 7 & 7 & 7 & 7 & 6 & 7 &  8 & post & matched\\\\\n",
       "\\end{tabular}\n"
      ],
      "text/markdown": [
       "\n",
       "A data.frame: 6 × 20\n",
       "\n",
       "| <!--/--> | id &lt;chr&gt; | Finished.x &lt;lgl&gt; | RecordedDate.x &lt;chr&gt; | Q1_a &lt;int&gt; | Q2_a &lt;int&gt; | Q3_a &lt;int&gt; | Q4_a &lt;int&gt; | Pre &lt;chr&gt; | Finished.y &lt;lgl&gt; | RecordedDate.y &lt;chr&gt; | Q1_b &lt;int&gt; | Q2_b &lt;int&gt; | Q3_b &lt;int&gt; | Q4_b &lt;int&gt; | Q5 &lt;int&gt; | Q6 &lt;int&gt; | Q7 &lt;int&gt; | Q8 &lt;int&gt; | Post &lt;chr&gt; | Matched &lt;chr&gt; |\n",
       "|---|---|---|---|---|---|---|---|---|---|---|---|---|---|---|---|---|---|---|---|---|\n",
       "| 1 | A_A_01_C | TRUE | 2023-05-01 12:21:00 | 3 | 2 | 5 | 3 | pre | TRUE | 2023-05-01 13:02:00 | 3 | 4 | 4 | 4 | 6 | 7 | 7 | 10 | post | matched |\n",
       "| 2 | A_A_01_D | TRUE | 2023-05-02 14:13:00 | 6 | 5 | 5 | 3 | pre | TRUE | 2023-05-02 14:58:00 | 6 | 5 | 4 | 4 | 5 | 4 | 5 |  7 | post | matched |\n",
       "| 3 | A_A_01_M | TRUE | 2023-04-24 16:19:00 | 3 | 5 | 4 | 3 | pre | TRUE | 2023-04-24 17:01:00 | 5 | 5 | 4 | 4 | 5 | 4 | 5 |  7 | post | matched |\n",
       "| 4 | A_A_02_A | TRUE | 2023-05-03 13:03:00 | 4 | 4 | 4 | 4 | pre | TRUE | 2023-05-03 14:18:00 | 6 | 6 | 5 | 3 | 6 | 6 | 7 | 10 | post | matched |\n",
       "| 5 | A_A_02_C | TRUE | 2023-03-26 15:06:00 | 6 | 6 | 6 | 6 | pre | TRUE | 2023-03-26 15:55:00 | 6 | 6 | 6 | 6 | 6 | 6 | 6 | 10 | post | matched |\n",
       "| 6 | A_A_02_I | TRUE | 2023-04-14 10:46:00 | 7 | 7 | 7 | 7 | pre | TRUE | 2023-04-14 10:51:00 | 7 | 7 | 7 | 7 | 7 | 6 | 7 |  8 | post | matched |\n",
       "\n"
      ],
      "text/plain": [
       "  id       Finished.x RecordedDate.x      Q1_a Q2_a Q3_a Q4_a Pre Finished.y\n",
       "1 A_A_01_C TRUE       2023-05-01 12:21:00 3    2    5    3    pre TRUE      \n",
       "2 A_A_01_D TRUE       2023-05-02 14:13:00 6    5    5    3    pre TRUE      \n",
       "3 A_A_01_M TRUE       2023-04-24 16:19:00 3    5    4    3    pre TRUE      \n",
       "4 A_A_02_A TRUE       2023-05-03 13:03:00 4    4    4    4    pre TRUE      \n",
       "5 A_A_02_C TRUE       2023-03-26 15:06:00 6    6    6    6    pre TRUE      \n",
       "6 A_A_02_I TRUE       2023-04-14 10:46:00 7    7    7    7    pre TRUE      \n",
       "  RecordedDate.y      Q1_b Q2_b Q3_b Q4_b Q5 Q6 Q7 Q8 Post Matched\n",
       "1 2023-05-01 13:02:00 3    4    4    4    6  7  7  10 post matched\n",
       "2 2023-05-02 14:58:00 6    5    4    4    5  4  5   7 post matched\n",
       "3 2023-04-24 17:01:00 5    5    4    4    5  4  5   7 post matched\n",
       "4 2023-05-03 14:18:00 6    6    5    3    6  6  7  10 post matched\n",
       "5 2023-03-26 15:55:00 6    6    6    6    6  6  6  10 post matched\n",
       "6 2023-04-14 10:51:00 7    7    7    7    7  6  7   8 post matched"
      ]
     },
     "metadata": {},
     "output_type": "display_data"
    }
   ],
   "source": [
    "df <- read.csv(data)\n",
    "head(df)"
   ]
  },
  {
   "cell_type": "markdown",
   "metadata": {},
   "source": [
    "## **Quality Control Checks**"
   ]
  },
  {
   "cell_type": "code",
   "execution_count": 3,
   "metadata": {
    "vscode": {
     "languageId": "r"
    }
   },
   "outputs": [
    {
     "data": {
      "text/html": [
       "0"
      ],
      "text/latex": [
       "0"
      ],
      "text/markdown": [
       "0"
      ],
      "text/plain": [
       "[1] 0"
      ]
     },
     "metadata": {},
     "output_type": "display_data"
    }
   ],
   "source": [
    "# check duplicates based on the 'id' column in df\n",
    "duplicate_rows <- df[duplicated(df$id), ]\n",
    "\n",
    "nrow(duplicate_rows)\n"
   ]
  },
  {
   "cell_type": "code",
   "execution_count": 4,
   "metadata": {
    "vscode": {
     "languageId": "r"
    }
   },
   "outputs": [
    {
     "name": "stderr",
     "output_type": "stream",
     "text": [
      "\n",
      "Attaching package: ‘dplyr’\n",
      "\n",
      "\n",
      "The following objects are masked from ‘package:stats’:\n",
      "\n",
      "    filter, lag\n",
      "\n",
      "\n",
      "The following objects are masked from ‘package:base’:\n",
      "\n",
      "    intersect, setdiff, setequal, union\n",
      "\n",
      "\n"
     ]
    },
    {
     "data": {
      "text/html": [
       "<table class=\"dataframe\">\n",
       "<caption>A tibble: 6 × 20</caption>\n",
       "<thead>\n",
       "\t<tr><th scope=col>id</th><th scope=col>Finished.x</th><th scope=col>RecordedDate.x</th><th scope=col>Q1_a</th><th scope=col>Q2_a</th><th scope=col>Q3_a</th><th scope=col>Q4_a</th><th scope=col>Pre</th><th scope=col>Finished.y</th><th scope=col>RecordedDate.y</th><th scope=col>Q1_b</th><th scope=col>Q2_b</th><th scope=col>Q3_b</th><th scope=col>Q4_b</th><th scope=col>Q5</th><th scope=col>Q6</th><th scope=col>Q7</th><th scope=col>Q8</th><th scope=col>Post</th><th scope=col>Matched</th></tr>\n",
       "\t<tr><th scope=col>&lt;chr&gt;</th><th scope=col>&lt;lgl&gt;</th><th scope=col>&lt;chr&gt;</th><th scope=col>&lt;int&gt;</th><th scope=col>&lt;int&gt;</th><th scope=col>&lt;int&gt;</th><th scope=col>&lt;int&gt;</th><th scope=col>&lt;chr&gt;</th><th scope=col>&lt;lgl&gt;</th><th scope=col>&lt;chr&gt;</th><th scope=col>&lt;int&gt;</th><th scope=col>&lt;int&gt;</th><th scope=col>&lt;int&gt;</th><th scope=col>&lt;int&gt;</th><th scope=col>&lt;int&gt;</th><th scope=col>&lt;int&gt;</th><th scope=col>&lt;int&gt;</th><th scope=col>&lt;int&gt;</th><th scope=col>&lt;chr&gt;</th><th scope=col>&lt;chr&gt;</th></tr>\n",
       "</thead>\n",
       "<tbody>\n",
       "\t<tr><td>A_A_01_C</td><td>TRUE</td><td>2023-05-01 12:21:00</td><td>3</td><td>2</td><td>5</td><td>3</td><td>pre</td><td>TRUE</td><td>2023-05-01 13:02:00</td><td>3</td><td>4</td><td>4</td><td>4</td><td>6</td><td>7</td><td>7</td><td>10</td><td>post</td><td>matched</td></tr>\n",
       "\t<tr><td>A_A_01_D</td><td>TRUE</td><td>2023-05-02 14:13:00</td><td>6</td><td>5</td><td>5</td><td>3</td><td>pre</td><td>TRUE</td><td>2023-05-02 14:58:00</td><td>6</td><td>5</td><td>4</td><td>4</td><td>5</td><td>4</td><td>5</td><td> 7</td><td>post</td><td>matched</td></tr>\n",
       "\t<tr><td>A_A_01_M</td><td>TRUE</td><td>2023-04-24 16:19:00</td><td>3</td><td>5</td><td>4</td><td>3</td><td>pre</td><td>TRUE</td><td>2023-04-24 17:01:00</td><td>5</td><td>5</td><td>4</td><td>4</td><td>5</td><td>4</td><td>5</td><td> 7</td><td>post</td><td>matched</td></tr>\n",
       "\t<tr><td>A_A_02_A</td><td>TRUE</td><td>2023-05-03 13:03:00</td><td>4</td><td>4</td><td>4</td><td>4</td><td>pre</td><td>TRUE</td><td>2023-05-03 14:18:00</td><td>6</td><td>6</td><td>5</td><td>3</td><td>6</td><td>6</td><td>7</td><td>10</td><td>post</td><td>matched</td></tr>\n",
       "\t<tr><td>A_A_02_C</td><td>TRUE</td><td>2023-03-26 15:06:00</td><td>6</td><td>6</td><td>6</td><td>6</td><td>pre</td><td>TRUE</td><td>2023-03-26 15:55:00</td><td>6</td><td>6</td><td>6</td><td>6</td><td>6</td><td>6</td><td>6</td><td>10</td><td>post</td><td>matched</td></tr>\n",
       "\t<tr><td>A_A_02_I</td><td>TRUE</td><td>2023-04-14 10:46:00</td><td>7</td><td>7</td><td>7</td><td>7</td><td>pre</td><td>TRUE</td><td>2023-04-14 10:51:00</td><td>7</td><td>7</td><td>7</td><td>7</td><td>7</td><td>6</td><td>7</td><td> 8</td><td>post</td><td>matched</td></tr>\n",
       "</tbody>\n",
       "</table>\n"
      ],
      "text/latex": [
       "A tibble: 6 × 20\n",
       "\\begin{tabular}{llllllllllllllllllll}\n",
       " id & Finished.x & RecordedDate.x & Q1\\_a & Q2\\_a & Q3\\_a & Q4\\_a & Pre & Finished.y & RecordedDate.y & Q1\\_b & Q2\\_b & Q3\\_b & Q4\\_b & Q5 & Q6 & Q7 & Q8 & Post & Matched\\\\\n",
       " <chr> & <lgl> & <chr> & <int> & <int> & <int> & <int> & <chr> & <lgl> & <chr> & <int> & <int> & <int> & <int> & <int> & <int> & <int> & <int> & <chr> & <chr>\\\\\n",
       "\\hline\n",
       "\t A\\_A\\_01\\_C & TRUE & 2023-05-01 12:21:00 & 3 & 2 & 5 & 3 & pre & TRUE & 2023-05-01 13:02:00 & 3 & 4 & 4 & 4 & 6 & 7 & 7 & 10 & post & matched\\\\\n",
       "\t A\\_A\\_01\\_D & TRUE & 2023-05-02 14:13:00 & 6 & 5 & 5 & 3 & pre & TRUE & 2023-05-02 14:58:00 & 6 & 5 & 4 & 4 & 5 & 4 & 5 &  7 & post & matched\\\\\n",
       "\t A\\_A\\_01\\_M & TRUE & 2023-04-24 16:19:00 & 3 & 5 & 4 & 3 & pre & TRUE & 2023-04-24 17:01:00 & 5 & 5 & 4 & 4 & 5 & 4 & 5 &  7 & post & matched\\\\\n",
       "\t A\\_A\\_02\\_A & TRUE & 2023-05-03 13:03:00 & 4 & 4 & 4 & 4 & pre & TRUE & 2023-05-03 14:18:00 & 6 & 6 & 5 & 3 & 6 & 6 & 7 & 10 & post & matched\\\\\n",
       "\t A\\_A\\_02\\_C & TRUE & 2023-03-26 15:06:00 & 6 & 6 & 6 & 6 & pre & TRUE & 2023-03-26 15:55:00 & 6 & 6 & 6 & 6 & 6 & 6 & 6 & 10 & post & matched\\\\\n",
       "\t A\\_A\\_02\\_I & TRUE & 2023-04-14 10:46:00 & 7 & 7 & 7 & 7 & pre & TRUE & 2023-04-14 10:51:00 & 7 & 7 & 7 & 7 & 7 & 6 & 7 &  8 & post & matched\\\\\n",
       "\\end{tabular}\n"
      ],
      "text/markdown": [
       "\n",
       "A tibble: 6 × 20\n",
       "\n",
       "| id &lt;chr&gt; | Finished.x &lt;lgl&gt; | RecordedDate.x &lt;chr&gt; | Q1_a &lt;int&gt; | Q2_a &lt;int&gt; | Q3_a &lt;int&gt; | Q4_a &lt;int&gt; | Pre &lt;chr&gt; | Finished.y &lt;lgl&gt; | RecordedDate.y &lt;chr&gt; | Q1_b &lt;int&gt; | Q2_b &lt;int&gt; | Q3_b &lt;int&gt; | Q4_b &lt;int&gt; | Q5 &lt;int&gt; | Q6 &lt;int&gt; | Q7 &lt;int&gt; | Q8 &lt;int&gt; | Post &lt;chr&gt; | Matched &lt;chr&gt; |\n",
       "|---|---|---|---|---|---|---|---|---|---|---|---|---|---|---|---|---|---|---|---|\n",
       "| A_A_01_C | TRUE | 2023-05-01 12:21:00 | 3 | 2 | 5 | 3 | pre | TRUE | 2023-05-01 13:02:00 | 3 | 4 | 4 | 4 | 6 | 7 | 7 | 10 | post | matched |\n",
       "| A_A_01_D | TRUE | 2023-05-02 14:13:00 | 6 | 5 | 5 | 3 | pre | TRUE | 2023-05-02 14:58:00 | 6 | 5 | 4 | 4 | 5 | 4 | 5 |  7 | post | matched |\n",
       "| A_A_01_M | TRUE | 2023-04-24 16:19:00 | 3 | 5 | 4 | 3 | pre | TRUE | 2023-04-24 17:01:00 | 5 | 5 | 4 | 4 | 5 | 4 | 5 |  7 | post | matched |\n",
       "| A_A_02_A | TRUE | 2023-05-03 13:03:00 | 4 | 4 | 4 | 4 | pre | TRUE | 2023-05-03 14:18:00 | 6 | 6 | 5 | 3 | 6 | 6 | 7 | 10 | post | matched |\n",
       "| A_A_02_C | TRUE | 2023-03-26 15:06:00 | 6 | 6 | 6 | 6 | pre | TRUE | 2023-03-26 15:55:00 | 6 | 6 | 6 | 6 | 6 | 6 | 6 | 10 | post | matched |\n",
       "| A_A_02_I | TRUE | 2023-04-14 10:46:00 | 7 | 7 | 7 | 7 | pre | TRUE | 2023-04-14 10:51:00 | 7 | 7 | 7 | 7 | 7 | 6 | 7 |  8 | post | matched |\n",
       "\n"
      ],
      "text/plain": [
       "  id       Finished.x RecordedDate.x      Q1_a Q2_a Q3_a Q4_a Pre Finished.y\n",
       "1 A_A_01_C TRUE       2023-05-01 12:21:00 3    2    5    3    pre TRUE      \n",
       "2 A_A_01_D TRUE       2023-05-02 14:13:00 6    5    5    3    pre TRUE      \n",
       "3 A_A_01_M TRUE       2023-04-24 16:19:00 3    5    4    3    pre TRUE      \n",
       "4 A_A_02_A TRUE       2023-05-03 13:03:00 4    4    4    4    pre TRUE      \n",
       "5 A_A_02_C TRUE       2023-03-26 15:06:00 6    6    6    6    pre TRUE      \n",
       "6 A_A_02_I TRUE       2023-04-14 10:46:00 7    7    7    7    pre TRUE      \n",
       "  RecordedDate.y      Q1_b Q2_b Q3_b Q4_b Q5 Q6 Q7 Q8 Post Matched\n",
       "1 2023-05-01 13:02:00 3    4    4    4    6  7  7  10 post matched\n",
       "2 2023-05-02 14:58:00 6    5    4    4    5  4  5   7 post matched\n",
       "3 2023-04-24 17:01:00 5    5    4    4    5  4  5   7 post matched\n",
       "4 2023-05-03 14:18:00 6    6    5    3    6  6  7  10 post matched\n",
       "5 2023-03-26 15:55:00 6    6    6    6    6  6  6  10 post matched\n",
       "6 2023-04-14 10:51:00 7    7    7    7    7  6  7   8 post matched"
      ]
     },
     "metadata": {},
     "output_type": "display_data"
    },
    {
     "data": {
      "text/html": [
       "2325"
      ],
      "text/latex": [
       "2325"
      ],
      "text/markdown": [
       "2325"
      ],
      "text/plain": [
       "[1] 2325"
      ]
     },
     "metadata": {},
     "output_type": "display_data"
    }
   ],
   "source": [
    "library(dplyr)\n",
    "\n",
    "# Arrange the data by 'id' and 'RecordedDate.y' in descending order\n",
    "# Then, keep only the first occurrence of each unique 'id' and filter by RecordedDate.y >= RecordedDate.x\n",
    "df <- df %>%\n",
    "  arrange(id, desc(RecordedDate.y)) %>%\n",
    "  group_by(id) %>%\n",
    "  filter(RecordedDate.y >= RecordedDate.x) %>%\n",
    "  slice_head(n = 1) %>%\n",
    "  ungroup()\n",
    "\n",
    "# Print the resulting data frame\n",
    "head(df)\n",
    "nrow(df)"
   ]
  },
  {
   "cell_type": "markdown",
   "metadata": {},
   "source": [
    "## **5. Summarize the data for each of Q1-8 by reporting the mean response for each question. Please report the summary statistic for anyone who completed either the pre or post survey.**\n",
    "\n",
    "`The requirement is to consider pre and post surveys separately when summarizing the mean responses for each question. This arises from the distinct nature of the pre and post survey data.`\n",
    "\n",
    "`To perform this anlysis, I consider the original cleaned and non-duplicated pre and post survey data.`"
   ]
  },
  {
   "cell_type": "code",
   "execution_count": 5,
   "metadata": {
    "vscode": {
     "languageId": "r"
    }
   },
   "outputs": [],
   "source": [
    "pre <- \"/Users/patrickokwir/Desktop/Lighthouse-data-notes/Jack-Talk-Surveys/data_output/df_pre.csv\"\n",
    "post <- \"/Users/patrickokwir/Desktop/Lighthouse-data-notes/Jack-Talk-Surveys/data_output/df_post.csv\"\n",
    "\n",
    "df_pre <- read.csv(pre)\n",
    "df_post <- read.csv(post)"
   ]
  },
  {
   "cell_type": "code",
   "execution_count": 6,
   "metadata": {
    "vscode": {
     "languageId": "r"
    }
   },
   "outputs": [],
   "source": [
    "library(dplyr)\n",
    "\n",
    "# Define a function to map responses to numerical values\n",
    "map_responses <- function(response) {\n",
    "  # function to map responses to numerical values\n",
    "  mapping <- c('Strongly disagree' = 1, # nolint\n",
    "               'Disagree' = 2, # nolint\n",
    "               'Somewhat disagree' = 3,\n",
    "               'Neither agree nor disagree' = 4,\n",
    "               'Somewhat agree' = 5,\n",
    "               'Agree' = 6,\n",
    "               'Strongly agree' = 7)\n",
    "  return(mapping[response])\n",
    "}"
   ]
  },
  {
   "cell_type": "code",
   "execution_count": 7,
   "metadata": {
    "vscode": {
     "languageId": "r"
    }
   },
   "outputs": [],
   "source": [
    "# Apply the mapping function to the specified columns in df_pre\n",
    "df_pre <- df_pre %>%\n",
    "  mutate(across(c(Q1_a,\n",
    "                Q2_a,\n",
    "                Q3_a,\n",
    "                Q4_a),\n",
    "                map_responses))\n",
    "\n",
    "# Apply the mapping function to the specified columns in df_post\n",
    "df_post <- df_post %>%\n",
    "  mutate(across(c(Q1_b,\n",
    "                Q2_b,\n",
    "                Q3_b,\n",
    "                Q4_b,\n",
    "                Q5,\n",
    "                Q6,\n",
    "                Q7),\n",
    "                map_responses))"
   ]
  },
  {
   "cell_type": "code",
   "execution_count": 8,
   "metadata": {
    "vscode": {
     "languageId": "r"
    }
   },
   "outputs": [
    {
     "data": {
      "text/html": [
       "<table class=\"dataframe\">\n",
       "<caption>A data.frame: 1 × 4</caption>\n",
       "<thead>\n",
       "\t<tr><th scope=col>mean_Q1</th><th scope=col>mean_Q2</th><th scope=col>mean_Q3</th><th scope=col>mean_Q4</th></tr>\n",
       "\t<tr><th scope=col>&lt;dbl&gt;</th><th scope=col>&lt;dbl&gt;</th><th scope=col>&lt;dbl&gt;</th><th scope=col>&lt;dbl&gt;</th></tr>\n",
       "</thead>\n",
       "<tbody>\n",
       "\t<tr><td>5.013998</td><td>4.332652</td><td>5.04687</td><td>4.699906</td></tr>\n",
       "</tbody>\n",
       "</table>\n"
      ],
      "text/latex": [
       "A data.frame: 1 × 4\n",
       "\\begin{tabular}{llll}\n",
       " mean\\_Q1 & mean\\_Q2 & mean\\_Q3 & mean\\_Q4\\\\\n",
       " <dbl> & <dbl> & <dbl> & <dbl>\\\\\n",
       "\\hline\n",
       "\t 5.013998 & 4.332652 & 5.04687 & 4.699906\\\\\n",
       "\\end{tabular}\n"
      ],
      "text/markdown": [
       "\n",
       "A data.frame: 1 × 4\n",
       "\n",
       "| mean_Q1 &lt;dbl&gt; | mean_Q2 &lt;dbl&gt; | mean_Q3 &lt;dbl&gt; | mean_Q4 &lt;dbl&gt; |\n",
       "|---|---|---|---|\n",
       "| 5.013998 | 4.332652 | 5.04687 | 4.699906 |\n",
       "\n"
      ],
      "text/plain": [
       "  mean_Q1  mean_Q2  mean_Q3 mean_Q4 \n",
       "1 5.013998 4.332652 5.04687 4.699906"
      ]
     },
     "metadata": {},
     "output_type": "display_data"
    },
    {
     "data": {
      "text/html": [
       "<table class=\"dataframe\">\n",
       "<caption>A data.frame: 1 × 8</caption>\n",
       "<thead>\n",
       "\t<tr><th scope=col>mean_Q1</th><th scope=col>mean_Q2</th><th scope=col>mean_Q3</th><th scope=col>mean_Q4</th><th scope=col>mean_Q5</th><th scope=col>mean_Q6</th><th scope=col>mean_Q7</th><th scope=col>mean_Q8</th></tr>\n",
       "\t<tr><th scope=col>&lt;dbl&gt;</th><th scope=col>&lt;dbl&gt;</th><th scope=col>&lt;dbl&gt;</th><th scope=col>&lt;dbl&gt;</th><th scope=col>&lt;dbl&gt;</th><th scope=col>&lt;dbl&gt;</th><th scope=col>&lt;dbl&gt;</th><th scope=col>&lt;dbl&gt;</th></tr>\n",
       "</thead>\n",
       "<tbody>\n",
       "\t<tr><td>5.229696</td><td>4.681339</td><td>5.234346</td><td>5.035338</td><td>5.107254</td><td>5.110043</td><td>4.980161</td><td>6.946683</td></tr>\n",
       "</tbody>\n",
       "</table>\n"
      ],
      "text/latex": [
       "A data.frame: 1 × 8\n",
       "\\begin{tabular}{llllllll}\n",
       " mean\\_Q1 & mean\\_Q2 & mean\\_Q3 & mean\\_Q4 & mean\\_Q5 & mean\\_Q6 & mean\\_Q7 & mean\\_Q8\\\\\n",
       " <dbl> & <dbl> & <dbl> & <dbl> & <dbl> & <dbl> & <dbl> & <dbl>\\\\\n",
       "\\hline\n",
       "\t 5.229696 & 4.681339 & 5.234346 & 5.035338 & 5.107254 & 5.110043 & 4.980161 & 6.946683\\\\\n",
       "\\end{tabular}\n"
      ],
      "text/markdown": [
       "\n",
       "A data.frame: 1 × 8\n",
       "\n",
       "| mean_Q1 &lt;dbl&gt; | mean_Q2 &lt;dbl&gt; | mean_Q3 &lt;dbl&gt; | mean_Q4 &lt;dbl&gt; | mean_Q5 &lt;dbl&gt; | mean_Q6 &lt;dbl&gt; | mean_Q7 &lt;dbl&gt; | mean_Q8 &lt;dbl&gt; |\n",
       "|---|---|---|---|---|---|---|---|\n",
       "| 5.229696 | 4.681339 | 5.234346 | 5.035338 | 5.107254 | 5.110043 | 4.980161 | 6.946683 |\n",
       "\n"
      ],
      "text/plain": [
       "  mean_Q1  mean_Q2  mean_Q3  mean_Q4  mean_Q5  mean_Q6  mean_Q7  mean_Q8 \n",
       "1 5.229696 4.681339 5.234346 5.035338 5.107254 5.110043 4.980161 6.946683"
      ]
     },
     "metadata": {},
     "output_type": "display_data"
    }
   ],
   "source": [
    "library(dplyr)\n",
    "\n",
    "# Calculate the mean response for each question separately\n",
    "pre_survey_means <- df_pre %>%\n",
    "  summarise(mean_Q1 = mean(Q1_a, na.rm = TRUE),\n",
    "            mean_Q2 = mean(Q2_a, na.rm = TRUE),\n",
    "            mean_Q3 = mean(Q3_a, na.rm = TRUE),\n",
    "            mean_Q4 = mean(Q4_a, na.rm = TRUE))\n",
    "\n",
    "post_survey_means <- df_post %>%\n",
    "  summarise(mean_Q1 = mean(Q1_b, na.rm = TRUE),\n",
    "            mean_Q2 = mean(Q2_b, na.rm = TRUE),\n",
    "            mean_Q3 = mean(Q3_b, na.rm = TRUE),\n",
    "            mean_Q4 = mean(Q4_b, na.rm = TRUE),\n",
    "            mean_Q5 = mean(Q5, na.rm = TRUE),\n",
    "            mean_Q6 = mean(Q6, na.rm = TRUE),\n",
    "            mean_Q7 = mean(Q7, na.rm = TRUE),\n",
    "            mean_Q8 = mean(Q8, na.rm = TRUE))\n",
    "\n",
    "pre_survey_means\n",
    "post_survey_means"
   ]
  },
  {
   "cell_type": "code",
   "execution_count": 9,
   "metadata": {
    "vscode": {
     "languageId": "r"
    }
   },
   "outputs": [
    {
     "data": {
      "text/html": [
       "5.05"
      ],
      "text/latex": [
       "5.05"
      ],
      "text/markdown": [
       "5.05"
      ],
      "text/plain": [
       "[1] 5.05"
      ]
     },
     "metadata": {},
     "output_type": "display_data"
    }
   ],
   "source": [
    "round(pre_survey_means[1,3],2)"
   ]
  },
  {
   "cell_type": "code",
   "execution_count": 10,
   "metadata": {
    "vscode": {
     "languageId": "r"
    }
   },
   "outputs": [
    {
     "data": {
      "image/png": "[encoded data removed]",
      "text/plain": [
       "plot without title"
      ]
     },
     "metadata": {
      "image/png": {
       "height": 420,
       "width": 420
      }
     },
     "output_type": "display_data"
    }
   ],
   "source": [
    "# Load the necessary library\n",
    "library(ggplot2)\n",
    "\n",
    "# data\n",
    "data_means <- data.frame(\n",
    "  question = c(\"Q1\", \"Q2\", \"Q3\", \"Q4\", \"Q5\", \"Q6\", \"Q7\", \"Q8\"),\n",
    "  mean_value = c(round(post_survey_means[1,1], 2), \n",
    "                  round(post_survey_means[1,2], 2), \n",
    "                  round(post_survey_means[1,3], 2), \n",
    "                  round(post_survey_means[1,4], 2), \n",
    "                  round(post_survey_means[1,5], 2), \n",
    "                  round(post_survey_means[1,6], 2), \n",
    "                  round(post_survey_means[1,7], 2), \n",
    "                  round(post_survey_means[1,8], 2))\n",
    ")\n",
    "\n",
    "ggplot(data_means, aes(x = question, y = mean_value, fill = question)) +\n",
    "  geom_col(width = 0.000, aes(color = factor(question))) + geom_point(size =12, aes(color = factor(question))) +\n",
    "  geom_text(aes(label = mean_value), position = position_stack(vjust = 1.07), color = \"white\") +\n",
    "  scale_fill_manual(values = rep(c(\"#0cb9f8\", \"#04d6b3\", \"#ee7503\", \"#a295eb\"), times = nrow(data_means))) +\n",
    "  theme_minimal() +\n",
    "  theme(plot.background = element_rect(fill = \"#050022\"),plot.margin = unit(c(1, 1, 1, 1), \"cm\"),\n",
    "        panel.background = element_rect(fill = \"#050022\"),\n",
    "        panel.grid.major = element_blank(),\n",
    "        panel.grid.minor = element_blank(),\n",
    "        axis.line = element_line(color = \"white\"),\n",
    "        axis.line.y = element_blank(),\n",
    "        axis.line.x = element_blank(),\n",
    "        axis.text = element_text(color = \"white\"),\n",
    "        axis.title = element_blank(),\n",
    "        axis.ticks = element_blank(),\n",
    "        legend.position = \"none\", \n",
    "        axis.title.y = element_text(color = \"white\"), \n",
    "        plot.title = element_text(color = \"white\", size = 17, lineheight = 5, vjust = -2, hjust = 0.5)) +\n",
    "  labs(title = \"Mean Values Summary\",\n",
    "       y = \"Mean Value\") +\n",
    "  ylim(c(0, max(data_means$mean_value) + 0.5))\n",
    "  # +ggsave(\"/Users/patrickokwir/Desktop/Lighthouse-data-notes/Jack-Talk-Surveys/assets/post_mean.png\", width = 8, height = 6, units = \"in\")"
   ]
  },
  {
   "cell_type": "code",
   "execution_count": 11,
   "metadata": {
    "vscode": {
     "languageId": "r"
    }
   },
   "outputs": [
    {
     "data": {
      "image/png": "[encoded data removed]",
      "text/plain": [
       "plot without title"
      ]
     },
     "metadata": {
      "image/png": {
       "height": 420,
       "width": 420
      }
     },
     "output_type": "display_data"
    }
   ],
   "source": [
    "# plot data for pre survey\n",
    "#plot pre results \n",
    "\n",
    "# Load the necessary library\n",
    "library(ggplot2)\n",
    "\n",
    "# data\n",
    "data_means <- data.frame(\n",
    "  question = c(\"Q1\", \"Q2\", \"Q3\", \"Q4\"),\n",
    "  mean_value = c(round(pre_survey_means[1,1],2), round(pre_survey_means[1,2],2), round(pre_survey_means[1,3],2), round(pre_survey_means[1,4],2))\n",
    ")\n",
    "\n",
    "ggplot(data_means, aes(x = question, y = mean_value, fill = question)) +\n",
    "  geom_col(width = 0.005, aes(color = factor(question))) + geom_point(size =10, aes(color = factor(question))) +\n",
    "  geom_text(aes(label = round(mean_value, 2)), position = position_stack(vjust = 1.08), color = \"white\") +\n",
    "  scale_fill_manual(values = rep(c(\"#0cb9f8\", \"#04d6b3\", \"#ee7503\", \"#a295eb\" ), times = nrow(data_means))) +\n",
    "  theme_minimal() +\n",
    "  theme(plot.background = element_rect(fill = \"#050022\"),plot.margin = unit(c(1, 1, 1, 1), \"cm\"),\n",
    "        panel.background = element_rect(fill = \"#050022\"),\n",
    "        panel.grid.major = element_blank(),\n",
    "        panel.grid.minor = element_blank(),\n",
    "        axis.line = element_line(color = \"white\"),\n",
    "        axis.line.y = element_blank(),\n",
    "        axis.line.x = element_blank(),\n",
    "        axis.text = element_text(color = \"white\"),\n",
    "        axis.title = element_blank(),\n",
    "        axis.ticks = element_blank(),\n",
    "        legend.position = \"none\",\n",
    "        axis.title.y = element_text(color = \"white\"), \n",
    "        plot.title = element_text(color = \"white\", size = 17, lineheight = 5, vjust = -2, hjust = 0.5)) +\n",
    "  labs(title = \"Mean Values Summary\",\n",
    "       y = \"Mean Value\") +\n",
    "  ylim(c(0, max(data_means$mean_value) + 0.5))\n",
    "  #+ ggsave(\"/Users/patrickokwir/Desktop/Lighthouse-data-notes/Jack-Talk-Surveys/assets/pre_mean.png\", width = 8, height = 6, units = \"in\")\n",
    "\n"
   ]
  },
  {
   "cell_type": "code",
   "execution_count": 12,
   "metadata": {
    "vscode": {
     "languageId": "r"
    }
   },
   "outputs": [
    {
     "data": {
      "text/html": [
       "<table class=\"dataframe\">\n",
       "<caption>A data.frame: 2 × 9</caption>\n",
       "<thead>\n",
       "\t<tr><th scope=col>mean_Q1</th><th scope=col>mean_Q2</th><th scope=col>mean_Q3</th><th scope=col>mean_Q4</th><th scope=col>Survey</th><th scope=col>mean_Q5</th><th scope=col>mean_Q6</th><th scope=col>mean_Q7</th><th scope=col>mean_Q8</th></tr>\n",
       "\t<tr><th scope=col>&lt;dbl&gt;</th><th scope=col>&lt;dbl&gt;</th><th scope=col>&lt;dbl&gt;</th><th scope=col>&lt;dbl&gt;</th><th scope=col>&lt;chr&gt;</th><th scope=col>&lt;dbl&gt;</th><th scope=col>&lt;dbl&gt;</th><th scope=col>&lt;dbl&gt;</th><th scope=col>&lt;dbl&gt;</th></tr>\n",
       "</thead>\n",
       "<tbody>\n",
       "\t<tr><td>5.013998</td><td>4.332652</td><td>5.046870</td><td>4.699906</td><td>Pre </td><td>      NA</td><td>      NA</td><td>      NA</td><td>      NA</td></tr>\n",
       "\t<tr><td>5.229696</td><td>4.681339</td><td>5.234346</td><td>5.035338</td><td>Post</td><td>5.107254</td><td>5.110043</td><td>4.980161</td><td>6.946683</td></tr>\n",
       "</tbody>\n",
       "</table>\n"
      ],
      "text/latex": [
       "A data.frame: 2 × 9\n",
       "\\begin{tabular}{lllllllll}\n",
       " mean\\_Q1 & mean\\_Q2 & mean\\_Q3 & mean\\_Q4 & Survey & mean\\_Q5 & mean\\_Q6 & mean\\_Q7 & mean\\_Q8\\\\\n",
       " <dbl> & <dbl> & <dbl> & <dbl> & <chr> & <dbl> & <dbl> & <dbl> & <dbl>\\\\\n",
       "\\hline\n",
       "\t 5.013998 & 4.332652 & 5.046870 & 4.699906 & Pre  &       NA &       NA &       NA &       NA\\\\\n",
       "\t 5.229696 & 4.681339 & 5.234346 & 5.035338 & Post & 5.107254 & 5.110043 & 4.980161 & 6.946683\\\\\n",
       "\\end{tabular}\n"
      ],
      "text/markdown": [
       "\n",
       "A data.frame: 2 × 9\n",
       "\n",
       "| mean_Q1 &lt;dbl&gt; | mean_Q2 &lt;dbl&gt; | mean_Q3 &lt;dbl&gt; | mean_Q4 &lt;dbl&gt; | Survey &lt;chr&gt; | mean_Q5 &lt;dbl&gt; | mean_Q6 &lt;dbl&gt; | mean_Q7 &lt;dbl&gt; | mean_Q8 &lt;dbl&gt; |\n",
       "|---|---|---|---|---|---|---|---|---|\n",
       "| 5.013998 | 4.332652 | 5.046870 | 4.699906 | Pre  |       NA |       NA |       NA |       NA |\n",
       "| 5.229696 | 4.681339 | 5.234346 | 5.035338 | Post | 5.107254 | 5.110043 | 4.980161 | 6.946683 |\n",
       "\n"
      ],
      "text/plain": [
       "  mean_Q1  mean_Q2  mean_Q3  mean_Q4  Survey mean_Q5  mean_Q6  mean_Q7 \n",
       "1 5.013998 4.332652 5.046870 4.699906 Pre          NA       NA       NA\n",
       "2 5.229696 4.681339 5.234346 5.035338 Post   5.107254 5.110043 4.980161\n",
       "  mean_Q8 \n",
       "1       NA\n",
       "2 6.946683"
      ]
     },
     "metadata": {},
     "output_type": "display_data"
    }
   ],
   "source": [
    "# Combine pre and post survey means\n",
    "combined_means <- bind_rows(\n",
    "  mutate(pre_survey_means, Survey = \"Pre\"),\n",
    "  mutate(post_survey_means, Survey = \"Post\")\n",
    ")\n",
    "combined_means"
   ]
  },
  {
   "cell_type": "code",
   "execution_count": 13,
   "metadata": {
    "vscode": {
     "languageId": "r"
    }
   },
   "outputs": [
    {
     "data": {
      "text/html": [
       "<table class=\"dataframe\">\n",
       "<caption>A data.frame: 2 × 9</caption>\n",
       "<thead>\n",
       "\t<tr><th scope=col>mean_Q1</th><th scope=col>mean_Q2</th><th scope=col>mean_Q3</th><th scope=col>mean_Q4</th><th scope=col>Survey</th><th scope=col>mean_Q5</th><th scope=col>mean_Q6</th><th scope=col>mean_Q7</th><th scope=col>mean_Q8</th></tr>\n",
       "\t<tr><th scope=col>&lt;dbl&gt;</th><th scope=col>&lt;dbl&gt;</th><th scope=col>&lt;dbl&gt;</th><th scope=col>&lt;dbl&gt;</th><th scope=col>&lt;chr&gt;</th><th scope=col>&lt;dbl&gt;</th><th scope=col>&lt;dbl&gt;</th><th scope=col>&lt;dbl&gt;</th><th scope=col>&lt;dbl&gt;</th></tr>\n",
       "</thead>\n",
       "<tbody>\n",
       "\t<tr><td>5.013998</td><td>4.332652</td><td>5.046870</td><td>4.699906</td><td>Pre </td><td>      NA</td><td>      NA</td><td>      NA</td><td>      NA</td></tr>\n",
       "\t<tr><td>5.229696</td><td>4.681339</td><td>5.234346</td><td>5.035338</td><td>Post</td><td>5.107254</td><td>5.110043</td><td>4.980161</td><td>6.946683</td></tr>\n",
       "</tbody>\n",
       "</table>\n"
      ],
      "text/latex": [
       "A data.frame: 2 × 9\n",
       "\\begin{tabular}{lllllllll}\n",
       " mean\\_Q1 & mean\\_Q2 & mean\\_Q3 & mean\\_Q4 & Survey & mean\\_Q5 & mean\\_Q6 & mean\\_Q7 & mean\\_Q8\\\\\n",
       " <dbl> & <dbl> & <dbl> & <dbl> & <chr> & <dbl> & <dbl> & <dbl> & <dbl>\\\\\n",
       "\\hline\n",
       "\t 5.013998 & 4.332652 & 5.046870 & 4.699906 & Pre  &       NA &       NA &       NA &       NA\\\\\n",
       "\t 5.229696 & 4.681339 & 5.234346 & 5.035338 & Post & 5.107254 & 5.110043 & 4.980161 & 6.946683\\\\\n",
       "\\end{tabular}\n"
      ],
      "text/markdown": [
       "\n",
       "A data.frame: 2 × 9\n",
       "\n",
       "| mean_Q1 &lt;dbl&gt; | mean_Q2 &lt;dbl&gt; | mean_Q3 &lt;dbl&gt; | mean_Q4 &lt;dbl&gt; | Survey &lt;chr&gt; | mean_Q5 &lt;dbl&gt; | mean_Q6 &lt;dbl&gt; | mean_Q7 &lt;dbl&gt; | mean_Q8 &lt;dbl&gt; |\n",
       "|---|---|---|---|---|---|---|---|---|\n",
       "| 5.013998 | 4.332652 | 5.046870 | 4.699906 | Pre  |       NA |       NA |       NA |       NA |\n",
       "| 5.229696 | 4.681339 | 5.234346 | 5.035338 | Post | 5.107254 | 5.110043 | 4.980161 | 6.946683 |\n",
       "\n"
      ],
      "text/plain": [
       "  mean_Q1  mean_Q2  mean_Q3  mean_Q4  Survey mean_Q5  mean_Q6  mean_Q7 \n",
       "1 5.013998 4.332652 5.046870 4.699906 Pre          NA       NA       NA\n",
       "2 5.229696 4.681339 5.234346 5.035338 Post   5.107254 5.110043 4.980161\n",
       "  mean_Q8 \n",
       "1       NA\n",
       "2 6.946683"
      ]
     },
     "metadata": {},
     "output_type": "display_data"
    }
   ],
   "source": [
    "qn_5 <- combined_means\n",
    "qn_5"
   ]
  },
  {
   "cell_type": "code",
   "execution_count": 14,
   "metadata": {
    "vscode": {
     "languageId": "r"
    }
   },
   "outputs": [],
   "source": [
    "# write df to csv\n",
    "write.csv(combined_means, \"/Users/patrickokwir/Desktop/Lighthouse-data-notes/Jack-Talk-Surveys/data_output/qn_5.csv\", row.names = FALSE)"
   ]
  },
  {
   "cell_type": "markdown",
   "metadata": {},
   "source": [
    "## **6. For individuals with both a pre and post response, compare the individual average change between the pre and post survey for each of Q1-4. Quantify the individual average change and report whether the difference between means is statistically significant.**\n",
    "\n",
    "The dataset used for this analysis is the combined, cleaned, unduplicated pre and post dataset. \n",
    "\n",
    "To test for significance, I used the **Wilcoxon signed-rank test.**\n",
    "\n",
    "**The Wilcoxon signed-rank test is a non-parametric statistical test that is appropriate for comparing paired data when the distribution of the data may not be normal or when the assumptions of parametric tests like the t-test are not met. In this case, we are comparing the individual average change between the pre and post surveys for each question (Q1-4). Here are the reasons why the Wilcoxon signed-rank test is a suitable choice:**\n",
    "\n",
    "- Paired Data: The Wilcoxon signed-rank test is designed for paired data, where each individual has two related measurements\n",
    "- Non-Normal Distribution: If the data distribution is not normal, the Wilcoxon signed-rank test provides meaningful results.\n",
    "- Ordinal Data: Our data has ordinal response categories (Likert scale), the Wilcoxon test is appropriate because it does not require interval-level data.\n",
    "- Sensitive to Shifts: The Wilcoxon signed-rank test is sensitive to detecting shifts in the distribution, making it suitable for detecting changes in responses."
   ]
  },
  {
   "cell_type": "code",
   "execution_count": 15,
   "metadata": {
    "vscode": {
     "languageId": "r"
    }
   },
   "outputs": [
    {
     "data": {
      "text/html": [
       "<table class=\"dataframe\">\n",
       "<caption>A tibble: 6 × 20</caption>\n",
       "<thead>\n",
       "\t<tr><th scope=col>id</th><th scope=col>Finished.x</th><th scope=col>RecordedDate.x</th><th scope=col>Q1_a</th><th scope=col>Q2_a</th><th scope=col>Q3_a</th><th scope=col>Q4_a</th><th scope=col>Pre</th><th scope=col>Finished.y</th><th scope=col>RecordedDate.y</th><th scope=col>Q1_b</th><th scope=col>Q2_b</th><th scope=col>Q3_b</th><th scope=col>Q4_b</th><th scope=col>Q5</th><th scope=col>Q6</th><th scope=col>Q7</th><th scope=col>Q8</th><th scope=col>Post</th><th scope=col>Matched</th></tr>\n",
       "\t<tr><th scope=col>&lt;chr&gt;</th><th scope=col>&lt;lgl&gt;</th><th scope=col>&lt;chr&gt;</th><th scope=col>&lt;int&gt;</th><th scope=col>&lt;int&gt;</th><th scope=col>&lt;int&gt;</th><th scope=col>&lt;int&gt;</th><th scope=col>&lt;chr&gt;</th><th scope=col>&lt;lgl&gt;</th><th scope=col>&lt;chr&gt;</th><th scope=col>&lt;int&gt;</th><th scope=col>&lt;int&gt;</th><th scope=col>&lt;int&gt;</th><th scope=col>&lt;int&gt;</th><th scope=col>&lt;int&gt;</th><th scope=col>&lt;int&gt;</th><th scope=col>&lt;int&gt;</th><th scope=col>&lt;int&gt;</th><th scope=col>&lt;chr&gt;</th><th scope=col>&lt;chr&gt;</th></tr>\n",
       "</thead>\n",
       "<tbody>\n",
       "\t<tr><td>A_A_01_C</td><td>TRUE</td><td>2023-05-01 12:21:00</td><td>3</td><td>2</td><td>5</td><td>3</td><td>pre</td><td>TRUE</td><td>2023-05-01 13:02:00</td><td>3</td><td>4</td><td>4</td><td>4</td><td>6</td><td>7</td><td>7</td><td>10</td><td>post</td><td>matched</td></tr>\n",
       "\t<tr><td>A_A_01_D</td><td>TRUE</td><td>2023-05-02 14:13:00</td><td>6</td><td>5</td><td>5</td><td>3</td><td>pre</td><td>TRUE</td><td>2023-05-02 14:58:00</td><td>6</td><td>5</td><td>4</td><td>4</td><td>5</td><td>4</td><td>5</td><td> 7</td><td>post</td><td>matched</td></tr>\n",
       "\t<tr><td>A_A_01_M</td><td>TRUE</td><td>2023-04-24 16:19:00</td><td>3</td><td>5</td><td>4</td><td>3</td><td>pre</td><td>TRUE</td><td>2023-04-24 17:01:00</td><td>5</td><td>5</td><td>4</td><td>4</td><td>5</td><td>4</td><td>5</td><td> 7</td><td>post</td><td>matched</td></tr>\n",
       "\t<tr><td>A_A_02_A</td><td>TRUE</td><td>2023-05-03 13:03:00</td><td>4</td><td>4</td><td>4</td><td>4</td><td>pre</td><td>TRUE</td><td>2023-05-03 14:18:00</td><td>6</td><td>6</td><td>5</td><td>3</td><td>6</td><td>6</td><td>7</td><td>10</td><td>post</td><td>matched</td></tr>\n",
       "\t<tr><td>A_A_02_C</td><td>TRUE</td><td>2023-03-26 15:06:00</td><td>6</td><td>6</td><td>6</td><td>6</td><td>pre</td><td>TRUE</td><td>2023-03-26 15:55:00</td><td>6</td><td>6</td><td>6</td><td>6</td><td>6</td><td>6</td><td>6</td><td>10</td><td>post</td><td>matched</td></tr>\n",
       "\t<tr><td>A_A_02_I</td><td>TRUE</td><td>2023-04-14 10:46:00</td><td>7</td><td>7</td><td>7</td><td>7</td><td>pre</td><td>TRUE</td><td>2023-04-14 10:51:00</td><td>7</td><td>7</td><td>7</td><td>7</td><td>7</td><td>6</td><td>7</td><td> 8</td><td>post</td><td>matched</td></tr>\n",
       "</tbody>\n",
       "</table>\n"
      ],
      "text/latex": [
       "A tibble: 6 × 20\n",
       "\\begin{tabular}{llllllllllllllllllll}\n",
       " id & Finished.x & RecordedDate.x & Q1\\_a & Q2\\_a & Q3\\_a & Q4\\_a & Pre & Finished.y & RecordedDate.y & Q1\\_b & Q2\\_b & Q3\\_b & Q4\\_b & Q5 & Q6 & Q7 & Q8 & Post & Matched\\\\\n",
       " <chr> & <lgl> & <chr> & <int> & <int> & <int> & <int> & <chr> & <lgl> & <chr> & <int> & <int> & <int> & <int> & <int> & <int> & <int> & <int> & <chr> & <chr>\\\\\n",
       "\\hline\n",
       "\t A\\_A\\_01\\_C & TRUE & 2023-05-01 12:21:00 & 3 & 2 & 5 & 3 & pre & TRUE & 2023-05-01 13:02:00 & 3 & 4 & 4 & 4 & 6 & 7 & 7 & 10 & post & matched\\\\\n",
       "\t A\\_A\\_01\\_D & TRUE & 2023-05-02 14:13:00 & 6 & 5 & 5 & 3 & pre & TRUE & 2023-05-02 14:58:00 & 6 & 5 & 4 & 4 & 5 & 4 & 5 &  7 & post & matched\\\\\n",
       "\t A\\_A\\_01\\_M & TRUE & 2023-04-24 16:19:00 & 3 & 5 & 4 & 3 & pre & TRUE & 2023-04-24 17:01:00 & 5 & 5 & 4 & 4 & 5 & 4 & 5 &  7 & post & matched\\\\\n",
       "\t A\\_A\\_02\\_A & TRUE & 2023-05-03 13:03:00 & 4 & 4 & 4 & 4 & pre & TRUE & 2023-05-03 14:18:00 & 6 & 6 & 5 & 3 & 6 & 6 & 7 & 10 & post & matched\\\\\n",
       "\t A\\_A\\_02\\_C & TRUE & 2023-03-26 15:06:00 & 6 & 6 & 6 & 6 & pre & TRUE & 2023-03-26 15:55:00 & 6 & 6 & 6 & 6 & 6 & 6 & 6 & 10 & post & matched\\\\\n",
       "\t A\\_A\\_02\\_I & TRUE & 2023-04-14 10:46:00 & 7 & 7 & 7 & 7 & pre & TRUE & 2023-04-14 10:51:00 & 7 & 7 & 7 & 7 & 7 & 6 & 7 &  8 & post & matched\\\\\n",
       "\\end{tabular}\n"
      ],
      "text/markdown": [
       "\n",
       "A tibble: 6 × 20\n",
       "\n",
       "| id &lt;chr&gt; | Finished.x &lt;lgl&gt; | RecordedDate.x &lt;chr&gt; | Q1_a &lt;int&gt; | Q2_a &lt;int&gt; | Q3_a &lt;int&gt; | Q4_a &lt;int&gt; | Pre &lt;chr&gt; | Finished.y &lt;lgl&gt; | RecordedDate.y &lt;chr&gt; | Q1_b &lt;int&gt; | Q2_b &lt;int&gt; | Q3_b &lt;int&gt; | Q4_b &lt;int&gt; | Q5 &lt;int&gt; | Q6 &lt;int&gt; | Q7 &lt;int&gt; | Q8 &lt;int&gt; | Post &lt;chr&gt; | Matched &lt;chr&gt; |\n",
       "|---|---|---|---|---|---|---|---|---|---|---|---|---|---|---|---|---|---|---|---|\n",
       "| A_A_01_C | TRUE | 2023-05-01 12:21:00 | 3 | 2 | 5 | 3 | pre | TRUE | 2023-05-01 13:02:00 | 3 | 4 | 4 | 4 | 6 | 7 | 7 | 10 | post | matched |\n",
       "| A_A_01_D | TRUE | 2023-05-02 14:13:00 | 6 | 5 | 5 | 3 | pre | TRUE | 2023-05-02 14:58:00 | 6 | 5 | 4 | 4 | 5 | 4 | 5 |  7 | post | matched |\n",
       "| A_A_01_M | TRUE | 2023-04-24 16:19:00 | 3 | 5 | 4 | 3 | pre | TRUE | 2023-04-24 17:01:00 | 5 | 5 | 4 | 4 | 5 | 4 | 5 |  7 | post | matched |\n",
       "| A_A_02_A | TRUE | 2023-05-03 13:03:00 | 4 | 4 | 4 | 4 | pre | TRUE | 2023-05-03 14:18:00 | 6 | 6 | 5 | 3 | 6 | 6 | 7 | 10 | post | matched |\n",
       "| A_A_02_C | TRUE | 2023-03-26 15:06:00 | 6 | 6 | 6 | 6 | pre | TRUE | 2023-03-26 15:55:00 | 6 | 6 | 6 | 6 | 6 | 6 | 6 | 10 | post | matched |\n",
       "| A_A_02_I | TRUE | 2023-04-14 10:46:00 | 7 | 7 | 7 | 7 | pre | TRUE | 2023-04-14 10:51:00 | 7 | 7 | 7 | 7 | 7 | 6 | 7 |  8 | post | matched |\n",
       "\n"
      ],
      "text/plain": [
       "  id       Finished.x RecordedDate.x      Q1_a Q2_a Q3_a Q4_a Pre Finished.y\n",
       "1 A_A_01_C TRUE       2023-05-01 12:21:00 3    2    5    3    pre TRUE      \n",
       "2 A_A_01_D TRUE       2023-05-02 14:13:00 6    5    5    3    pre TRUE      \n",
       "3 A_A_01_M TRUE       2023-04-24 16:19:00 3    5    4    3    pre TRUE      \n",
       "4 A_A_02_A TRUE       2023-05-03 13:03:00 4    4    4    4    pre TRUE      \n",
       "5 A_A_02_C TRUE       2023-03-26 15:06:00 6    6    6    6    pre TRUE      \n",
       "6 A_A_02_I TRUE       2023-04-14 10:46:00 7    7    7    7    pre TRUE      \n",
       "  RecordedDate.y      Q1_b Q2_b Q3_b Q4_b Q5 Q6 Q7 Q8 Post Matched\n",
       "1 2023-05-01 13:02:00 3    4    4    4    6  7  7  10 post matched\n",
       "2 2023-05-02 14:58:00 6    5    4    4    5  4  5   7 post matched\n",
       "3 2023-04-24 17:01:00 5    5    4    4    5  4  5   7 post matched\n",
       "4 2023-05-03 14:18:00 6    6    5    3    6  6  7  10 post matched\n",
       "5 2023-03-26 15:55:00 6    6    6    6    6  6  6  10 post matched\n",
       "6 2023-04-14 10:51:00 7    7    7    7    7  6  7   8 post matched"
      ]
     },
     "metadata": {},
     "output_type": "display_data"
    }
   ],
   "source": [
    "head(df)"
   ]
  },
  {
   "cell_type": "code",
   "execution_count": 16,
   "metadata": {
    "vscode": {
     "languageId": "r"
    }
   },
   "outputs": [
    {
     "data": {
      "text/html": [
       "<table class=\"dataframe\">\n",
       "<caption>A tibble: 1 × 8</caption>\n",
       "<thead>\n",
       "\t<tr><th scope=col>mean_change_Q1</th><th scope=col>mean_change_Q2</th><th scope=col>mean_change_Q3</th><th scope=col>mean_change_Q4</th><th scope=col>wilcox_Q1</th><th scope=col>wilcox_Q2</th><th scope=col>wilcox_Q3</th><th scope=col>wilcox_Q4</th></tr>\n",
       "\t<tr><th scope=col>&lt;dbl&gt;</th><th scope=col>&lt;dbl&gt;</th><th scope=col>&lt;dbl&gt;</th><th scope=col>&lt;dbl&gt;</th><th scope=col>&lt;dbl&gt;</th><th scope=col>&lt;dbl&gt;</th><th scope=col>&lt;dbl&gt;</th><th scope=col>&lt;dbl&gt;</th></tr>\n",
       "</thead>\n",
       "<tbody>\n",
       "\t<tr><td>0.07053763</td><td>0.2305376</td><td>0.1221505</td><td>0.3195699</td><td>0.001272983</td><td>3.802891e-23</td><td>2.457798e-08</td><td>1.39444e-45</td></tr>\n",
       "</tbody>\n",
       "</table>\n"
      ],
      "text/latex": [
       "A tibble: 1 × 8\n",
       "\\begin{tabular}{llllllll}\n",
       " mean\\_change\\_Q1 & mean\\_change\\_Q2 & mean\\_change\\_Q3 & mean\\_change\\_Q4 & wilcox\\_Q1 & wilcox\\_Q2 & wilcox\\_Q3 & wilcox\\_Q4\\\\\n",
       " <dbl> & <dbl> & <dbl> & <dbl> & <dbl> & <dbl> & <dbl> & <dbl>\\\\\n",
       "\\hline\n",
       "\t 0.07053763 & 0.2305376 & 0.1221505 & 0.3195699 & 0.001272983 & 3.802891e-23 & 2.457798e-08 & 1.39444e-45\\\\\n",
       "\\end{tabular}\n"
      ],
      "text/markdown": [
       "\n",
       "A tibble: 1 × 8\n",
       "\n",
       "| mean_change_Q1 &lt;dbl&gt; | mean_change_Q2 &lt;dbl&gt; | mean_change_Q3 &lt;dbl&gt; | mean_change_Q4 &lt;dbl&gt; | wilcox_Q1 &lt;dbl&gt; | wilcox_Q2 &lt;dbl&gt; | wilcox_Q3 &lt;dbl&gt; | wilcox_Q4 &lt;dbl&gt; |\n",
       "|---|---|---|---|---|---|---|---|\n",
       "| 0.07053763 | 0.2305376 | 0.1221505 | 0.3195699 | 0.001272983 | 3.802891e-23 | 2.457798e-08 | 1.39444e-45 |\n",
       "\n"
      ],
      "text/plain": [
       "  mean_change_Q1 mean_change_Q2 mean_change_Q3 mean_change_Q4 wilcox_Q1  \n",
       "1 0.07053763     0.2305376      0.1221505      0.3195699      0.001272983\n",
       "  wilcox_Q2    wilcox_Q3    wilcox_Q4  \n",
       "1 3.802891e-23 2.457798e-08 1.39444e-45"
      ]
     },
     "metadata": {},
     "output_type": "display_data"
    }
   ],
   "source": [
    "library(dplyr)\n",
    "library(stats)\n",
    "\n",
    "# Filter rows where both pre and post surveys were completed\n",
    "completed_both <- df %>%\n",
    "  filter(Pre == 'pre', Post == 'post') %>%\n",
    "  select(matches(\"^Q[1-4]\"), starts_with(\"id\"))\n",
    "\n",
    "# Calculate the average change for each participant\n",
    "completed_both <- completed_both %>%\n",
    "  mutate(avg_change_Q1 = Q1_b - Q1_a,\n",
    "         avg_change_Q2 = Q2_b - Q2_a,\n",
    "         avg_change_Q3 = Q3_b - Q3_a,\n",
    "         avg_change_Q4 = Q4_b - Q4_a)\n",
    "\n",
    "# Perform Wilcoxon signed-rank test for each question\n",
    "result_summary <- completed_both %>%\n",
    "  summarise(mean_change_Q1 = mean(avg_change_Q1),\n",
    "            mean_change_Q2 = mean(avg_change_Q2),\n",
    "            mean_change_Q3 = mean(avg_change_Q3),\n",
    "            mean_change_Q4 = mean(avg_change_Q4),\n",
    "            wilcox_Q1 = wilcox.test(avg_change_Q1)$p.value,\n",
    "            wilcox_Q2 = wilcox.test(avg_change_Q2)$p.value,\n",
    "            wilcox_Q3 = wilcox.test(avg_change_Q3)$p.value,\n",
    "            wilcox_Q4 = wilcox.test(avg_change_Q4)$p.value)\n",
    "\n",
    "# Print the summary of Wilcoxon signed-rank test results\n",
    "result_summary\n"
   ]
  },
  {
   "cell_type": "code",
   "execution_count": 17,
   "metadata": {
    "vscode": {
     "languageId": "r"
    }
   },
   "outputs": [
    {
     "data": {
      "text/html": [
       "<table class=\"dataframe\">\n",
       "<caption>A tibble: 1 × 8</caption>\n",
       "<thead>\n",
       "\t<tr><th scope=col>mean_change_Q1</th><th scope=col>mean_change_Q2</th><th scope=col>mean_change_Q3</th><th scope=col>mean_change_Q4</th><th scope=col>wilcox_Q1</th><th scope=col>wilcox_Q2</th><th scope=col>wilcox_Q3</th><th scope=col>wilcox_Q4</th></tr>\n",
       "\t<tr><th scope=col>&lt;dbl&gt;</th><th scope=col>&lt;dbl&gt;</th><th scope=col>&lt;dbl&gt;</th><th scope=col>&lt;dbl&gt;</th><th scope=col>&lt;dbl&gt;</th><th scope=col>&lt;dbl&gt;</th><th scope=col>&lt;dbl&gt;</th><th scope=col>&lt;dbl&gt;</th></tr>\n",
       "</thead>\n",
       "<tbody>\n",
       "\t<tr><td>0.07053763</td><td>0.2305376</td><td>0.1221505</td><td>0.3195699</td><td>0.001272983</td><td>3.802891e-23</td><td>2.457798e-08</td><td>1.39444e-45</td></tr>\n",
       "</tbody>\n",
       "</table>\n"
      ],
      "text/latex": [
       "A tibble: 1 × 8\n",
       "\\begin{tabular}{llllllll}\n",
       " mean\\_change\\_Q1 & mean\\_change\\_Q2 & mean\\_change\\_Q3 & mean\\_change\\_Q4 & wilcox\\_Q1 & wilcox\\_Q2 & wilcox\\_Q3 & wilcox\\_Q4\\\\\n",
       " <dbl> & <dbl> & <dbl> & <dbl> & <dbl> & <dbl> & <dbl> & <dbl>\\\\\n",
       "\\hline\n",
       "\t 0.07053763 & 0.2305376 & 0.1221505 & 0.3195699 & 0.001272983 & 3.802891e-23 & 2.457798e-08 & 1.39444e-45\\\\\n",
       "\\end{tabular}\n"
      ],
      "text/markdown": [
       "\n",
       "A tibble: 1 × 8\n",
       "\n",
       "| mean_change_Q1 &lt;dbl&gt; | mean_change_Q2 &lt;dbl&gt; | mean_change_Q3 &lt;dbl&gt; | mean_change_Q4 &lt;dbl&gt; | wilcox_Q1 &lt;dbl&gt; | wilcox_Q2 &lt;dbl&gt; | wilcox_Q3 &lt;dbl&gt; | wilcox_Q4 &lt;dbl&gt; |\n",
       "|---|---|---|---|---|---|---|---|\n",
       "| 0.07053763 | 0.2305376 | 0.1221505 | 0.3195699 | 0.001272983 | 3.802891e-23 | 2.457798e-08 | 1.39444e-45 |\n",
       "\n"
      ],
      "text/plain": [
       "  mean_change_Q1 mean_change_Q2 mean_change_Q3 mean_change_Q4 wilcox_Q1  \n",
       "1 0.07053763     0.2305376      0.1221505      0.3195699      0.001272983\n",
       "  wilcox_Q2    wilcox_Q3    wilcox_Q4  \n",
       "1 3.802891e-23 2.457798e-08 1.39444e-45"
      ]
     },
     "metadata": {},
     "output_type": "display_data"
    }
   ],
   "source": [
    "qn_6 <- result_summary\n",
    "qn_6 # round to 2 decimal places"
   ]
  },
  {
   "cell_type": "code",
   "execution_count": 18,
   "metadata": {
    "vscode": {
     "languageId": "r"
    }
   },
   "outputs": [],
   "source": [
    "# write df to csv\n",
    "write.csv(qn_6, \"/Users/patrickokwir/Desktop/Lighthouse-data-notes/Jack-Talk-Surveys/data_output/qn_6.csv\", row.names = FALSE)"
   ]
  },
  {
   "cell_type": "code",
   "execution_count": 19,
   "metadata": {
    "vscode": {
     "languageId": "r"
    }
   },
   "outputs": [
    {
     "data": {
      "image/png": "[encoded data removed]",
      "text/plain": [
       "plot without title"
      ]
     },
     "metadata": {
      "image/png": {
       "height": 420,
       "width": 420
      }
     },
     "output_type": "display_data"
    }
   ],
   "source": [
    "#plot the results\n",
    "\n",
    "# Load the necessary library\n",
    "library(ggplot2)\n",
    "\n",
    "# data\n",
    "data_means <- data.frame(\n",
    "  question = c(\"Avg change Q1\", \"Avg change Q2\", \"Avg change Q3\", \"Avg change Q4\"),\n",
    "  mean_value = c(round(result_summary$mean_change_Q1, 3), \n",
    "                  round(result_summary$mean_change_Q2, 3), \n",
    "                  round(result_summary$mean_change_Q3, 3), \n",
    "                  round(result_summary$mean_change_Q4, 3))\n",
    ")\n",
    "\n",
    "ggplot(data_means, aes(x = question, y = mean_value, fill = question)) +\n",
    "  geom_col(width = 0.005, aes(color = factor(question))) + geom_point(size =10, aes(color = factor(question))) +\n",
    "  geom_text(aes(label = mean_value), position = position_stack(vjust = 1.3), color = \"white\") +\n",
    "  scale_fill_manual(values = rep(c(\"#0cb9f8\", \"#04d6b3\", \"#ee7503\", \"#a295eb\"), times = nrow(data_means))) +\n",
    "  theme_minimal() +\n",
    "  theme(plot.background = element_rect(fill = \"#050022\"),plot.margin = unit(c(1, 1, 1, 1), \"cm\"),\n",
    "        panel.background = element_rect(fill = \"#050022\"),\n",
    "        panel.grid.major = element_blank(),\n",
    "        panel.grid.minor = element_blank(),\n",
    "        axis.line = element_line(color = \"white\"),\n",
    "        axis.line.y = element_blank(),\n",
    "        axis.line.x = element_blank(),\n",
    "        axis.text = element_text(color = \"white\"),\n",
    "        axis.title = element_blank(),\n",
    "        axis.ticks = element_blank(),\n",
    "        legend.position = \"none\", \n",
    "        axis.title.y = element_text(color = \"white\"),\n",
    "        plot.title = element_text(color = \"white\", size = 17, lineheight = 5, vjust = -2, hjust = 0.5)) +\n",
    "  labs(title = \"Average Change Summary\",\n",
    "       y = \"Average Change\") +\n",
    "  ylim(c(0, max(data_means$mean_value) + 0.5))\n",
    "  #+ggsave(\"/Users/patrickokwir/Desktop/Lighthouse-data-notes/Jack-Talk-Surveys/assets/pre_post_change.png\", width = 8, height = 6, units = \"in\")"
   ]
  },
  {
   "cell_type": "markdown",
   "metadata": {},
   "source": [
    "`Overall, there are statistically significant differences between the average change in responses for each question between the pre and post surveys. The small p-values suggest that these differences are not likely due to random chance and that there is a meaningful change in responses.`\n",
    "\n",
    "`participants' responses have shown positive significant changes between the pre and post surveys for all four questions (Q1, Q2, Q3, and Q4). Q4 has the highest change in responses and the smallest p-value.`"
   ]
  },
  {
   "cell_type": "code",
   "execution_count": 20,
   "metadata": {
    "vscode": {
     "languageId": "r"
    }
   },
   "outputs": [
    {
     "name": "stderr",
     "output_type": "stream",
     "text": [
      "\n",
      "Attaching package: ‘MASS’\n",
      "\n",
      "\n",
      "The following object is masked from ‘package:dplyr’:\n",
      "\n",
      "    select\n",
      "\n",
      "\n"
     ]
    },
    {
     "name": "stdout",
     "output_type": "stream",
     "text": [
      "Call:\n",
      "polr(formula = Q8 ~ avg_change_Q1 + avg_change_Q2 + avg_change_Q3 + \n",
      "    avg_change_Q4 + Q5 + Q6 + Q7, data = df_final, method = \"logistic\")\n",
      "\n",
      "Coefficients:\n",
      "avg_change_Q1 avg_change_Q2 avg_change_Q3 avg_change_Q4            Q5 \n",
      " -0.024325011   0.008223761   0.006952743  -0.016423999   0.260370215 \n",
      "           Q6            Q7 \n",
      "  0.330539940   0.622831711 \n",
      "\n",
      "Intercepts:\n",
      "     0|1      1|2      2|3      3|4      4|5      5|6      6|7      7|8 \n",
      "1.416855 1.695719 2.141843 2.557531 3.054574 4.833245 5.438886 6.552497 \n",
      "     8|9     9|10 \n",
      "7.738843 8.508471 \n",
      "\n",
      "Residual Deviance: 8277.745 \n",
      "AIC: 8311.745 \n"
     ]
    }
   ],
   "source": [
    "df_final <- df\n",
    "\n",
    "library(MASS)\n",
    "library(dplyr)\n",
    "\n",
    "#polr requires the dependent variable to be a factor\n",
    "df_final$Q8 <- as.factor(df_final$Q8)\n",
    "\n",
    "# Calculate average change for each question\n",
    "df_final$avg_change_Q1 <- df_final$Q1_b - df_final$Q1_a\n",
    "df_final$avg_change_Q2 <- df_final$Q2_b - df_final$Q2_a\n",
    "df_final$avg_change_Q3 <- df_final$Q3_b - df_final$Q3_a\n",
    "df_final$avg_change_Q4 <- df_final$Q4_b - df_final$Q4_a\n",
    "\n",
    "# Fit the ordinal regression model\n",
    "model <- polr(Q8 ~ avg_change_Q1 + avg_change_Q2 + avg_change_Q3 + avg_change_Q4 + Q5 + Q6 + Q7, data = df_final, method = \"logistic\")\n",
    "\n",
    "# Print the model summary\n",
    "print(model)\n"
   ]
  },
  {
   "cell_type": "markdown",
   "metadata": {},
   "source": [
    "`Coefficients: These are the estimated coefficients for each predictor variable in the model.`\n",
    "\n",
    "`avg_change_Q1, avg_change_Q2, avg_change_Q3, and avg_change_Q4: These are the coefficients associated with the average change in Q1, Q2, Q3, and Q4, respectively. The negative sign for avg_change_Q1 and avg_change_Q4 suggests that an increase in the average change of these questions is associated with a lower likelihood of a higher response in Q8 (ordinal response).`\n",
    "\n",
    "`Q5, Q6, and Q7: These coefficients are associated with the predictor variables Q5, Q6, and Q7. For example, a positive coefficient for Q5 suggests that a higher value in Q7 is associated with a higher likelihood of a higher response in Q8.`"
   ]
  }
 ],
 "metadata": {
  "kernelspec": {
   "display_name": "R",
   "language": "R",
   "name": "ir"
  },
  "language_info": {
   "codemirror_mode": "r",
   "file_extension": ".r",
   "mimetype": "text/x-r-source",
   "name": "R",
   "pygments_lexer": "r",
   "version": "4.3.0"
  },
  "orig_nbformat": 4
 },
 "nbformat": 4,
 "nbformat_minor": 2
}
